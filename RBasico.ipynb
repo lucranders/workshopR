{
 "cells": [
  {
   "cell_type": "markdown",
   "metadata": {},
   "source": [
    "# Introdução"
   ]
  },
  {
   "cell_type": "markdown",
   "metadata": {},
   "source": [
    "### Tipos de variáveis"
   ]
  },
  {
   "cell_type": "code",
   "execution_count": 1,
   "metadata": {},
   "outputs": [
    {
     "name": "stdout",
     "output_type": "stream",
     "text": [
      "[1] \"integer double integer logical character\"\n"
     ]
    }
   ],
   "source": [
    "# Numericas\n",
    "a11 = as.integer(4)\n",
    "a12 = as.numeric(4)\n",
    "a13 = as.factor('oi')\n",
    "\n",
    "# Logicas\n",
    "a14 = FALSE\n",
    "# character\n",
    "a2 = 'oi'\n",
    "\n",
    "# print - funcao para imprimir na tela\n",
    "# paste - funcao para concatenar texto\n",
    "# typeof - funcao indicadora do tipo de variavel\n",
    "print(paste(typeof(a11) , typeof(a12) , typeof(a13) , typeof(a14) ,typeof(a2)))"
   ]
  },
  {
   "cell_type": "code",
   "execution_count": 2,
   "metadata": {},
   "outputs": [
    {
     "name": "stdout",
     "output_type": "stream",
     "text": [
      "[1] 1\n",
      "[1] oi\n",
      "Levels: oi\n"
     ]
    }
   ],
   "source": [
    "# fatores sao variaveis categoricas mapeadas para valores inteiros\n",
    "print(as.numeric(a13))\n",
    "print(a13)"
   ]
  },
  {
   "cell_type": "code",
   "execution_count": 3,
   "metadata": {
    "scrolled": true
   },
   "outputs": [
    {
     "name": "stdout",
     "output_type": "stream",
     "text": [
      "[1] 489\n",
      "Levels: 489\n"
     ]
    }
   ],
   "source": [
    "# cuidados\n",
    "a3 = as.factor('489')\n",
    "print(a3)"
   ]
  },
  {
   "cell_type": "code",
   "execution_count": 4,
   "metadata": {},
   "outputs": [
    {
     "name": "stdout",
     "output_type": "stream",
     "text": [
      "[1] \"489\"\n"
     ]
    }
   ],
   "source": [
    "print(levels(a3))"
   ]
  },
  {
   "cell_type": "code",
   "execution_count": 5,
   "metadata": {},
   "outputs": [
    {
     "name": "stdout",
     "output_type": "stream",
     "text": [
      "[1] \"integer\"\n"
     ]
    }
   ],
   "source": [
    "print(typeof(a3))"
   ]
  },
  {
   "cell_type": "code",
   "execution_count": 6,
   "metadata": {},
   "outputs": [
    {
     "name": "stdout",
     "output_type": "stream",
     "text": [
      "[1] 1\n"
     ]
    }
   ],
   "source": [
    "print(as.numeric(a3))"
   ]
  },
  {
   "cell_type": "code",
   "execution_count": 7,
   "metadata": {},
   "outputs": [
    {
     "name": "stdout",
     "output_type": "stream",
     "text": [
      "[1] 489\n"
     ]
    }
   ],
   "source": [
    "# Para recuperar o 'valor original', deve-se mapear para character primeiro\n",
    "print(as.numeric(as.character(a3)))"
   ]
  },
  {
   "cell_type": "code",
   "execution_count": 8,
   "metadata": {},
   "outputs": [
    {
     "name": "stdout",
     "output_type": "stream",
     "text": [
      "[1] \"Vetor:\"\n",
      "[1] 4 6 8\n"
     ]
    }
   ],
   "source": [
    "# vetor - estrutura para armazenar diversos valores - do mesmo tipo\n",
    "# A sintaxe para criacao de vetores: c(x1,x2,x3...)\n",
    "b1 = c(4,6,8)\n",
    "print('Vetor:')\n",
    "print(b1)"
   ]
  },
  {
   "cell_type": "code",
   "execution_count": 9,
   "metadata": {},
   "outputs": [
    {
     "name": "stdout",
     "output_type": "stream",
     "text": [
      "[1] 4\n",
      "[1] 6\n",
      "[1] 8\n",
      "[1] \"double double double\"\n"
     ]
    }
   ],
   "source": [
    "# para acessar os valores, basta utilizar [x],em que x seria a posicao desejada\n",
    "print( b1[1] )\n",
    "print( b1[2] )\n",
    "print( b1[3] )\n",
    "print(paste(typeof(b1[1]) , typeof(b1[2]) , typeof(b1[3]) ))"
   ]
  },
  {
   "cell_type": "code",
   "execution_count": 10,
   "metadata": {},
   "outputs": [
    {
     "name": "stdout",
     "output_type": "stream",
     "text": [
      "[1] 1 2 3\n",
      "[1] 1 4 9\n",
      "[1] 0.5 1.0 1.5\n",
      "[1] 2 4 6\n",
      "[1] \"1\" \"2\" \"3\"\n",
      "[1] \"1_\" \"2_\" \"3_\"\n"
     ]
    }
   ],
   "source": [
    "# Qualquer operacao realizada em um vetor, sera realizada para todos os seus elementos\n",
    "c1 = c(1 ,2 ,3)\n",
    "print(c1)\n",
    "# Elevar a potencia\n",
    "print(c1^2)\n",
    "# Dividir\n",
    "print(c1/2)\n",
    "# Multiplicar\n",
    "print(c1*2)\n",
    "# Qualquer operacao\n",
    "print(as.character(c1))\n",
    "print(paste0(c1,'_'))"
   ]
  },
  {
   "cell_type": "code",
   "execution_count": 11,
   "metadata": {},
   "outputs": [
    {
     "name": "stdout",
     "output_type": "stream",
     "text": [
      "[1] 2\n",
      "[1] 6\n"
     ]
    }
   ],
   "source": [
    "# Mas pode-se realizar uma operacao em apenas um item\n",
    "print(c1[2])\n",
    "print(c1[2]*3)"
   ]
  },
  {
   "cell_type": "code",
   "execution_count": 12,
   "metadata": {},
   "outputs": [
    {
     "name": "stdout",
     "output_type": "stream",
     "text": [
      "[1] 3\n"
     ]
    }
   ],
   "source": [
    "# Pode-se saber tambem quantos elementos o vetor tem:\n",
    "print(length(c1))"
   ]
  },
  {
   "cell_type": "code",
   "execution_count": 13,
   "metadata": {},
   "outputs": [
    {
     "data": {
      "text/html": [
       "<style>\n",
       ".list-inline {list-style: none; margin:0; padding: 0}\n",
       ".list-inline>li {display: inline-block}\n",
       ".list-inline>li:not(:last-child)::after {content: \"\\00b7\"; padding: 0 .5ex}\n",
       "</style>\n",
       "<ol class=list-inline><li>A</li><li>A</li><li>A</li><li>B</li><li>B</li><li>B</li></ol>\n",
       "\n",
       "<details>\n",
       "\t<summary style=display:list-item;cursor:pointer>\n",
       "\t\t<strong>Levels</strong>:\n",
       "\t</summary>\n",
       "\t<style>\n",
       "\t.list-inline {list-style: none; margin:0; padding: 0}\n",
       "\t.list-inline>li {display: inline-block}\n",
       "\t.list-inline>li:not(:last-child)::after {content: \"\\00b7\"; padding: 0 .5ex}\n",
       "\t</style>\n",
       "\t<ol class=list-inline><li>'A'</li><li>'B'</li></ol>\n",
       "</details>"
      ],
      "text/latex": [
       "\\begin{enumerate*}\n",
       "\\item A\n",
       "\\item A\n",
       "\\item A\n",
       "\\item B\n",
       "\\item B\n",
       "\\item B\n",
       "\\end{enumerate*}\n",
       "\n",
       "\\emph{Levels}: \\begin{enumerate*}\n",
       "\\item 'A'\n",
       "\\item 'B'\n",
       "\\end{enumerate*}\n"
      ],
      "text/markdown": [
       "1. A\n",
       "2. A\n",
       "3. A\n",
       "4. B\n",
       "5. B\n",
       "6. B\n",
       "\n",
       "\n",
       "\n",
       "**Levels**: 1. 'A'\n",
       "2. 'B'\n",
       "\n",
       "\n"
      ],
      "text/plain": [
       "[1] A A A B B B\n",
       "Levels: A B"
      ]
     },
     "metadata": {},
     "output_type": "display_data"
    }
   ],
   "source": [
    "tratamento = c('A','A','A','B','B','B')\n",
    "tratamento = as.factor(tratamento)\n",
    "tratamento"
   ]
  },
  {
   "cell_type": "code",
   "execution_count": 14,
   "metadata": {},
   "outputs": [
    {
     "data": {
      "text/html": [
       "<style>\n",
       ".list-inline {list-style: none; margin:0; padding: 0}\n",
       ".list-inline>li {display: inline-block}\n",
       ".list-inline>li:not(:last-child)::after {content: \"\\00b7\"; padding: 0 .5ex}\n",
       "</style>\n",
       "<ol class=list-inline><li>'A'</li><li>'B'</li></ol>\n"
      ],
      "text/latex": [
       "\\begin{enumerate*}\n",
       "\\item 'A'\n",
       "\\item 'B'\n",
       "\\end{enumerate*}\n"
      ],
      "text/markdown": [
       "1. 'A'\n",
       "2. 'B'\n",
       "\n",
       "\n"
      ],
      "text/plain": [
       "[1] \"A\" \"B\""
      ]
     },
     "metadata": {},
     "output_type": "display_data"
    }
   ],
   "source": [
    "levels(tratamento)"
   ]
  },
  {
   "cell_type": "code",
   "execution_count": 15,
   "metadata": {},
   "outputs": [
    {
     "data": {
      "text/html": [
       "<style>\n",
       ".list-inline {list-style: none; margin:0; padding: 0}\n",
       ".list-inline>li {display: inline-block}\n",
       ".list-inline>li:not(:last-child)::after {content: \"\\00b7\"; padding: 0 .5ex}\n",
       "</style>\n",
       "<ol class=list-inline><li>1</li><li>1</li><li>1</li><li>2</li><li>2</li><li>2</li></ol>\n"
      ],
      "text/latex": [
       "\\begin{enumerate*}\n",
       "\\item 1\n",
       "\\item 1\n",
       "\\item 1\n",
       "\\item 2\n",
       "\\item 2\n",
       "\\item 2\n",
       "\\end{enumerate*}\n"
      ],
      "text/markdown": [
       "1. 1\n",
       "2. 1\n",
       "3. 1\n",
       "4. 2\n",
       "5. 2\n",
       "6. 2\n",
       "\n",
       "\n"
      ],
      "text/plain": [
       "[1] 1 1 1 2 2 2"
      ]
     },
     "metadata": {},
     "output_type": "display_data"
    }
   ],
   "source": [
    "as.numeric(tratamento)"
   ]
  },
  {
   "cell_type": "code",
   "execution_count": 16,
   "metadata": {},
   "outputs": [
    {
     "name": "stdout",
     "output_type": "stream",
     "text": [
      "[1] \"character character character\"\n"
     ]
    }
   ],
   "source": [
    "# Se houver um 'char', todos os valores serao convertidos para char\n",
    "b1 = c(1 , 'a' , 5)\n",
    "print(paste(typeof(b1[1]) , typeof(b1[2]) , typeof(b1[3]) ))"
   ]
  },
  {
   "cell_type": "code",
   "execution_count": 17,
   "metadata": {},
   "outputs": [
    {
     "name": "stdout",
     "output_type": "stream",
     "text": [
      "[1] \"Lista:\"\n",
      "[[1]]\n",
      "[1] \"a\" \"b\"\n",
      "\n",
      "[[2]]\n",
      "[1] 45\n",
      "\n",
      "[[3]]\n",
      "[1] \"oi\"\n",
      "\n"
     ]
    }
   ],
   "source": [
    "# lista - estrutura mais flexivel - suporta diversas estruturas, de diversos tipos\n",
    "b2 = list(c('a','b') , 45 , 'oi')\n",
    "print('Lista:')\n",
    "print(b2)"
   ]
  },
  {
   "cell_type": "code",
   "execution_count": 18,
   "metadata": {},
   "outputs": [
    {
     "data": {
      "text/html": [
       "'b'"
      ],
      "text/latex": [
       "'b'"
      ],
      "text/markdown": [
       "'b'"
      ],
      "text/plain": [
       "[1] \"b\""
      ]
     },
     "metadata": {},
     "output_type": "display_data"
    }
   ],
   "source": [
    "vetor1 = b2[[1]]\n",
    "vetor1[2]"
   ]
  },
  {
   "cell_type": "code",
   "execution_count": 19,
   "metadata": {},
   "outputs": [
    {
     "data": {
      "text/html": [
       "45"
      ],
      "text/latex": [
       "45"
      ],
      "text/markdown": [
       "45"
      ],
      "text/plain": [
       "[1] 45"
      ]
     },
     "metadata": {},
     "output_type": "display_data"
    }
   ],
   "source": [
    "b2[[2]]"
   ]
  },
  {
   "cell_type": "code",
   "execution_count": 20,
   "metadata": {},
   "outputs": [
    {
     "name": "stdout",
     "output_type": "stream",
     "text": [
      "[1] \"a\" \"b\"\n",
      "[1] \"Primeiro elemento do vetor (primeiro da lista)\"\n",
      "[1] \"a\"\n",
      "[1] \"Segundo elemento do vetor (primeiro da lista)\"\n",
      "[1] \"b\"\n",
      "[1] 45\n",
      "[1] \"oi\"\n",
      "[1] \"character double character\"\n"
     ]
    }
   ],
   "source": [
    "# para acessar os valores, basta utilizar [[x]],em que x seria a posicao desejada\n",
    "print(b2[[1]])\n",
    "# todos os elementos mantem suas propriedades. Neste caso, o primeiro elemento eh um vetor\n",
    "# Para acessar seus elementos, basta acessa-los se acessasse valores em um vetor\n",
    "\n",
    "print('Primeiro elemento do vetor (primeiro da lista)')\n",
    "print(b2[[1]][1])\n",
    "print('Segundo elemento do vetor (primeiro da lista)')\n",
    "print(b2[[1]][2])\n",
    "\n",
    "print(b2[[2]])\n",
    "print(b2[[3]] )\n",
    "print(paste(typeof(b2[[1]]) , typeof(b2[[2]]) , typeof(b2[[3]]) ))"
   ]
  },
  {
   "cell_type": "code",
   "execution_count": 21,
   "metadata": {},
   "outputs": [
    {
     "name": "stdout",
     "output_type": "stream",
     "text": [
      "[1] \"a 2 oi\"\n",
      "[1] \"character double character\"\n"
     ]
    }
   ],
   "source": [
    "# Perceba que pode-se associar nomes aos elementos da lista\n",
    "b2 = list( a1 = 'a' , a2 = 2 , a3 = 'oi')\n",
    "# Assim, pode-se acessa-os utilizando o operador '$'\n",
    "print(paste(b2$a1 , b2$a2 , b2$a3 ))\n",
    "print(paste(typeof(b2$a1) , typeof(b2$a2) , typeof(b2$a3) ))"
   ]
  },
  {
   "cell_type": "markdown",
   "metadata": {},
   "source": [
    "Ao se manipular dados no R, é essencial que se entenda o funcionamento de operações em vetores, pois os dataframes (principal estrutura utilizada na análise de dados) são um conjunto de vetores associado a um índice. A convenção utilizada na análise de dados é que cada linha represente um conjunto de variáveis (isto é, por exemplo, a primeira linha poderia se referir a um paciente em um hospital, e cada coluna da primeira linha deverá se referir às informações atribuídas a ele, como por exemplo, a coluna 1 ser a altura, a coluna 2 o peso, a coluna 3 a pressão, etc)."
   ]
  },
  {
   "cell_type": "markdown",
   "metadata": {},
   "source": [
    "### Loops"
   ]
  },
  {
   "cell_type": "code",
   "execution_count": 22,
   "metadata": {},
   "outputs": [
    {
     "name": "stdout",
     "output_type": "stream",
     "text": [
      "[1] \"val_ agora vale: 1\"\n",
      "[1] \"val_ agora vale: 2\"\n",
      "[1] \"val_ agora vale: 3\"\n",
      "[1] \"val_ agora vale: 4\"\n",
      "[1] \"val_ agora vale: 5\"\n",
      "[1] \"val_ agora vale: 6\"\n",
      "[1] \"val_ agora vale: 7\"\n",
      "[1] \"val_ agora vale: 8\"\n",
      "[1] \"val_ agora vale: 9\"\n",
      "[1] \"val_ agora vale: 10\"\n"
     ]
    }
   ],
   "source": [
    "# Sao estruturas que repetem determinada acao seguindo algum criterio\n",
    "\n",
    "# loop for: Dado um conjunto de valores, itera sobre cada um, de forma sequencial.\n",
    "# Ex:\n",
    "\n",
    "valores = 1:10\n",
    "\n",
    "for(val_ in valores){\n",
    "    \n",
    "#     val_: variavel temporaria, que a cada iteracao, assumira um valor da vetor 'valores' \n",
    "#     de forma sequencial\n",
    "    print(paste('val_ agora vale:' , val_))\n",
    "    \n",
    "}"
   ]
  },
  {
   "cell_type": "code",
   "execution_count": 23,
   "metadata": {},
   "outputs": [
    {
     "name": "stdout",
     "output_type": "stream",
     "text": [
      "[1] \"cont_ agora vale: 0\"\n",
      "[1] \"cont_ agora vale: 1\"\n",
      "[1] \"cont_ agora vale: 2\"\n",
      "[1] \"cont_ agora vale: 3\"\n",
      "[1] \"cont_ agora vale: 4\"\n",
      "[1] \"cont_ agora vale: 5\"\n",
      "[1] \"cont_ agora vale: 6\"\n",
      "[1] \"cont_ agora vale: 7\"\n",
      "[1] \"cont_ agora vale: 8\"\n",
      "[1] \"cont_ agora vale: 9\"\n"
     ]
    }
   ],
   "source": [
    "# No R, os principais operadores logicos sao:\n",
    "# | - ou\n",
    "# & - e\n",
    "# == - igual\n",
    "# != - diferente\n",
    "# ! - negacao\n",
    "# >,<,>=,<= - maior, menor, maior ou igual, menor ou igual\n",
    "\n",
    "# While: repete acoes ate determinada condicao ser verdadeira\n",
    "cont_ = 0\n",
    "while(cont_ != 10){\n",
    "    \n",
    "    print(paste0('cont_ agora vale: ' , cont_))\n",
    "#     Pode-se fazer o update da variavel da seguinte forma\n",
    "    cont_ = cont_ + 1\n",
    "    \n",
    "}"
   ]
  },
  {
   "cell_type": "markdown",
   "metadata": {},
   "source": [
    "### Exemplo"
   ]
  },
  {
   "cell_type": "markdown",
   "metadata": {},
   "source": [
    "No código abaixo, são criados três vetores distintos, mas cujo intuito seria representar um dataframe. Suponha que trate-se de um experimento em que há dois grupos de voluntários (cada um representado por um número - id): aqueles que passaram pelo tratamento A, e aqueles que passaram pelo B (trat). Assim, realizado o experimento, cada um teve suas medidas tiradas (representadas por $y$)."
   ]
  },
  {
   "cell_type": "code",
   "execution_count": 24,
   "metadata": {},
   "outputs": [],
   "source": [
    "id = 1:20\n",
    "y<- c(89.7, 81.4, 84.5, 84.8, 87.3, 79.7, 85.1, 81.7, 83.7, 84.5, 84.7, 86.1, 83.2, 91.9, 86.3, 79.3, 82.6, 89.1, 83.7, 88.5)\n",
    "trat <- c ( rep ( \"A\" , 10 ) ,rep ( \"B\", 10 ) )\n",
    "# Juntando os diferentes vetores em uma lista\n",
    "juntos = list(id,trat,y)"
   ]
  },
  {
   "cell_type": "code",
   "execution_count": 25,
   "metadata": {},
   "outputs": [
    {
     "data": {
      "text/html": [
       "<table>\n",
       "<caption>A data.frame: 5 × 3</caption>\n",
       "<thead>\n",
       "\t<tr><th></th><th scope=col>ID</th><th scope=col>Trat</th><th scope=col>Resposta</th></tr>\n",
       "\t<tr><th></th><th scope=col>&lt;int&gt;</th><th scope=col>&lt;chr&gt;</th><th scope=col>&lt;dbl&gt;</th></tr>\n",
       "</thead>\n",
       "<tbody>\n",
       "\t<tr><th scope=row>1</th><td>1</td><td>A</td><td>89.7</td></tr>\n",
       "\t<tr><th scope=row>2</th><td>2</td><td>A</td><td>81.4</td></tr>\n",
       "\t<tr><th scope=row>3</th><td>3</td><td>A</td><td>84.5</td></tr>\n",
       "\t<tr><th scope=row>4</th><td>4</td><td>A</td><td>84.8</td></tr>\n",
       "\t<tr><th scope=row>5</th><td>5</td><td>A</td><td>87.3</td></tr>\n",
       "</tbody>\n",
       "</table>\n"
      ],
      "text/latex": [
       "A data.frame: 5 × 3\n",
       "\\begin{tabular}{r|lll}\n",
       "  & ID & Trat & Resposta\\\\\n",
       "  & <int> & <chr> & <dbl>\\\\\n",
       "\\hline\n",
       "\t1 & 1 & A & 89.7\\\\\n",
       "\t2 & 2 & A & 81.4\\\\\n",
       "\t3 & 3 & A & 84.5\\\\\n",
       "\t4 & 4 & A & 84.8\\\\\n",
       "\t5 & 5 & A & 87.3\\\\\n",
       "\\end{tabular}\n"
      ],
      "text/markdown": [
       "\n",
       "A data.frame: 5 × 3\n",
       "\n",
       "| <!--/--> | ID &lt;int&gt; | Trat &lt;chr&gt; | Resposta &lt;dbl&gt; |\n",
       "|---|---|---|---|\n",
       "| 1 | 1 | A | 89.7 |\n",
       "| 2 | 2 | A | 81.4 |\n",
       "| 3 | 3 | A | 84.5 |\n",
       "| 4 | 4 | A | 84.8 |\n",
       "| 5 | 5 | A | 87.3 |\n",
       "\n"
      ],
      "text/plain": [
       "  ID Trat Resposta\n",
       "1 1  A    89.7    \n",
       "2 2  A    81.4    \n",
       "3 3  A    84.5    \n",
       "4 4  A    84.8    \n",
       "5 5  A    87.3    "
      ]
     },
     "metadata": {},
     "output_type": "display_data"
    }
   ],
   "source": [
    "# Transformando a lista em um dataframe\n",
    "df = as.data.frame ( juntos , stringsAsFactors = F )\n",
    "# assimilando nomes as colunas\n",
    "colnames(df) = c('ID','Trat','Resposta')\n",
    "# mostrando primeiras 5 linhas do df\n",
    "head ( df , 5 )"
   ]
  },
  {
   "cell_type": "code",
   "execution_count": 26,
   "metadata": {
    "scrolled": false
   },
   "outputs": [
    {
     "data": {
      "text/html": [
       "<table>\n",
       "<caption>A data.frame: 5 × 3</caption>\n",
       "<thead>\n",
       "\t<tr><th></th><th scope=col>ID</th><th scope=col>Trat</th><th scope=col>Resposta</th></tr>\n",
       "\t<tr><th></th><th scope=col>&lt;dbl&gt;</th><th scope=col>&lt;chr&gt;</th><th scope=col>&lt;dbl&gt;</th></tr>\n",
       "</thead>\n",
       "<tbody>\n",
       "\t<tr><th scope=row>18</th><td>18</td><td>B</td><td>89.1</td></tr>\n",
       "\t<tr><th scope=row>19</th><td>19</td><td>B</td><td>83.7</td></tr>\n",
       "\t<tr><th scope=row>20</th><td>20</td><td>B</td><td>88.5</td></tr>\n",
       "\t<tr><th scope=row>21</th><td>21</td><td>B</td><td>90.0</td></tr>\n",
       "\t<tr><th scope=row>22</th><td>22</td><td>A</td><td>84.0</td></tr>\n",
       "</tbody>\n",
       "</table>\n"
      ],
      "text/latex": [
       "A data.frame: 5 × 3\n",
       "\\begin{tabular}{r|lll}\n",
       "  & ID & Trat & Resposta\\\\\n",
       "  & <dbl> & <chr> & <dbl>\\\\\n",
       "\\hline\n",
       "\t18 & 18 & B & 89.1\\\\\n",
       "\t19 & 19 & B & 83.7\\\\\n",
       "\t20 & 20 & B & 88.5\\\\\n",
       "\t21 & 21 & B & 90.0\\\\\n",
       "\t22 & 22 & A & 84.0\\\\\n",
       "\\end{tabular}\n"
      ],
      "text/markdown": [
       "\n",
       "A data.frame: 5 × 3\n",
       "\n",
       "| <!--/--> | ID &lt;dbl&gt; | Trat &lt;chr&gt; | Resposta &lt;dbl&gt; |\n",
       "|---|---|---|---|\n",
       "| 18 | 18 | B | 89.1 |\n",
       "| 19 | 19 | B | 83.7 |\n",
       "| 20 | 20 | B | 88.5 |\n",
       "| 21 | 21 | B | 90.0 |\n",
       "| 22 | 22 | A | 84.0 |\n",
       "\n"
      ],
      "text/plain": [
       "   ID Trat Resposta\n",
       "18 18 B    89.1    \n",
       "19 19 B    83.7    \n",
       "20 20 B    88.5    \n",
       "21 21 B    90.0    \n",
       "22 22 A    84.0    "
      ]
     },
     "metadata": {},
     "output_type": "display_data"
    }
   ],
   "source": [
    "# Suponha que desejamos acrescentar dois voluntarios\n",
    "# O primeiro tem informações 90 (y) \"B\" (method) - id 21\n",
    "# O segundo tem informações 84 (y) \"A\" (method) - id 22\n",
    "dfExpandido = rbind ( df , list ( 21 , \"B\" , 90.0 ) , list ( 22 , \"A\" , 84.0 ) )\n",
    "# mostrando ultimas 5 linhas do df\n",
    "tail(dfExpandido , 5)"
   ]
  },
  {
   "cell_type": "code",
   "execution_count": 27,
   "metadata": {},
   "outputs": [
    {
     "data": {
      "text/html": [
       "<table>\n",
       "<caption>A data.frame: 5 × 2</caption>\n",
       "<thead>\n",
       "\t<tr><th></th><th scope=col>Voluntario</th><th scope=col>Altura</th></tr>\n",
       "\t<tr><th></th><th scope=col>&lt;int&gt;</th><th scope=col>&lt;dbl&gt;</th></tr>\n",
       "</thead>\n",
       "<tbody>\n",
       "\t<tr><th scope=row>1</th><td> 1</td><td>1.76</td></tr>\n",
       "\t<tr><th scope=row>2</th><td>16</td><td>1.65</td></tr>\n",
       "\t<tr><th scope=row>3</th><td>21</td><td>1.73</td></tr>\n",
       "\t<tr><th scope=row>4</th><td> 8</td><td>1.70</td></tr>\n",
       "\t<tr><th scope=row>5</th><td> 3</td><td>1.75</td></tr>\n",
       "</tbody>\n",
       "</table>\n"
      ],
      "text/latex": [
       "A data.frame: 5 × 2\n",
       "\\begin{tabular}{r|ll}\n",
       "  & Voluntario & Altura\\\\\n",
       "  & <int> & <dbl>\\\\\n",
       "\\hline\n",
       "\t1 &  1 & 1.76\\\\\n",
       "\t2 & 16 & 1.65\\\\\n",
       "\t3 & 21 & 1.73\\\\\n",
       "\t4 &  8 & 1.70\\\\\n",
       "\t5 &  3 & 1.75\\\\\n",
       "\\end{tabular}\n"
      ],
      "text/markdown": [
       "\n",
       "A data.frame: 5 × 2\n",
       "\n",
       "| <!--/--> | Voluntario &lt;int&gt; | Altura &lt;dbl&gt; |\n",
       "|---|---|---|\n",
       "| 1 |  1 | 1.76 |\n",
       "| 2 | 16 | 1.65 |\n",
       "| 3 | 21 | 1.73 |\n",
       "| 4 |  8 | 1.70 |\n",
       "| 5 |  3 | 1.75 |\n",
       "\n"
      ],
      "text/plain": [
       "  Voluntario Altura\n",
       "1  1         1.76  \n",
       "2 16         1.65  \n",
       "3 21         1.73  \n",
       "4  8         1.70  \n",
       "5  3         1.75  "
      ]
     },
     "metadata": {},
     "output_type": "display_data"
    }
   ],
   "source": [
    "# Suponha agora que temos a informação da altura de parte dos pacientes\n",
    "# Sejam 15 pacientes\n",
    "n_ = 15\n",
    "# acrescentando uma semente para processos aleatorios\n",
    "set.seed(9297791)\n",
    "# Selecionados aleatoriamente, sem reposicao 15 pacientes\n",
    "id = sample(x = 1:22 , size = n_ , replace = F )\n",
    "# gerando valores aleatorios, seguindo distribicao normalm media 1.7, dp 0.1\n",
    "y2 = rnorm(n = n_ , mean = 1.7 , sd = .1 )\n",
    "# arredondando para apenas duas casas decimais\n",
    "y2 = round( x = y2 , digits = 2 )\n",
    "# criando df2\n",
    "# Repare que pode-se dar nomes aos itens de uma lista\n",
    "df2 = as.data.frame(list( Voluntario = id , Altura = y2 ))\n",
    "# primeiras 5 linhas\n",
    "head(df2 , 5)"
   ]
  },
  {
   "cell_type": "code",
   "execution_count": 28,
   "metadata": {},
   "outputs": [
    {
     "data": {
      "text/html": [
       "<table>\n",
       "<caption>A data.frame: 10 × 4</caption>\n",
       "<thead>\n",
       "\t<tr><th></th><th scope=col>ID</th><th scope=col>Trat</th><th scope=col>Resposta</th><th scope=col>Altura</th></tr>\n",
       "\t<tr><th></th><th scope=col>&lt;dbl&gt;</th><th scope=col>&lt;chr&gt;</th><th scope=col>&lt;dbl&gt;</th><th scope=col>&lt;dbl&gt;</th></tr>\n",
       "</thead>\n",
       "<tbody>\n",
       "\t<tr><th scope=row>1</th><td> 1</td><td>A</td><td>89.7</td><td>1.76</td></tr>\n",
       "\t<tr><th scope=row>2</th><td> 2</td><td>A</td><td>81.4</td><td>1.79</td></tr>\n",
       "\t<tr><th scope=row>3</th><td> 3</td><td>A</td><td>84.5</td><td>1.75</td></tr>\n",
       "\t<tr><th scope=row>4</th><td> 4</td><td>A</td><td>84.8</td><td>1.77</td></tr>\n",
       "\t<tr><th scope=row>5</th><td> 5</td><td>A</td><td>87.3</td><td>1.65</td></tr>\n",
       "\t<tr><th scope=row>6</th><td> 6</td><td>A</td><td>79.7</td><td>1.71</td></tr>\n",
       "\t<tr><th scope=row>7</th><td> 7</td><td>A</td><td>85.1</td><td>1.78</td></tr>\n",
       "\t<tr><th scope=row>8</th><td> 8</td><td>A</td><td>81.7</td><td>1.70</td></tr>\n",
       "\t<tr><th scope=row>9</th><td> 9</td><td>A</td><td>83.7</td><td>  NA</td></tr>\n",
       "\t<tr><th scope=row>10</th><td>10</td><td>A</td><td>84.5</td><td>  NA</td></tr>\n",
       "</tbody>\n",
       "</table>\n"
      ],
      "text/latex": [
       "A data.frame: 10 × 4\n",
       "\\begin{tabular}{r|llll}\n",
       "  & ID & Trat & Resposta & Altura\\\\\n",
       "  & <dbl> & <chr> & <dbl> & <dbl>\\\\\n",
       "\\hline\n",
       "\t1 &  1 & A & 89.7 & 1.76\\\\\n",
       "\t2 &  2 & A & 81.4 & 1.79\\\\\n",
       "\t3 &  3 & A & 84.5 & 1.75\\\\\n",
       "\t4 &  4 & A & 84.8 & 1.77\\\\\n",
       "\t5 &  5 & A & 87.3 & 1.65\\\\\n",
       "\t6 &  6 & A & 79.7 & 1.71\\\\\n",
       "\t7 &  7 & A & 85.1 & 1.78\\\\\n",
       "\t8 &  8 & A & 81.7 & 1.70\\\\\n",
       "\t9 &  9 & A & 83.7 &   NA\\\\\n",
       "\t10 & 10 & A & 84.5 &   NA\\\\\n",
       "\\end{tabular}\n"
      ],
      "text/markdown": [
       "\n",
       "A data.frame: 10 × 4\n",
       "\n",
       "| <!--/--> | ID &lt;dbl&gt; | Trat &lt;chr&gt; | Resposta &lt;dbl&gt; | Altura &lt;dbl&gt; |\n",
       "|---|---|---|---|---|\n",
       "| 1 |  1 | A | 89.7 | 1.76 |\n",
       "| 2 |  2 | A | 81.4 | 1.79 |\n",
       "| 3 |  3 | A | 84.5 | 1.75 |\n",
       "| 4 |  4 | A | 84.8 | 1.77 |\n",
       "| 5 |  5 | A | 87.3 | 1.65 |\n",
       "| 6 |  6 | A | 79.7 | 1.71 |\n",
       "| 7 |  7 | A | 85.1 | 1.78 |\n",
       "| 8 |  8 | A | 81.7 | 1.70 |\n",
       "| 9 |  9 | A | 83.7 |   NA |\n",
       "| 10 | 10 | A | 84.5 |   NA |\n",
       "\n"
      ],
      "text/plain": [
       "   ID Trat Resposta Altura\n",
       "1   1 A    89.7     1.76  \n",
       "2   2 A    81.4     1.79  \n",
       "3   3 A    84.5     1.75  \n",
       "4   4 A    84.8     1.77  \n",
       "5   5 A    87.3     1.65  \n",
       "6   6 A    79.7     1.71  \n",
       "7   7 A    85.1     1.78  \n",
       "8   8 A    81.7     1.70  \n",
       "9   9 A    83.7       NA  \n",
       "10 10 A    84.5       NA  "
      ]
     },
     "metadata": {},
     "output_type": "display_data"
    }
   ],
   "source": [
    "# E que desejamos saber a altura dos voluntarios\n",
    "# Neste caso, sera necessario fazer um merge entre ambos os df's\n",
    "\n",
    "dfMerge = merge( x = dfExpandido , y = df2 , by.x = c('ID'), by.y = c('Voluntario') , all.x = T , all.y = F )\n",
    "head(dfMerge,10)"
   ]
  },
  {
   "cell_type": "code",
   "execution_count": 29,
   "metadata": {},
   "outputs": [],
   "source": [
    "dfMerge[is.na(dfMerge$Altura),]$Altura = 0"
   ]
  },
  {
   "cell_type": "code",
   "execution_count": 30,
   "metadata": {},
   "outputs": [
    {
     "data": {
      "text/html": [
       "<table>\n",
       "<caption>A data.frame: 5 × 5</caption>\n",
       "<thead>\n",
       "\t<tr><th></th><th scope=col>ID</th><th scope=col>Trat</th><th scope=col>Resposta</th><th scope=col>Altura</th><th scope=col>Indica</th></tr>\n",
       "\t<tr><th></th><th scope=col>&lt;dbl&gt;</th><th scope=col>&lt;chr&gt;</th><th scope=col>&lt;dbl&gt;</th><th scope=col>&lt;dbl&gt;</th><th scope=col>&lt;dbl&gt;</th></tr>\n",
       "</thead>\n",
       "<tbody>\n",
       "\t<tr><th scope=row>1</th><td>1</td><td>A</td><td>89.7</td><td>1.76</td><td>1</td></tr>\n",
       "\t<tr><th scope=row>2</th><td>2</td><td>A</td><td>81.4</td><td>1.79</td><td>0</td></tr>\n",
       "\t<tr><th scope=row>3</th><td>3</td><td>A</td><td>84.5</td><td>1.75</td><td>0</td></tr>\n",
       "\t<tr><th scope=row>4</th><td>4</td><td>A</td><td>84.8</td><td>1.77</td><td>0</td></tr>\n",
       "\t<tr><th scope=row>5</th><td>5</td><td>A</td><td>87.3</td><td>1.65</td><td>1</td></tr>\n",
       "</tbody>\n",
       "</table>\n"
      ],
      "text/latex": [
       "A data.frame: 5 × 5\n",
       "\\begin{tabular}{r|lllll}\n",
       "  & ID & Trat & Resposta & Altura & Indica\\\\\n",
       "  & <dbl> & <chr> & <dbl> & <dbl> & <dbl>\\\\\n",
       "\\hline\n",
       "\t1 & 1 & A & 89.7 & 1.76 & 1\\\\\n",
       "\t2 & 2 & A & 81.4 & 1.79 & 0\\\\\n",
       "\t3 & 3 & A & 84.5 & 1.75 & 0\\\\\n",
       "\t4 & 4 & A & 84.8 & 1.77 & 0\\\\\n",
       "\t5 & 5 & A & 87.3 & 1.65 & 1\\\\\n",
       "\\end{tabular}\n"
      ],
      "text/markdown": [
       "\n",
       "A data.frame: 5 × 5\n",
       "\n",
       "| <!--/--> | ID &lt;dbl&gt; | Trat &lt;chr&gt; | Resposta &lt;dbl&gt; | Altura &lt;dbl&gt; | Indica &lt;dbl&gt; |\n",
       "|---|---|---|---|---|---|\n",
       "| 1 | 1 | A | 89.7 | 1.76 | 1 |\n",
       "| 2 | 2 | A | 81.4 | 1.79 | 0 |\n",
       "| 3 | 3 | A | 84.5 | 1.75 | 0 |\n",
       "| 4 | 4 | A | 84.8 | 1.77 | 0 |\n",
       "| 5 | 5 | A | 87.3 | 1.65 | 1 |\n",
       "\n"
      ],
      "text/plain": [
       "  ID Trat Resposta Altura Indica\n",
       "1 1  A    89.7     1.76   1     \n",
       "2 2  A    81.4     1.79   0     \n",
       "3 3  A    84.5     1.75   0     \n",
       "4 4  A    84.8     1.77   0     \n",
       "5 5  A    87.3     1.65   1     "
      ]
     },
     "metadata": {},
     "output_type": "display_data"
    }
   ],
   "source": [
    "# Suponha que desejamos saber quais voluntarios tem a medida y superior a 85\n",
    "# pode-se criar ou acessar colunas do df utilizando o operador $\n",
    "# a funcao ifelse retorna os valores do segundo argumento se o primeiro argumento for verdadeiro\n",
    "# caso contrario, retorna o terceiro argumento\n",
    "dfMerge$Indica = ifelse ( test = dfMerge$Resposta >= 85 , yes = 1 , no = 0 )\n",
    "head ( dfMerge , 5 )"
   ]
  },
  {
   "cell_type": "code",
   "execution_count": 31,
   "metadata": {},
   "outputs": [
    {
     "data": {
      "text/plain": [
       "\n",
       " 0  1 \n",
       "13  9 "
      ]
     },
     "metadata": {},
     "output_type": "display_data"
    }
   ],
   "source": [
    "# Quantas informações estão acima de 85?\n",
    "\n",
    "table ( dfMerge$Indica )"
   ]
  },
  {
   "cell_type": "code",
   "execution_count": 32,
   "metadata": {},
   "outputs": [
    {
     "data": {
      "text/plain": [
       "   \n",
       "    0 1\n",
       "  A 8 3\n",
       "  B 5 6"
      ]
     },
     "metadata": {},
     "output_type": "display_data"
    }
   ],
   "source": [
    "# Quantas informações estão acima de 85 por tratamento?\n",
    "\n",
    "table ( dfMerge$Trat , dfMerge$Indica )"
   ]
  },
  {
   "cell_type": "code",
   "execution_count": 33,
   "metadata": {},
   "outputs": [
    {
     "data": {
      "text/plain": [
       "   \n",
       "            0         1\n",
       "  A 0.7272727 0.2727273\n",
       "  B 0.4545455 0.5454545"
      ]
     },
     "metadata": {},
     "output_type": "display_data"
    }
   ],
   "source": [
    "# Freq rel por linha?\n",
    "\n",
    "prop.table ( table ( dfMerge$Trat , dfMerge$Indica ) , 1 )"
   ]
  },
  {
   "cell_type": "code",
   "execution_count": 34,
   "metadata": {},
   "outputs": [
    {
     "data": {
      "text/plain": [
       "   \n",
       "            0         1\n",
       "  A 0.6153846 0.3333333\n",
       "  B 0.3846154 0.6666667"
      ]
     },
     "metadata": {},
     "output_type": "display_data"
    }
   ],
   "source": [
    "# Freq rel por coluna?\n",
    "\n",
    "prop.table ( table ( dfMerge$Trat , dfMerge$Indica ) , 2 )"
   ]
  },
  {
   "cell_type": "code",
   "execution_count": 35,
   "metadata": {},
   "outputs": [
    {
     "data": {
      "text/plain": [
       "   \n",
       "            0         1\n",
       "  A 0.3636364 0.1363636\n",
       "  B 0.2272727 0.2727273"
      ]
     },
     "metadata": {},
     "output_type": "display_data"
    }
   ],
   "source": [
    "# Freq rel total?\n",
    "\n",
    "prop.table ( table ( dfMerge$Trat , dfMerge$Indica ) )"
   ]
  },
  {
   "cell_type": "code",
   "execution_count": 36,
   "metadata": {},
   "outputs": [
    {
     "data": {
      "text/html": [
       "<table>\n",
       "<caption>A data.frame: 5 × 6</caption>\n",
       "<thead>\n",
       "\t<tr><th></th><th scope=col>ID</th><th scope=col>Trat</th><th scope=col>Resposta</th><th scope=col>Altura</th><th scope=col>Indica</th><th scope=col>Indica2</th></tr>\n",
       "\t<tr><th></th><th scope=col>&lt;dbl&gt;</th><th scope=col>&lt;chr&gt;</th><th scope=col>&lt;dbl&gt;</th><th scope=col>&lt;dbl&gt;</th><th scope=col>&lt;dbl&gt;</th><th scope=col>&lt;dbl&gt;</th></tr>\n",
       "</thead>\n",
       "<tbody>\n",
       "\t<tr><th scope=row>1</th><td>1</td><td>A</td><td>89.7</td><td>1.76</td><td>1</td><td>1</td></tr>\n",
       "\t<tr><th scope=row>2</th><td>2</td><td>A</td><td>81.4</td><td>1.79</td><td>0</td><td>0</td></tr>\n",
       "\t<tr><th scope=row>3</th><td>3</td><td>A</td><td>84.5</td><td>1.75</td><td>0</td><td>0</td></tr>\n",
       "\t<tr><th scope=row>4</th><td>4</td><td>A</td><td>84.8</td><td>1.77</td><td>0</td><td>0</td></tr>\n",
       "\t<tr><th scope=row>5</th><td>5</td><td>A</td><td>87.3</td><td>1.65</td><td>1</td><td>1</td></tr>\n",
       "</tbody>\n",
       "</table>\n"
      ],
      "text/latex": [
       "A data.frame: 5 × 6\n",
       "\\begin{tabular}{r|llllll}\n",
       "  & ID & Trat & Resposta & Altura & Indica & Indica2\\\\\n",
       "  & <dbl> & <chr> & <dbl> & <dbl> & <dbl> & <dbl>\\\\\n",
       "\\hline\n",
       "\t1 & 1 & A & 89.7 & 1.76 & 1 & 1\\\\\n",
       "\t2 & 2 & A & 81.4 & 1.79 & 0 & 0\\\\\n",
       "\t3 & 3 & A & 84.5 & 1.75 & 0 & 0\\\\\n",
       "\t4 & 4 & A & 84.8 & 1.77 & 0 & 0\\\\\n",
       "\t5 & 5 & A & 87.3 & 1.65 & 1 & 1\\\\\n",
       "\\end{tabular}\n"
      ],
      "text/markdown": [
       "\n",
       "A data.frame: 5 × 6\n",
       "\n",
       "| <!--/--> | ID &lt;dbl&gt; | Trat &lt;chr&gt; | Resposta &lt;dbl&gt; | Altura &lt;dbl&gt; | Indica &lt;dbl&gt; | Indica2 &lt;dbl&gt; |\n",
       "|---|---|---|---|---|---|---|\n",
       "| 1 | 1 | A | 89.7 | 1.76 | 1 | 1 |\n",
       "| 2 | 2 | A | 81.4 | 1.79 | 0 | 0 |\n",
       "| 3 | 3 | A | 84.5 | 1.75 | 0 | 0 |\n",
       "| 4 | 4 | A | 84.8 | 1.77 | 0 | 0 |\n",
       "| 5 | 5 | A | 87.3 | 1.65 | 1 | 1 |\n",
       "\n"
      ],
      "text/plain": [
       "  ID Trat Resposta Altura Indica Indica2\n",
       "1 1  A    89.7     1.76   1      1      \n",
       "2 2  A    81.4     1.79   0      0      \n",
       "3 3  A    84.5     1.75   0      0      \n",
       "4 4  A    84.8     1.77   0      0      \n",
       "5 5  A    87.3     1.65   1      1      "
      ]
     },
     "metadata": {},
     "output_type": "display_data"
    }
   ],
   "source": [
    "# Outra forma que poderíamos ter construído \"Indica\"\n",
    "# nrow - retorna quantidade de linhas de um df\n",
    "# pode-se acessar cada linha do df por seu indice i -> df[i,]\n",
    "# pode-se acessar cada coluna do df por -> df['coluna']\n",
    "# pode-se acessar cada linha i na coluna especifica por -> df[i,'coluna']\n",
    "\n",
    "# if(argumento){comando} - se o argumento for verdadeiro, executa o comando\n",
    "# else{comando2} - se o primeiro if for falso, executa comando2\n",
    "# pode-se encadear if's e else's - if(argumento1){comando1}else if(argumento2){comando2}else if...\n",
    "\n",
    "for ( i in 1 : nrow ( dfMerge ) ){\n",
    "    \n",
    "    if ( dfMerge [ i , \"Resposta\" ] >= 85 ){\n",
    "        \n",
    "        dfMerge [ i , \"Indica2\" ] = 1\n",
    "        \n",
    "    } else {\n",
    "        \n",
    "        dfMerge [ i , \"Indica2\" ] = 0\n",
    "        \n",
    "    }\n",
    "    \n",
    "    \n",
    "}\n",
    "\n",
    "head ( dfMerge , 5 )\n",
    "\n",
    "# Esta é uma forma muito mais lenta de se fazer a criação da variável"
   ]
  },
  {
   "cell_type": "code",
   "execution_count": 37,
   "metadata": {},
   "outputs": [
    {
     "data": {
      "text/html": [
       "<table>\n",
       "<caption>A data.frame: 5 × 8</caption>\n",
       "<thead>\n",
       "\t<tr><th></th><th scope=col>ID</th><th scope=col>Trat</th><th scope=col>Resposta</th><th scope=col>Altura</th><th scope=col>Indica</th><th scope=col>Indica2</th><th scope=col>resultadosDado</th><th scope=col>TratamentoNovo</th></tr>\n",
       "\t<tr><th></th><th scope=col>&lt;dbl&gt;</th><th scope=col>&lt;chr&gt;</th><th scope=col>&lt;dbl&gt;</th><th scope=col>&lt;dbl&gt;</th><th scope=col>&lt;dbl&gt;</th><th scope=col>&lt;dbl&gt;</th><th scope=col>&lt;dbl&gt;</th><th scope=col>&lt;chr&gt;</th></tr>\n",
       "</thead>\n",
       "<tbody>\n",
       "\t<tr><th scope=row>1</th><td>1</td><td>A</td><td>89.7</td><td>1.76</td><td>1</td><td>1</td><td>0.4653364</td><td>B</td></tr>\n",
       "\t<tr><th scope=row>2</th><td>2</td><td>A</td><td>81.4</td><td>1.79</td><td>0</td><td>0</td><td>0.8386083</td><td>D</td></tr>\n",
       "\t<tr><th scope=row>3</th><td>3</td><td>A</td><td>84.5</td><td>1.75</td><td>0</td><td>0</td><td>0.6845161</td><td>C</td></tr>\n",
       "\t<tr><th scope=row>4</th><td>4</td><td>A</td><td>84.8</td><td>1.77</td><td>0</td><td>0</td><td>0.5291512</td><td>C</td></tr>\n",
       "\t<tr><th scope=row>5</th><td>5</td><td>A</td><td>87.3</td><td>1.65</td><td>1</td><td>1</td><td>0.1756871</td><td>A</td></tr>\n",
       "</tbody>\n",
       "</table>\n"
      ],
      "text/latex": [
       "A data.frame: 5 × 8\n",
       "\\begin{tabular}{r|llllllll}\n",
       "  & ID & Trat & Resposta & Altura & Indica & Indica2 & resultadosDado & TratamentoNovo\\\\\n",
       "  & <dbl> & <chr> & <dbl> & <dbl> & <dbl> & <dbl> & <dbl> & <chr>\\\\\n",
       "\\hline\n",
       "\t1 & 1 & A & 89.7 & 1.76 & 1 & 1 & 0.4653364 & B\\\\\n",
       "\t2 & 2 & A & 81.4 & 1.79 & 0 & 0 & 0.8386083 & D\\\\\n",
       "\t3 & 3 & A & 84.5 & 1.75 & 0 & 0 & 0.6845161 & C\\\\\n",
       "\t4 & 4 & A & 84.8 & 1.77 & 0 & 0 & 0.5291512 & C\\\\\n",
       "\t5 & 5 & A & 87.3 & 1.65 & 1 & 1 & 0.1756871 & A\\\\\n",
       "\\end{tabular}\n"
      ],
      "text/markdown": [
       "\n",
       "A data.frame: 5 × 8\n",
       "\n",
       "| <!--/--> | ID &lt;dbl&gt; | Trat &lt;chr&gt; | Resposta &lt;dbl&gt; | Altura &lt;dbl&gt; | Indica &lt;dbl&gt; | Indica2 &lt;dbl&gt; | resultadosDado &lt;dbl&gt; | TratamentoNovo &lt;chr&gt; |\n",
       "|---|---|---|---|---|---|---|---|---|\n",
       "| 1 | 1 | A | 89.7 | 1.76 | 1 | 1 | 0.4653364 | B |\n",
       "| 2 | 2 | A | 81.4 | 1.79 | 0 | 0 | 0.8386083 | D |\n",
       "| 3 | 3 | A | 84.5 | 1.75 | 0 | 0 | 0.6845161 | C |\n",
       "| 4 | 4 | A | 84.8 | 1.77 | 0 | 0 | 0.5291512 | C |\n",
       "| 5 | 5 | A | 87.3 | 1.65 | 1 | 1 | 0.1756871 | A |\n",
       "\n"
      ],
      "text/plain": [
       "  ID Trat Resposta Altura Indica Indica2 resultadosDado TratamentoNovo\n",
       "1 1  A    89.7     1.76   1      1       0.4653364      B             \n",
       "2 2  A    81.4     1.79   0      0       0.8386083      D             \n",
       "3 3  A    84.5     1.75   0      0       0.6845161      C             \n",
       "4 4  A    84.8     1.77   0      0       0.5291512      C             \n",
       "5 5  A    87.3     1.65   1      1       0.1756871      A             "
      ]
     },
     "metadata": {},
     "output_type": "display_data"
    }
   ],
   "source": [
    "# Suponha que iremos fazer um experimento com estes voluntarios, e lançaremos um dado de 4 faces\n",
    "# honesto para decidir qual das 4 possibilidades\n",
    "# Podemos definir da seguinte forma\n",
    "# runif - gera um valor da distribuicao uniforme [0,1]\n",
    "\n",
    "# Garantir reproducibilidade\n",
    "set.seed ( 9297791 )\n",
    "dfMerge$resultadosDado = runif ( nrow ( dfMerge ) )\n",
    "dfMerge$TratamentoNovo = ifelse ( dfMerge$resultadosDado < .25 , \"A\" ,\n",
    "                                    ifelse ( dfMerge$resultadosDado < .5 , \"B\" , \n",
    "                                           ifelse ( dfMerge$resultadosDado < .75 , \"C\" , \"D\" )))\n",
    "\n",
    "head ( dfMerge , 5 )"
   ]
  },
  {
   "cell_type": "code",
   "execution_count": 38,
   "metadata": {},
   "outputs": [
    {
     "data": {
      "text/html": [
       "<table>\n",
       "<caption>A data.frame: 5 × 7</caption>\n",
       "<thead>\n",
       "\t<tr><th></th><th scope=col>ID</th><th scope=col>Trat</th><th scope=col>Resposta</th><th scope=col>Altura</th><th scope=col>Indica</th><th scope=col>Indica2</th><th scope=col>TratamentoNovo</th></tr>\n",
       "\t<tr><th></th><th scope=col>&lt;dbl&gt;</th><th scope=col>&lt;chr&gt;</th><th scope=col>&lt;dbl&gt;</th><th scope=col>&lt;dbl&gt;</th><th scope=col>&lt;dbl&gt;</th><th scope=col>&lt;dbl&gt;</th><th scope=col>&lt;chr&gt;</th></tr>\n",
       "</thead>\n",
       "<tbody>\n",
       "\t<tr><th scope=row>1</th><td>1</td><td>A</td><td>89.7</td><td>1.76</td><td>1</td><td>1</td><td>B</td></tr>\n",
       "\t<tr><th scope=row>2</th><td>2</td><td>A</td><td>81.4</td><td>1.79</td><td>0</td><td>0</td><td>D</td></tr>\n",
       "\t<tr><th scope=row>3</th><td>3</td><td>A</td><td>84.5</td><td>1.75</td><td>0</td><td>0</td><td>C</td></tr>\n",
       "\t<tr><th scope=row>4</th><td>4</td><td>A</td><td>84.8</td><td>1.77</td><td>0</td><td>0</td><td>C</td></tr>\n",
       "\t<tr><th scope=row>5</th><td>5</td><td>A</td><td>87.3</td><td>1.65</td><td>1</td><td>1</td><td>A</td></tr>\n",
       "</tbody>\n",
       "</table>\n"
      ],
      "text/latex": [
       "A data.frame: 5 × 7\n",
       "\\begin{tabular}{r|lllllll}\n",
       "  & ID & Trat & Resposta & Altura & Indica & Indica2 & TratamentoNovo\\\\\n",
       "  & <dbl> & <chr> & <dbl> & <dbl> & <dbl> & <dbl> & <chr>\\\\\n",
       "\\hline\n",
       "\t1 & 1 & A & 89.7 & 1.76 & 1 & 1 & B\\\\\n",
       "\t2 & 2 & A & 81.4 & 1.79 & 0 & 0 & D\\\\\n",
       "\t3 & 3 & A & 84.5 & 1.75 & 0 & 0 & C\\\\\n",
       "\t4 & 4 & A & 84.8 & 1.77 & 0 & 0 & C\\\\\n",
       "\t5 & 5 & A & 87.3 & 1.65 & 1 & 1 & A\\\\\n",
       "\\end{tabular}\n"
      ],
      "text/markdown": [
       "\n",
       "A data.frame: 5 × 7\n",
       "\n",
       "| <!--/--> | ID &lt;dbl&gt; | Trat &lt;chr&gt; | Resposta &lt;dbl&gt; | Altura &lt;dbl&gt; | Indica &lt;dbl&gt; | Indica2 &lt;dbl&gt; | TratamentoNovo &lt;chr&gt; |\n",
       "|---|---|---|---|---|---|---|---|\n",
       "| 1 | 1 | A | 89.7 | 1.76 | 1 | 1 | B |\n",
       "| 2 | 2 | A | 81.4 | 1.79 | 0 | 0 | D |\n",
       "| 3 | 3 | A | 84.5 | 1.75 | 0 | 0 | C |\n",
       "| 4 | 4 | A | 84.8 | 1.77 | 0 | 0 | C |\n",
       "| 5 | 5 | A | 87.3 | 1.65 | 1 | 1 | A |\n",
       "\n"
      ],
      "text/plain": [
       "  ID Trat Resposta Altura Indica Indica2 TratamentoNovo\n",
       "1 1  A    89.7     1.76   1      1       B             \n",
       "2 2  A    81.4     1.79   0      0       D             \n",
       "3 3  A    84.5     1.75   0      0       C             \n",
       "4 4  A    84.8     1.77   0      0       C             \n",
       "5 5  A    87.3     1.65   1      1       A             "
      ]
     },
     "metadata": {},
     "output_type": "display_data"
    }
   ],
   "source": [
    "# Suponha que se deseje apagar a coluna \"resultadosDado\"\n",
    "dfMerge$resultadosDado = NULL\n",
    "head ( dfMerge , 5 )"
   ]
  },
  {
   "cell_type": "markdown",
   "metadata": {},
   "source": [
    "## Próximos comandos"
   ]
  },
  {
   "cell_type": "markdown",
   "metadata": {},
   "source": [
    "Suponha que desejamos calcular a média, desvio padrão e erro padrão por tratamento.\n",
    "Como podemos fazer isso em nosso df?"
   ]
  },
  {
   "cell_type": "code",
   "execution_count": 39,
   "metadata": {},
   "outputs": [
    {
     "name": "stdout",
     "output_type": "stream",
     "text": [
      "[1] \"Tratamento A\"\n",
      "[1] \"A média é: 84.2181818181818\"\n",
      "[1] \"O desvio padrão é: 2.75384029377819\"\n",
      "[1] \"O erro padrão é: 0.830314089729486\"\n",
      "[1] \"Tratamento B\"\n",
      "[1] \"A média é: 85.9454545454545\"\n",
      "[1] \"O desvio padrão é: 3.71493301053024\"\n",
      "[1] \"O erro padrão é: 1.12009444702129\"\n"
     ]
    }
   ],
   "source": [
    "# uma forma possivel\n",
    "\n",
    "# unique - retorna valores deduplicados de um vetor\n",
    "# mean - retorna a media de um vetor\n",
    "# sd - retorna o desvio padrao de um vetor\n",
    "# sqrt - retorna a raiz quadrada de um valor\n",
    "\n",
    "\n",
    "tratamentos = unique ( dfExpandido$Trat )\n",
    "\n",
    "for ( trat in tratamentos ){\n",
    "    \n",
    "    media = mean ( dfExpandido[ dfExpandido$Trat == trat , \"Resposta\" ] )\n",
    "    dp = sd ( dfExpandido[ dfExpandido$Trat == trat,]$Resposta )\n",
    "    ep = dp / sqrt ( nrow ( dfExpandido[ dfExpandido$Trat == trat , ] ) )\n",
    "    \n",
    "    print ( paste0 ( \"Tratamento \" , trat ) )\n",
    "    print ( paste0 ( \"A média é: \" , media ) )\n",
    "    print ( paste0 ( \"O desvio padrão é: \" , dp ) )\n",
    "    print ( paste0 ( \"O erro padrão é: \" , ep ) )\n",
    "    \n",
    "}"
   ]
  },
  {
   "cell_type": "code",
   "execution_count": 40,
   "metadata": {},
   "outputs": [
    {
     "data": {
      "text/html": [
       "<style>\n",
       ".dl-inline {width: auto; margin:0; padding: 0}\n",
       ".dl-inline>dt, .dl-inline>dd {float: none; width: auto; display: inline-block}\n",
       ".dl-inline>dt::after {content: \":\\0020\"; padding-right: .5ex}\n",
       ".dl-inline>dt:not(:first-of-type) {padding-left: .5ex}\n",
       "</style><dl class=dl-inline><dt>A</dt><dd>84.2181818181818</dd><dt>B</dt><dd>85.9454545454545</dd></dl>\n"
      ],
      "text/latex": [
       "\\begin{description*}\n",
       "\\item[A] 84.2181818181818\n",
       "\\item[B] 85.9454545454545\n",
       "\\end{description*}\n"
      ],
      "text/markdown": [
       "A\n",
       ":   84.2181818181818B\n",
       ":   85.9454545454545\n",
       "\n"
      ],
      "text/plain": [
       "       A        B \n",
       "84.21818 85.94545 "
      ]
     },
     "metadata": {},
     "output_type": "display_data"
    }
   ],
   "source": [
    "# Outra forma\n",
    "# Calcular media da resposta por tratamento\n",
    "# tapply - dado um vetor com valores e um vetor denotando categorias, executa funcoes de agregacao\n",
    "mediasGrups = tapply(dfMerge$Resposta, dfMerge$Trat, mean) #médias dos grupos\n",
    "# Lista - pode-se acessar seus valores pelo nome dos tratamentos\n",
    "mediasGrups"
   ]
  },
  {
   "cell_type": "code",
   "execution_count": 41,
   "metadata": {},
   "outputs": [
    {
     "data": {
      "text/html": [
       "84.2181818181818"
      ],
      "text/latex": [
       "84.2181818181818"
      ],
      "text/markdown": [
       "84.2181818181818"
      ],
      "text/plain": [
       "[1] 84.21818"
      ]
     },
     "metadata": {},
     "output_type": "display_data"
    }
   ],
   "source": [
    "# media de y para o tratamento A\n",
    "mediasGrups[['A']]"
   ]
  },
  {
   "cell_type": "code",
   "execution_count": 42,
   "metadata": {},
   "outputs": [
    {
     "data": {
      "text/html": [
       "<style>\n",
       ".dl-inline {width: auto; margin:0; padding: 0}\n",
       ".dl-inline>dt, .dl-inline>dd {float: none; width: auto; display: inline-block}\n",
       ".dl-inline>dt::after {content: \":\\0020\"; padding-right: .5ex}\n",
       ".dl-inline>dt:not(:first-of-type) {padding-left: .5ex}\n",
       "</style><dl class=dl-inline><dt>A</dt><dd>2.75384029377819</dd><dt>B</dt><dd>3.71493301053024</dd></dl>\n"
      ],
      "text/latex": [
       "\\begin{description*}\n",
       "\\item[A] 2.75384029377819\n",
       "\\item[B] 3.71493301053024\n",
       "\\end{description*}\n"
      ],
      "text/markdown": [
       "A\n",
       ":   2.75384029377819B\n",
       ":   3.71493301053024\n",
       "\n"
      ],
      "text/plain": [
       "       A        B \n",
       "2.753840 3.714933 "
      ]
     },
     "metadata": {},
     "output_type": "display_data"
    }
   ],
   "source": [
    "# Calcular desvio padrao da resposta por tratamento\n",
    "dpGrups = tapply(dfMerge$Resposta, dfMerge$Trat, sd) #desvio padrão dos grupos\n",
    "dpGrups"
   ]
  },
  {
   "cell_type": "code",
   "execution_count": 43,
   "metadata": {},
   "outputs": [
    {
     "data": {
      "text/html": [
       "0.830314089729486"
      ],
      "text/latex": [
       "0.830314089729486"
      ],
      "text/markdown": [
       "0.830314089729486"
      ],
      "text/plain": [
       "[1] 0.8303141"
      ]
     },
     "metadata": {},
     "output_type": "display_data"
    }
   ],
   "source": [
    "#erro padrão de “A”\n",
    "dpGrups[['A']]/sqrt(nrow(dfMerge[dfMerge$Trat == 'A',]))"
   ]
  },
  {
   "cell_type": "code",
   "execution_count": 44,
   "metadata": {},
   "outputs": [
    {
     "data": {
      "text/html": [
       "1.12009444702129"
      ],
      "text/latex": [
       "1.12009444702129"
      ],
      "text/markdown": [
       "1.12009444702129"
      ],
      "text/plain": [
       "[1] 1.120094"
      ]
     },
     "metadata": {},
     "output_type": "display_data"
    }
   ],
   "source": [
    "#erro padrão de “B”\n",
    "dpGrups[['B']]/sqrt(nrow(dfMerge[dfMerge$Trat == 'B',]))"
   ]
  },
  {
   "cell_type": "markdown",
   "metadata": {},
   "source": [
    "### Outra forma mais 'intuitiva'"
   ]
  },
  {
   "cell_type": "code",
   "execution_count": 45,
   "metadata": {},
   "outputs": [],
   "source": [
    "suppressMessages ( library ( dplyr ) )\n",
    "options( dplyr.summarise.inform = FALSE )"
   ]
  },
  {
   "cell_type": "code",
   "execution_count": 46,
   "metadata": {},
   "outputs": [
    {
     "data": {
      "text/html": [
       "<table>\n",
       "<caption>A tibble: 2 × 4</caption>\n",
       "<thead>\n",
       "\t<tr><th scope=col>Trat</th><th scope=col>media</th><th scope=col>dp</th><th scope=col>n</th></tr>\n",
       "\t<tr><th scope=col>&lt;chr&gt;</th><th scope=col>&lt;dbl&gt;</th><th scope=col>&lt;dbl&gt;</th><th scope=col>&lt;int&gt;</th></tr>\n",
       "</thead>\n",
       "<tbody>\n",
       "\t<tr><td>A</td><td>84.21818</td><td>2.753840</td><td>11</td></tr>\n",
       "\t<tr><td>B</td><td>85.94545</td><td>3.714933</td><td>11</td></tr>\n",
       "</tbody>\n",
       "</table>\n"
      ],
      "text/latex": [
       "A tibble: 2 × 4\n",
       "\\begin{tabular}{llll}\n",
       " Trat & media & dp & n\\\\\n",
       " <chr> & <dbl> & <dbl> & <int>\\\\\n",
       "\\hline\n",
       "\t A & 84.21818 & 2.753840 & 11\\\\\n",
       "\t B & 85.94545 & 3.714933 & 11\\\\\n",
       "\\end{tabular}\n"
      ],
      "text/markdown": [
       "\n",
       "A tibble: 2 × 4\n",
       "\n",
       "| Trat &lt;chr&gt; | media &lt;dbl&gt; | dp &lt;dbl&gt; | n &lt;int&gt; |\n",
       "|---|---|---|---|\n",
       "| A | 84.21818 | 2.753840 | 11 |\n",
       "| B | 85.94545 | 3.714933 | 11 |\n",
       "\n"
      ],
      "text/plain": [
       "  Trat media    dp       n \n",
       "1 A    84.21818 2.753840 11\n",
       "2 B    85.94545 3.714933 11"
      ]
     },
     "metadata": {},
     "output_type": "display_data"
    }
   ],
   "source": [
    "# Outra forma\n",
    "# group_by: utilizado para denotar variavel pela qual opeacoes de agregacao serao realizadas\n",
    "# summarise: utilizado para denotar quais operacoes serao realizadas\n",
    "# n(): retorna quantidade de linhas\n",
    "# %>%: conhecido como 'pipe', torna a utilizacao de funcoes linear\n",
    "infos = dfExpandido %>% group_by ( Trat ) %>% summarise ( media = mean ( Resposta ) , dp = sd ( Resposta ) , n = n ( ) ) \n",
    "infos"
   ]
  },
  {
   "cell_type": "code",
   "execution_count": 47,
   "metadata": {},
   "outputs": [
    {
     "data": {
      "text/html": [
       "<table>\n",
       "<caption>A tibble: 1 × 4</caption>\n",
       "<thead>\n",
       "\t<tr><th scope=col>Trat</th><th scope=col>media</th><th scope=col>dp</th><th scope=col>n</th></tr>\n",
       "\t<tr><th scope=col>&lt;chr&gt;</th><th scope=col>&lt;dbl&gt;</th><th scope=col>&lt;dbl&gt;</th><th scope=col>&lt;int&gt;</th></tr>\n",
       "</thead>\n",
       "<tbody>\n",
       "\t<tr><td>A</td><td>84.21818</td><td>2.75384</td><td>11</td></tr>\n",
       "</tbody>\n",
       "</table>\n"
      ],
      "text/latex": [
       "A tibble: 1 × 4\n",
       "\\begin{tabular}{llll}\n",
       " Trat & media & dp & n\\\\\n",
       " <chr> & <dbl> & <dbl> & <int>\\\\\n",
       "\\hline\n",
       "\t A & 84.21818 & 2.75384 & 11\\\\\n",
       "\\end{tabular}\n"
      ],
      "text/markdown": [
       "\n",
       "A tibble: 1 × 4\n",
       "\n",
       "| Trat &lt;chr&gt; | media &lt;dbl&gt; | dp &lt;dbl&gt; | n &lt;int&gt; |\n",
       "|---|---|---|---|\n",
       "| A | 84.21818 | 2.75384 | 11 |\n",
       "\n"
      ],
      "text/plain": [
       "  Trat media    dp      n \n",
       "1 A    84.21818 2.75384 11"
      ]
     },
     "metadata": {},
     "output_type": "display_data"
    }
   ],
   "source": [
    "infos %>% filter ( Trat == \"A\" )"
   ]
  },
  {
   "cell_type": "code",
   "execution_count": 48,
   "metadata": {},
   "outputs": [
    {
     "data": {
      "text/html": [
       "<table>\n",
       "<caption>A tibble: 1 × 5</caption>\n",
       "<thead>\n",
       "\t<tr><th scope=col>Trat</th><th scope=col>media</th><th scope=col>dp</th><th scope=col>n</th><th scope=col>ep</th></tr>\n",
       "\t<tr><th scope=col>&lt;chr&gt;</th><th scope=col>&lt;dbl&gt;</th><th scope=col>&lt;dbl&gt;</th><th scope=col>&lt;int&gt;</th><th scope=col>&lt;dbl&gt;</th></tr>\n",
       "</thead>\n",
       "<tbody>\n",
       "\t<tr><td>A</td><td>84.21818</td><td>2.75384</td><td>11</td><td>0.8303141</td></tr>\n",
       "</tbody>\n",
       "</table>\n"
      ],
      "text/latex": [
       "A tibble: 1 × 5\n",
       "\\begin{tabular}{lllll}\n",
       " Trat & media & dp & n & ep\\\\\n",
       " <chr> & <dbl> & <dbl> & <int> & <dbl>\\\\\n",
       "\\hline\n",
       "\t A & 84.21818 & 2.75384 & 11 & 0.8303141\\\\\n",
       "\\end{tabular}\n"
      ],
      "text/markdown": [
       "\n",
       "A tibble: 1 × 5\n",
       "\n",
       "| Trat &lt;chr&gt; | media &lt;dbl&gt; | dp &lt;dbl&gt; | n &lt;int&gt; | ep &lt;dbl&gt; |\n",
       "|---|---|---|---|---|\n",
       "| A | 84.21818 | 2.75384 | 11 | 0.8303141 |\n",
       "\n"
      ],
      "text/plain": [
       "  Trat media    dp      n  ep       \n",
       "1 A    84.21818 2.75384 11 0.8303141"
      ]
     },
     "metadata": {},
     "output_type": "display_data"
    }
   ],
   "source": [
    "# mutate: altera ou cria colunas novas\n",
    "infos %>% mutate ( ep = dp / sqrt ( n ) ) %>% filter(Trat == \"A\")"
   ]
  }
 ],
 "metadata": {
  "kernelspec": {
   "display_name": "R",
   "language": "R",
   "name": "ir"
  },
  "language_info": {
   "codemirror_mode": "r",
   "file_extension": ".r",
   "mimetype": "text/x-r-source",
   "name": "R",
   "pygments_lexer": "r",
   "version": "3.6.3"
  }
 },
 "nbformat": 4,
 "nbformat_minor": 2
}
