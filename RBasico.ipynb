{
 "cells": [
  {
   "cell_type": "markdown",
   "metadata": {},
   "source": [
    "# Introdução"
   ]
  },
  {
   "cell_type": "markdown",
   "metadata": {},
   "source": [
    "### O que está acontecendo nos comandos abaixo?\n",
    "\n",
    "No R, existe uma estrutura de dados, conhecida como vetor. Sempre que você desejar armazenar dados em uma estrutura única, você pode criar um vetor, inserindo itens da seguinte forma:\n",
    "\n",
    "c ( valor $x_1$, valor $x_2$, ... , valor $x_n$).\n",
    "\n",
    "Estes valores podem ser números, strings (mas devem ser do mesmo tipo).\n",
    "\n",
    "Ao se manipular dados no R, é essencial que se entenda o funcionamento de operações em vetores, pois os dataframes (principal estrutura utilizada na análise de dados) são um conjunto de vetores associado a um índice. A convenção utilizada na análise de dados é que cada linha represente um conjunto de variáveis (isto é, por exemplo, a primeira linha poderia se referir a um paciente em um hospital, e cada coluna da primeira linha deverá se referir às informações atribuídas a ele, como por exemplo, a coluna 1 ser a altura, a coluna 2 o peso, a coluna 3 a pressão, etc).\n",
    "\n",
    "No R, também existem as listas, que são estruturas cuja ideia é parecida com a dos vetores, porém podem armazenar diversos tipos diferentes de variáveis (strings, fatores, números). É muito útil para consolidar dataframes. Açém disto, duas operações que são importantes para a construção dos mesmos, são o **rbind** e **merge**. O primeiro é uma abreviação de \"row bind\", e serve para se acrescentar mais observações. Já o último se refere ao cruzamento de dataframes distintos (i.e., concatenar dois df's em um - operações comuns são *left join* e *inner join* por exemplo). \n",
    "\n",
    "No código abaixo, são criados três vetores distintos, mas cujo intuito seria representar um dataframe. Suponha que trate-se de um experimento em que há dois grupos de voluntários (cada um representado por um número - id): aqueles que passaram pelo tratamento A, e aqueles que passaram pelo B (trat). Assim, realizado o experimento, cada um teve suas medidas tiradas (representadas por $y$)."
   ]
  },
  {
   "cell_type": "code",
   "execution_count": 1,
   "metadata": {},
   "outputs": [],
   "source": [
    "id = 1:20\n",
    "y<- c(89.7, 81.4, 84.5, 84.8, 87.3, 79.7, 85.1, 81.7, 83.7, 84.5, 84.7, 86.1, 83.2, 91.9, 86.3, 79.3, 82.6, 89.1, 83.7, 88.5)\n",
    "trat <- c ( rep ( \"A\" , 10 ) ,rep ( \"B\", 10 ) )\n",
    "# Juntando os diferentes vetores em uma lista\n",
    "juntos = list(id,trat,y)"
   ]
  },
  {
   "cell_type": "code",
   "execution_count": 2,
   "metadata": {},
   "outputs": [
    {
     "data": {
      "text/html": [
       "<table>\n",
       "<caption>A data.frame: 5 × 3</caption>\n",
       "<thead>\n",
       "\t<tr><th></th><th scope=col>ID</th><th scope=col>Trat</th><th scope=col>Resposta</th></tr>\n",
       "\t<tr><th></th><th scope=col>&lt;int&gt;</th><th scope=col>&lt;chr&gt;</th><th scope=col>&lt;dbl&gt;</th></tr>\n",
       "</thead>\n",
       "<tbody>\n",
       "\t<tr><th scope=row>1</th><td>1</td><td>A</td><td>89.7</td></tr>\n",
       "\t<tr><th scope=row>2</th><td>2</td><td>A</td><td>81.4</td></tr>\n",
       "\t<tr><th scope=row>3</th><td>3</td><td>A</td><td>84.5</td></tr>\n",
       "\t<tr><th scope=row>4</th><td>4</td><td>A</td><td>84.8</td></tr>\n",
       "\t<tr><th scope=row>5</th><td>5</td><td>A</td><td>87.3</td></tr>\n",
       "</tbody>\n",
       "</table>\n"
      ],
      "text/latex": [
       "A data.frame: 5 × 3\n",
       "\\begin{tabular}{r|lll}\n",
       "  & ID & Trat & Resposta\\\\\n",
       "  & <int> & <chr> & <dbl>\\\\\n",
       "\\hline\n",
       "\t1 & 1 & A & 89.7\\\\\n",
       "\t2 & 2 & A & 81.4\\\\\n",
       "\t3 & 3 & A & 84.5\\\\\n",
       "\t4 & 4 & A & 84.8\\\\\n",
       "\t5 & 5 & A & 87.3\\\\\n",
       "\\end{tabular}\n"
      ],
      "text/markdown": [
       "\n",
       "A data.frame: 5 × 3\n",
       "\n",
       "| <!--/--> | ID &lt;int&gt; | Trat &lt;chr&gt; | Resposta &lt;dbl&gt; |\n",
       "|---|---|---|---|\n",
       "| 1 | 1 | A | 89.7 |\n",
       "| 2 | 2 | A | 81.4 |\n",
       "| 3 | 3 | A | 84.5 |\n",
       "| 4 | 4 | A | 84.8 |\n",
       "| 5 | 5 | A | 87.3 |\n",
       "\n"
      ],
      "text/plain": [
       "  ID Trat Resposta\n",
       "1 1  A    89.7    \n",
       "2 2  A    81.4    \n",
       "3 3  A    84.5    \n",
       "4 4  A    84.8    \n",
       "5 5  A    87.3    "
      ]
     },
     "metadata": {},
     "output_type": "display_data"
    }
   ],
   "source": [
    "# Transformação a lista em um dataframe\n",
    "df = as.data.frame ( juntos , stringsAsFactors = F )\n",
    "# assimilando nomes as colunas\n",
    "colnames(df) = c('ID','Trat','Resposta')\n",
    "# mostrando primeiras 5 linhas do df\n",
    "head ( df , 5 )"
   ]
  },
  {
   "cell_type": "code",
   "execution_count": 3,
   "metadata": {
    "scrolled": false
   },
   "outputs": [
    {
     "data": {
      "text/html": [
       "<table>\n",
       "<caption>A data.frame: 5 × 3</caption>\n",
       "<thead>\n",
       "\t<tr><th></th><th scope=col>ID</th><th scope=col>Trat</th><th scope=col>Resposta</th></tr>\n",
       "\t<tr><th></th><th scope=col>&lt;dbl&gt;</th><th scope=col>&lt;chr&gt;</th><th scope=col>&lt;dbl&gt;</th></tr>\n",
       "</thead>\n",
       "<tbody>\n",
       "\t<tr><th scope=row>18</th><td>18</td><td>B</td><td>89.1</td></tr>\n",
       "\t<tr><th scope=row>19</th><td>19</td><td>B</td><td>83.7</td></tr>\n",
       "\t<tr><th scope=row>20</th><td>20</td><td>B</td><td>88.5</td></tr>\n",
       "\t<tr><th scope=row>21</th><td>21</td><td>B</td><td>90.0</td></tr>\n",
       "\t<tr><th scope=row>22</th><td>22</td><td>A</td><td>84.0</td></tr>\n",
       "</tbody>\n",
       "</table>\n"
      ],
      "text/latex": [
       "A data.frame: 5 × 3\n",
       "\\begin{tabular}{r|lll}\n",
       "  & ID & Trat & Resposta\\\\\n",
       "  & <dbl> & <chr> & <dbl>\\\\\n",
       "\\hline\n",
       "\t18 & 18 & B & 89.1\\\\\n",
       "\t19 & 19 & B & 83.7\\\\\n",
       "\t20 & 20 & B & 88.5\\\\\n",
       "\t21 & 21 & B & 90.0\\\\\n",
       "\t22 & 22 & A & 84.0\\\\\n",
       "\\end{tabular}\n"
      ],
      "text/markdown": [
       "\n",
       "A data.frame: 5 × 3\n",
       "\n",
       "| <!--/--> | ID &lt;dbl&gt; | Trat &lt;chr&gt; | Resposta &lt;dbl&gt; |\n",
       "|---|---|---|---|\n",
       "| 18 | 18 | B | 89.1 |\n",
       "| 19 | 19 | B | 83.7 |\n",
       "| 20 | 20 | B | 88.5 |\n",
       "| 21 | 21 | B | 90.0 |\n",
       "| 22 | 22 | A | 84.0 |\n",
       "\n"
      ],
      "text/plain": [
       "   ID Trat Resposta\n",
       "18 18 B    89.1    \n",
       "19 19 B    83.7    \n",
       "20 20 B    88.5    \n",
       "21 21 B    90.0    \n",
       "22 22 A    84.0    "
      ]
     },
     "metadata": {},
     "output_type": "display_data"
    }
   ],
   "source": [
    "# Suponha que desejamos acrescentar dois pacientes\n",
    "# O primeiro tem informações 90 (y) \"B\" (method) - id 21\n",
    "# O segundo tem informações 84 (y) \"A\" (method) - id 22\n",
    "dfExpandido = rbind ( df , list ( 21 , \"B\" , 90.0 ) , list ( 22 , \"A\" , 84.0 ) )\n",
    "# mostrando ultimas 5 linhas do df\n",
    "tail(dfExpandido , 5)"
   ]
  },
  {
   "cell_type": "code",
   "execution_count": 4,
   "metadata": {},
   "outputs": [
    {
     "data": {
      "text/html": [
       "<table>\n",
       "<caption>A data.frame: 5 × 2</caption>\n",
       "<thead>\n",
       "\t<tr><th></th><th scope=col>Paciente</th><th scope=col>Altura</th></tr>\n",
       "\t<tr><th></th><th scope=col>&lt;int&gt;</th><th scope=col>&lt;dbl&gt;</th></tr>\n",
       "</thead>\n",
       "<tbody>\n",
       "\t<tr><th scope=row>1</th><td> 1</td><td>1.76</td></tr>\n",
       "\t<tr><th scope=row>2</th><td>16</td><td>1.65</td></tr>\n",
       "\t<tr><th scope=row>3</th><td>21</td><td>1.73</td></tr>\n",
       "\t<tr><th scope=row>4</th><td> 8</td><td>1.70</td></tr>\n",
       "\t<tr><th scope=row>5</th><td> 3</td><td>1.75</td></tr>\n",
       "</tbody>\n",
       "</table>\n"
      ],
      "text/latex": [
       "A data.frame: 5 × 2\n",
       "\\begin{tabular}{r|ll}\n",
       "  & Paciente & Altura\\\\\n",
       "  & <int> & <dbl>\\\\\n",
       "\\hline\n",
       "\t1 &  1 & 1.76\\\\\n",
       "\t2 & 16 & 1.65\\\\\n",
       "\t3 & 21 & 1.73\\\\\n",
       "\t4 &  8 & 1.70\\\\\n",
       "\t5 &  3 & 1.75\\\\\n",
       "\\end{tabular}\n"
      ],
      "text/markdown": [
       "\n",
       "A data.frame: 5 × 2\n",
       "\n",
       "| <!--/--> | Paciente &lt;int&gt; | Altura &lt;dbl&gt; |\n",
       "|---|---|---|\n",
       "| 1 |  1 | 1.76 |\n",
       "| 2 | 16 | 1.65 |\n",
       "| 3 | 21 | 1.73 |\n",
       "| 4 |  8 | 1.70 |\n",
       "| 5 |  3 | 1.75 |\n",
       "\n"
      ],
      "text/plain": [
       "  Paciente Altura\n",
       "1  1       1.76  \n",
       "2 16       1.65  \n",
       "3 21       1.73  \n",
       "4  8       1.70  \n",
       "5  3       1.75  "
      ]
     },
     "metadata": {},
     "output_type": "display_data"
    }
   ],
   "source": [
    "# Suponha agora que temos a informação da altura de parte dos pacientes\n",
    "# Sejam 15 pacientes\n",
    "n_ = 15\n",
    "# acrescentando uma semente para processos aleatorios\n",
    "set.seed(9297791)\n",
    "# Selecionados aleatoriamente, sem reposicao 15 pacientes\n",
    "id = sample(x = 1:22 , size = n_ , replace = F )\n",
    "# gerando valores aleatorios\n",
    "y2 = rnorm(n = n_ , mean = 1.7 , sd = .1 )\n",
    "# arredondando para apenas duas casas decimais\n",
    "y2 = round( x = y2 , digits = 2 )\n",
    "# criando df2\n",
    "# Repare que pode-se dar nomes aos itens de uma lista\n",
    "df2 = as.data.frame(list( Paciente = id , Altura = y2 ))\n",
    "# primeiras 5 linhas\n",
    "head(df2 , 5)"
   ]
  },
  {
   "cell_type": "code",
   "execution_count": 5,
   "metadata": {},
   "outputs": [
    {
     "data": {
      "text/html": [
       "<table>\n",
       "<caption>A data.frame: 10 × 4</caption>\n",
       "<thead>\n",
       "\t<tr><th></th><th scope=col>ID</th><th scope=col>Trat</th><th scope=col>Resposta</th><th scope=col>Altura</th></tr>\n",
       "\t<tr><th></th><th scope=col>&lt;dbl&gt;</th><th scope=col>&lt;chr&gt;</th><th scope=col>&lt;dbl&gt;</th><th scope=col>&lt;dbl&gt;</th></tr>\n",
       "</thead>\n",
       "<tbody>\n",
       "\t<tr><th scope=row>1</th><td> 1</td><td>A</td><td>89.7</td><td>1.76</td></tr>\n",
       "\t<tr><th scope=row>2</th><td> 2</td><td>A</td><td>81.4</td><td>1.79</td></tr>\n",
       "\t<tr><th scope=row>3</th><td> 3</td><td>A</td><td>84.5</td><td>1.75</td></tr>\n",
       "\t<tr><th scope=row>4</th><td> 4</td><td>A</td><td>84.8</td><td>1.77</td></tr>\n",
       "\t<tr><th scope=row>5</th><td> 5</td><td>A</td><td>87.3</td><td>1.65</td></tr>\n",
       "\t<tr><th scope=row>6</th><td> 6</td><td>A</td><td>79.7</td><td>1.71</td></tr>\n",
       "\t<tr><th scope=row>7</th><td> 7</td><td>A</td><td>85.1</td><td>1.78</td></tr>\n",
       "\t<tr><th scope=row>8</th><td> 8</td><td>A</td><td>81.7</td><td>1.70</td></tr>\n",
       "\t<tr><th scope=row>9</th><td> 9</td><td>A</td><td>83.7</td><td>  NA</td></tr>\n",
       "\t<tr><th scope=row>10</th><td>10</td><td>A</td><td>84.5</td><td>  NA</td></tr>\n",
       "</tbody>\n",
       "</table>\n"
      ],
      "text/latex": [
       "A data.frame: 10 × 4\n",
       "\\begin{tabular}{r|llll}\n",
       "  & ID & Trat & Resposta & Altura\\\\\n",
       "  & <dbl> & <chr> & <dbl> & <dbl>\\\\\n",
       "\\hline\n",
       "\t1 &  1 & A & 89.7 & 1.76\\\\\n",
       "\t2 &  2 & A & 81.4 & 1.79\\\\\n",
       "\t3 &  3 & A & 84.5 & 1.75\\\\\n",
       "\t4 &  4 & A & 84.8 & 1.77\\\\\n",
       "\t5 &  5 & A & 87.3 & 1.65\\\\\n",
       "\t6 &  6 & A & 79.7 & 1.71\\\\\n",
       "\t7 &  7 & A & 85.1 & 1.78\\\\\n",
       "\t8 &  8 & A & 81.7 & 1.70\\\\\n",
       "\t9 &  9 & A & 83.7 &   NA\\\\\n",
       "\t10 & 10 & A & 84.5 &   NA\\\\\n",
       "\\end{tabular}\n"
      ],
      "text/markdown": [
       "\n",
       "A data.frame: 10 × 4\n",
       "\n",
       "| <!--/--> | ID &lt;dbl&gt; | Trat &lt;chr&gt; | Resposta &lt;dbl&gt; | Altura &lt;dbl&gt; |\n",
       "|---|---|---|---|---|\n",
       "| 1 |  1 | A | 89.7 | 1.76 |\n",
       "| 2 |  2 | A | 81.4 | 1.79 |\n",
       "| 3 |  3 | A | 84.5 | 1.75 |\n",
       "| 4 |  4 | A | 84.8 | 1.77 |\n",
       "| 5 |  5 | A | 87.3 | 1.65 |\n",
       "| 6 |  6 | A | 79.7 | 1.71 |\n",
       "| 7 |  7 | A | 85.1 | 1.78 |\n",
       "| 8 |  8 | A | 81.7 | 1.70 |\n",
       "| 9 |  9 | A | 83.7 |   NA |\n",
       "| 10 | 10 | A | 84.5 |   NA |\n",
       "\n"
      ],
      "text/plain": [
       "   ID Trat Resposta Altura\n",
       "1   1 A    89.7     1.76  \n",
       "2   2 A    81.4     1.79  \n",
       "3   3 A    84.5     1.75  \n",
       "4   4 A    84.8     1.77  \n",
       "5   5 A    87.3     1.65  \n",
       "6   6 A    79.7     1.71  \n",
       "7   7 A    85.1     1.78  \n",
       "8   8 A    81.7     1.70  \n",
       "9   9 A    83.7       NA  \n",
       "10 10 A    84.5       NA  "
      ]
     },
     "metadata": {},
     "output_type": "display_data"
    }
   ],
   "source": [
    "# E que desejamos saber a altura dos voluntarios\n",
    "# Neste caso, sera necessario fazer um merge entre ambos os df's\n",
    "\n",
    "dfMerge = merge( x = dfExpandido , y = df2 , by.x = 'ID', by.y = 'Paciente' , all.x = T , all.y = F )\n",
    "head(dfMerge,10)"
   ]
  },
  {
   "cell_type": "code",
   "execution_count": 6,
   "metadata": {},
   "outputs": [
    {
     "data": {
      "text/html": [
       "<table>\n",
       "<caption>A data.frame: 5 × 5</caption>\n",
       "<thead>\n",
       "\t<tr><th></th><th scope=col>ID</th><th scope=col>Trat</th><th scope=col>Resposta</th><th scope=col>Altura</th><th scope=col>Indica</th></tr>\n",
       "\t<tr><th></th><th scope=col>&lt;dbl&gt;</th><th scope=col>&lt;chr&gt;</th><th scope=col>&lt;dbl&gt;</th><th scope=col>&lt;dbl&gt;</th><th scope=col>&lt;dbl&gt;</th></tr>\n",
       "</thead>\n",
       "<tbody>\n",
       "\t<tr><th scope=row>1</th><td>1</td><td>A</td><td>89.7</td><td>1.76</td><td>1</td></tr>\n",
       "\t<tr><th scope=row>2</th><td>2</td><td>A</td><td>81.4</td><td>1.79</td><td>0</td></tr>\n",
       "\t<tr><th scope=row>3</th><td>3</td><td>A</td><td>84.5</td><td>1.75</td><td>0</td></tr>\n",
       "\t<tr><th scope=row>4</th><td>4</td><td>A</td><td>84.8</td><td>1.77</td><td>0</td></tr>\n",
       "\t<tr><th scope=row>5</th><td>5</td><td>A</td><td>87.3</td><td>1.65</td><td>1</td></tr>\n",
       "</tbody>\n",
       "</table>\n"
      ],
      "text/latex": [
       "A data.frame: 5 × 5\n",
       "\\begin{tabular}{r|lllll}\n",
       "  & ID & Trat & Resposta & Altura & Indica\\\\\n",
       "  & <dbl> & <chr> & <dbl> & <dbl> & <dbl>\\\\\n",
       "\\hline\n",
       "\t1 & 1 & A & 89.7 & 1.76 & 1\\\\\n",
       "\t2 & 2 & A & 81.4 & 1.79 & 0\\\\\n",
       "\t3 & 3 & A & 84.5 & 1.75 & 0\\\\\n",
       "\t4 & 4 & A & 84.8 & 1.77 & 0\\\\\n",
       "\t5 & 5 & A & 87.3 & 1.65 & 1\\\\\n",
       "\\end{tabular}\n"
      ],
      "text/markdown": [
       "\n",
       "A data.frame: 5 × 5\n",
       "\n",
       "| <!--/--> | ID &lt;dbl&gt; | Trat &lt;chr&gt; | Resposta &lt;dbl&gt; | Altura &lt;dbl&gt; | Indica &lt;dbl&gt; |\n",
       "|---|---|---|---|---|---|\n",
       "| 1 | 1 | A | 89.7 | 1.76 | 1 |\n",
       "| 2 | 2 | A | 81.4 | 1.79 | 0 |\n",
       "| 3 | 3 | A | 84.5 | 1.75 | 0 |\n",
       "| 4 | 4 | A | 84.8 | 1.77 | 0 |\n",
       "| 5 | 5 | A | 87.3 | 1.65 | 1 |\n",
       "\n"
      ],
      "text/plain": [
       "  ID Trat Resposta Altura Indica\n",
       "1 1  A    89.7     1.76   1     \n",
       "2 2  A    81.4     1.79   0     \n",
       "3 3  A    84.5     1.75   0     \n",
       "4 4  A    84.8     1.77   0     \n",
       "5 5  A    87.3     1.65   1     "
      ]
     },
     "metadata": {},
     "output_type": "display_data"
    }
   ],
   "source": [
    "# Suponha que desejamos saber quais voluntarios tem a medida y superior a 85\n",
    "# pode-se criar ou acessar colunas do df utilizando o operador $\n",
    "# a funcao ifelse retorna os valores do segundo argumento se o primeiro argumento for verdadeiro\n",
    "# caso contrario, retorna o terceiro argumento\n",
    "dfMerge$Indica = ifelse ( test = dfMerge$Resposta >= 85 , yes = 1 , no = 0 )\n",
    "head ( dfMerge , 5 )"
   ]
  },
  {
   "cell_type": "code",
   "execution_count": 7,
   "metadata": {},
   "outputs": [
    {
     "data": {
      "text/plain": [
       "\n",
       " 0  1 \n",
       "13  9 "
      ]
     },
     "metadata": {},
     "output_type": "display_data"
    }
   ],
   "source": [
    "# Quantas informações estão acima de 85?\n",
    "\n",
    "table ( dfMerge$Indica )"
   ]
  },
  {
   "cell_type": "code",
   "execution_count": 8,
   "metadata": {},
   "outputs": [
    {
     "data": {
      "text/plain": [
       "   \n",
       "    0 1\n",
       "  A 8 3\n",
       "  B 5 6"
      ]
     },
     "metadata": {},
     "output_type": "display_data"
    }
   ],
   "source": [
    "# Quantas informações estão acima de 85 por tratamento?\n",
    "\n",
    "table ( dfMerge$Trat , dfMerge$Indica )"
   ]
  },
  {
   "cell_type": "code",
   "execution_count": 9,
   "metadata": {},
   "outputs": [
    {
     "data": {
      "text/plain": [
       "   \n",
       "            0         1\n",
       "  A 0.7272727 0.2727273\n",
       "  B 0.4545455 0.5454545"
      ]
     },
     "metadata": {},
     "output_type": "display_data"
    }
   ],
   "source": [
    "# Freq rel por linha?\n",
    "\n",
    "prop.table ( table ( dfMerge$Trat , dfMerge$Indica ) , 1 )"
   ]
  },
  {
   "cell_type": "code",
   "execution_count": 10,
   "metadata": {},
   "outputs": [
    {
     "data": {
      "text/plain": [
       "   \n",
       "            0         1\n",
       "  A 0.6153846 0.3333333\n",
       "  B 0.3846154 0.6666667"
      ]
     },
     "metadata": {},
     "output_type": "display_data"
    }
   ],
   "source": [
    "# Freq rel por coluna?\n",
    "\n",
    "prop.table ( table ( dfMerge$Trat , dfMerge$Indica ) , 2 )"
   ]
  },
  {
   "cell_type": "code",
   "execution_count": 11,
   "metadata": {},
   "outputs": [
    {
     "data": {
      "text/plain": [
       "   \n",
       "            0         1\n",
       "  A 0.3636364 0.1363636\n",
       "  B 0.2272727 0.2727273"
      ]
     },
     "metadata": {},
     "output_type": "display_data"
    }
   ],
   "source": [
    "# Freq rel total?\n",
    "\n",
    "prop.table ( table ( dfMerge$Trat , dfMerge$Indica ) )"
   ]
  },
  {
   "cell_type": "code",
   "execution_count": 12,
   "metadata": {},
   "outputs": [
    {
     "data": {
      "text/html": [
       "<table>\n",
       "<caption>A data.frame: 5 × 6</caption>\n",
       "<thead>\n",
       "\t<tr><th></th><th scope=col>ID</th><th scope=col>Trat</th><th scope=col>Resposta</th><th scope=col>Altura</th><th scope=col>Indica</th><th scope=col>Indica2</th></tr>\n",
       "\t<tr><th></th><th scope=col>&lt;dbl&gt;</th><th scope=col>&lt;chr&gt;</th><th scope=col>&lt;dbl&gt;</th><th scope=col>&lt;dbl&gt;</th><th scope=col>&lt;dbl&gt;</th><th scope=col>&lt;dbl&gt;</th></tr>\n",
       "</thead>\n",
       "<tbody>\n",
       "\t<tr><th scope=row>1</th><td>1</td><td>A</td><td>89.7</td><td>1.76</td><td>1</td><td>1</td></tr>\n",
       "\t<tr><th scope=row>2</th><td>2</td><td>A</td><td>81.4</td><td>1.79</td><td>0</td><td>0</td></tr>\n",
       "\t<tr><th scope=row>3</th><td>3</td><td>A</td><td>84.5</td><td>1.75</td><td>0</td><td>0</td></tr>\n",
       "\t<tr><th scope=row>4</th><td>4</td><td>A</td><td>84.8</td><td>1.77</td><td>0</td><td>0</td></tr>\n",
       "\t<tr><th scope=row>5</th><td>5</td><td>A</td><td>87.3</td><td>1.65</td><td>1</td><td>1</td></tr>\n",
       "</tbody>\n",
       "</table>\n"
      ],
      "text/latex": [
       "A data.frame: 5 × 6\n",
       "\\begin{tabular}{r|llllll}\n",
       "  & ID & Trat & Resposta & Altura & Indica & Indica2\\\\\n",
       "  & <dbl> & <chr> & <dbl> & <dbl> & <dbl> & <dbl>\\\\\n",
       "\\hline\n",
       "\t1 & 1 & A & 89.7 & 1.76 & 1 & 1\\\\\n",
       "\t2 & 2 & A & 81.4 & 1.79 & 0 & 0\\\\\n",
       "\t3 & 3 & A & 84.5 & 1.75 & 0 & 0\\\\\n",
       "\t4 & 4 & A & 84.8 & 1.77 & 0 & 0\\\\\n",
       "\t5 & 5 & A & 87.3 & 1.65 & 1 & 1\\\\\n",
       "\\end{tabular}\n"
      ],
      "text/markdown": [
       "\n",
       "A data.frame: 5 × 6\n",
       "\n",
       "| <!--/--> | ID &lt;dbl&gt; | Trat &lt;chr&gt; | Resposta &lt;dbl&gt; | Altura &lt;dbl&gt; | Indica &lt;dbl&gt; | Indica2 &lt;dbl&gt; |\n",
       "|---|---|---|---|---|---|---|\n",
       "| 1 | 1 | A | 89.7 | 1.76 | 1 | 1 |\n",
       "| 2 | 2 | A | 81.4 | 1.79 | 0 | 0 |\n",
       "| 3 | 3 | A | 84.5 | 1.75 | 0 | 0 |\n",
       "| 4 | 4 | A | 84.8 | 1.77 | 0 | 0 |\n",
       "| 5 | 5 | A | 87.3 | 1.65 | 1 | 1 |\n",
       "\n"
      ],
      "text/plain": [
       "  ID Trat Resposta Altura Indica Indica2\n",
       "1 1  A    89.7     1.76   1      1      \n",
       "2 2  A    81.4     1.79   0      0      \n",
       "3 3  A    84.5     1.75   0      0      \n",
       "4 4  A    84.8     1.77   0      0      \n",
       "5 5  A    87.3     1.65   1      1      "
      ]
     },
     "metadata": {},
     "output_type": "display_data"
    }
   ],
   "source": [
    "# Outra forma que poderíamos ter construído \"Indica\"\n",
    "\n",
    "for ( i in 1 : nrow ( dfMerge ) ){\n",
    "    \n",
    "    if ( dfMerge [ i , \"Resposta\" ] >= 85 ){\n",
    "        \n",
    "        dfMerge [ i , \"Indica2\" ] = 1\n",
    "        \n",
    "    } else {\n",
    "        \n",
    "        dfMerge [ i , \"Indica2\" ] = 0\n",
    "        \n",
    "    }\n",
    "    \n",
    "    \n",
    "}\n",
    "\n",
    "head ( dfMerge , 5 )\n",
    "\n",
    "# Esta é uma forma muito mais lenta de se fazer a criação da variável"
   ]
  },
  {
   "cell_type": "code",
   "execution_count": 13,
   "metadata": {},
   "outputs": [
    {
     "data": {
      "text/html": [
       "<table>\n",
       "<caption>A data.frame: 5 × 8</caption>\n",
       "<thead>\n",
       "\t<tr><th></th><th scope=col>ID</th><th scope=col>Trat</th><th scope=col>Resposta</th><th scope=col>Altura</th><th scope=col>Indica</th><th scope=col>Indica2</th><th scope=col>resultadosDado</th><th scope=col>TratamentoNovo</th></tr>\n",
       "\t<tr><th></th><th scope=col>&lt;dbl&gt;</th><th scope=col>&lt;chr&gt;</th><th scope=col>&lt;dbl&gt;</th><th scope=col>&lt;dbl&gt;</th><th scope=col>&lt;dbl&gt;</th><th scope=col>&lt;dbl&gt;</th><th scope=col>&lt;dbl&gt;</th><th scope=col>&lt;chr&gt;</th></tr>\n",
       "</thead>\n",
       "<tbody>\n",
       "\t<tr><th scope=row>1</th><td>1</td><td>A</td><td>89.7</td><td>1.76</td><td>1</td><td>1</td><td>0.4653364</td><td>B</td></tr>\n",
       "\t<tr><th scope=row>2</th><td>2</td><td>A</td><td>81.4</td><td>1.79</td><td>0</td><td>0</td><td>0.8386083</td><td>D</td></tr>\n",
       "\t<tr><th scope=row>3</th><td>3</td><td>A</td><td>84.5</td><td>1.75</td><td>0</td><td>0</td><td>0.6845161</td><td>C</td></tr>\n",
       "\t<tr><th scope=row>4</th><td>4</td><td>A</td><td>84.8</td><td>1.77</td><td>0</td><td>0</td><td>0.5291512</td><td>C</td></tr>\n",
       "\t<tr><th scope=row>5</th><td>5</td><td>A</td><td>87.3</td><td>1.65</td><td>1</td><td>1</td><td>0.1756871</td><td>A</td></tr>\n",
       "</tbody>\n",
       "</table>\n"
      ],
      "text/latex": [
       "A data.frame: 5 × 8\n",
       "\\begin{tabular}{r|llllllll}\n",
       "  & ID & Trat & Resposta & Altura & Indica & Indica2 & resultadosDado & TratamentoNovo\\\\\n",
       "  & <dbl> & <chr> & <dbl> & <dbl> & <dbl> & <dbl> & <dbl> & <chr>\\\\\n",
       "\\hline\n",
       "\t1 & 1 & A & 89.7 & 1.76 & 1 & 1 & 0.4653364 & B\\\\\n",
       "\t2 & 2 & A & 81.4 & 1.79 & 0 & 0 & 0.8386083 & D\\\\\n",
       "\t3 & 3 & A & 84.5 & 1.75 & 0 & 0 & 0.6845161 & C\\\\\n",
       "\t4 & 4 & A & 84.8 & 1.77 & 0 & 0 & 0.5291512 & C\\\\\n",
       "\t5 & 5 & A & 87.3 & 1.65 & 1 & 1 & 0.1756871 & A\\\\\n",
       "\\end{tabular}\n"
      ],
      "text/markdown": [
       "\n",
       "A data.frame: 5 × 8\n",
       "\n",
       "| <!--/--> | ID &lt;dbl&gt; | Trat &lt;chr&gt; | Resposta &lt;dbl&gt; | Altura &lt;dbl&gt; | Indica &lt;dbl&gt; | Indica2 &lt;dbl&gt; | resultadosDado &lt;dbl&gt; | TratamentoNovo &lt;chr&gt; |\n",
       "|---|---|---|---|---|---|---|---|---|\n",
       "| 1 | 1 | A | 89.7 | 1.76 | 1 | 1 | 0.4653364 | B |\n",
       "| 2 | 2 | A | 81.4 | 1.79 | 0 | 0 | 0.8386083 | D |\n",
       "| 3 | 3 | A | 84.5 | 1.75 | 0 | 0 | 0.6845161 | C |\n",
       "| 4 | 4 | A | 84.8 | 1.77 | 0 | 0 | 0.5291512 | C |\n",
       "| 5 | 5 | A | 87.3 | 1.65 | 1 | 1 | 0.1756871 | A |\n",
       "\n"
      ],
      "text/plain": [
       "  ID Trat Resposta Altura Indica Indica2 resultadosDado TratamentoNovo\n",
       "1 1  A    89.7     1.76   1      1       0.4653364      B             \n",
       "2 2  A    81.4     1.79   0      0       0.8386083      D             \n",
       "3 3  A    84.5     1.75   0      0       0.6845161      C             \n",
       "4 4  A    84.8     1.77   0      0       0.5291512      C             \n",
       "5 5  A    87.3     1.65   1      1       0.1756871      A             "
      ]
     },
     "metadata": {},
     "output_type": "display_data"
    }
   ],
   "source": [
    "# Suponha que iremos fazer um experimento com estes voluntarios, e lançaremos um dado de 4 faces\n",
    "# honesto para decidir qual das 4 possibilidades\n",
    "# Podemos definir da seguinte forma\n",
    "# runif - gera um valor da distribuicao uniforme [0,1]\n",
    "\n",
    "# Garantir reproducibilidade\n",
    "set.seed ( 9297791 )\n",
    "dfMerge$resultadosDado = runif ( nrow ( dfMerge ) )\n",
    "dfMerge$TratamentoNovo = ifelse ( dfMerge$resultadosDado < .25 , \"A\" ,\n",
    "                                    ifelse ( dfMerge$resultadosDado < .5 , \"B\" , \n",
    "                                           ifelse ( dfMerge$resultadosDado < .75 , \"C\" , \"D\" )))\n",
    "\n",
    "head ( dfMerge , 5 )"
   ]
  },
  {
   "cell_type": "code",
   "execution_count": 14,
   "metadata": {},
   "outputs": [
    {
     "data": {
      "text/html": [
       "<table>\n",
       "<caption>A data.frame: 5 × 7</caption>\n",
       "<thead>\n",
       "\t<tr><th></th><th scope=col>ID</th><th scope=col>Trat</th><th scope=col>Resposta</th><th scope=col>Altura</th><th scope=col>Indica</th><th scope=col>Indica2</th><th scope=col>TratamentoNovo</th></tr>\n",
       "\t<tr><th></th><th scope=col>&lt;dbl&gt;</th><th scope=col>&lt;chr&gt;</th><th scope=col>&lt;dbl&gt;</th><th scope=col>&lt;dbl&gt;</th><th scope=col>&lt;dbl&gt;</th><th scope=col>&lt;dbl&gt;</th><th scope=col>&lt;chr&gt;</th></tr>\n",
       "</thead>\n",
       "<tbody>\n",
       "\t<tr><th scope=row>1</th><td>1</td><td>A</td><td>89.7</td><td>1.76</td><td>1</td><td>1</td><td>B</td></tr>\n",
       "\t<tr><th scope=row>2</th><td>2</td><td>A</td><td>81.4</td><td>1.79</td><td>0</td><td>0</td><td>D</td></tr>\n",
       "\t<tr><th scope=row>3</th><td>3</td><td>A</td><td>84.5</td><td>1.75</td><td>0</td><td>0</td><td>C</td></tr>\n",
       "\t<tr><th scope=row>4</th><td>4</td><td>A</td><td>84.8</td><td>1.77</td><td>0</td><td>0</td><td>C</td></tr>\n",
       "\t<tr><th scope=row>5</th><td>5</td><td>A</td><td>87.3</td><td>1.65</td><td>1</td><td>1</td><td>A</td></tr>\n",
       "</tbody>\n",
       "</table>\n"
      ],
      "text/latex": [
       "A data.frame: 5 × 7\n",
       "\\begin{tabular}{r|lllllll}\n",
       "  & ID & Trat & Resposta & Altura & Indica & Indica2 & TratamentoNovo\\\\\n",
       "  & <dbl> & <chr> & <dbl> & <dbl> & <dbl> & <dbl> & <chr>\\\\\n",
       "\\hline\n",
       "\t1 & 1 & A & 89.7 & 1.76 & 1 & 1 & B\\\\\n",
       "\t2 & 2 & A & 81.4 & 1.79 & 0 & 0 & D\\\\\n",
       "\t3 & 3 & A & 84.5 & 1.75 & 0 & 0 & C\\\\\n",
       "\t4 & 4 & A & 84.8 & 1.77 & 0 & 0 & C\\\\\n",
       "\t5 & 5 & A & 87.3 & 1.65 & 1 & 1 & A\\\\\n",
       "\\end{tabular}\n"
      ],
      "text/markdown": [
       "\n",
       "A data.frame: 5 × 7\n",
       "\n",
       "| <!--/--> | ID &lt;dbl&gt; | Trat &lt;chr&gt; | Resposta &lt;dbl&gt; | Altura &lt;dbl&gt; | Indica &lt;dbl&gt; | Indica2 &lt;dbl&gt; | TratamentoNovo &lt;chr&gt; |\n",
       "|---|---|---|---|---|---|---|---|\n",
       "| 1 | 1 | A | 89.7 | 1.76 | 1 | 1 | B |\n",
       "| 2 | 2 | A | 81.4 | 1.79 | 0 | 0 | D |\n",
       "| 3 | 3 | A | 84.5 | 1.75 | 0 | 0 | C |\n",
       "| 4 | 4 | A | 84.8 | 1.77 | 0 | 0 | C |\n",
       "| 5 | 5 | A | 87.3 | 1.65 | 1 | 1 | A |\n",
       "\n"
      ],
      "text/plain": [
       "  ID Trat Resposta Altura Indica Indica2 TratamentoNovo\n",
       "1 1  A    89.7     1.76   1      1       B             \n",
       "2 2  A    81.4     1.79   0      0       D             \n",
       "3 3  A    84.5     1.75   0      0       C             \n",
       "4 4  A    84.8     1.77   0      0       C             \n",
       "5 5  A    87.3     1.65   1      1       A             "
      ]
     },
     "metadata": {},
     "output_type": "display_data"
    }
   ],
   "source": [
    "# Suponha que se deseje apagar a coluna \"resultadosDado\"\n",
    "dfMerge$resultadosDado = NULL\n",
    "head ( dfMerge , 5 )"
   ]
  },
  {
   "cell_type": "markdown",
   "metadata": {},
   "source": [
    "## Próximos comandos"
   ]
  },
  {
   "cell_type": "code",
   "execution_count": 15,
   "metadata": {},
   "outputs": [
    {
     "data": {
      "text/html": [
       "<style>\n",
       ".dl-inline {width: auto; margin:0; padding: 0}\n",
       ".dl-inline>dt, .dl-inline>dd {float: none; width: auto; display: inline-block}\n",
       ".dl-inline>dt::after {content: \":\\0020\"; padding-right: .5ex}\n",
       ".dl-inline>dt:not(:first-of-type) {padding-left: .5ex}\n",
       "</style><dl class=dl-inline><dt>A</dt><dd>84.24</dd><dt>B</dt><dd>85.54</dd></dl>\n"
      ],
      "text/latex": [
       "\\begin{description*}\n",
       "\\item[A] 84.24\n",
       "\\item[B] 85.54\n",
       "\\end{description*}\n"
      ],
      "text/markdown": [
       "A\n",
       ":   84.24B\n",
       ":   85.54\n",
       "\n"
      ],
      "text/plain": [
       "    A     B \n",
       "84.24 85.54 "
      ]
     },
     "metadata": {},
     "output_type": "display_data"
    }
   ],
   "source": [
    "tapply(y, method, mean) #médias dos grupos"
   ]
  },
  {
   "cell_type": "code",
   "execution_count": 17,
   "metadata": {},
   "outputs": [
    {
     "data": {
      "text/html": [
       "<style>\n",
       ".dl-inline {width: auto; margin:0; padding: 0}\n",
       ".dl-inline>dt, .dl-inline>dd {float: none; width: auto; display: inline-block}\n",
       ".dl-inline>dt::after {content: \":\\0020\"; padding-right: .5ex}\n",
       ".dl-inline>dt:not(:first-of-type) {padding-left: .5ex}\n",
       "</style><dl class=dl-inline><dt>A</dt><dd>2.90180020753401</dd><dt>B</dt><dd>3.65032723038482</dd></dl>\n"
      ],
      "text/latex": [
       "\\begin{description*}\n",
       "\\item[A] 2.90180020753401\n",
       "\\item[B] 3.65032723038482\n",
       "\\end{description*}\n"
      ],
      "text/markdown": [
       "A\n",
       ":   2.90180020753401B\n",
       ":   3.65032723038482\n",
       "\n"
      ],
      "text/plain": [
       "       A        B \n",
       "2.901800 3.650327 "
      ]
     },
     "metadata": {},
     "output_type": "display_data"
    }
   ],
   "source": [
    "tapply(y, method, sd)   #desvio padrão dos grupos"
   ]
  },
  {
   "cell_type": "code",
   "execution_count": 18,
   "metadata": {},
   "outputs": [
    {
     "data": {
      "text/html": [
       "0.917629797055677"
      ],
      "text/latex": [
       "0.917629797055677"
      ],
      "text/markdown": [
       "0.917629797055677"
      ],
      "text/plain": [
       "[1] 0.9176298"
      ]
     },
     "metadata": {},
     "output_type": "display_data"
    }
   ],
   "source": [
    "sd(y[1:10])/sqrt(10)  #erro padrão de “A”"
   ]
  },
  {
   "cell_type": "code",
   "execution_count": 19,
   "metadata": {},
   "outputs": [
    {
     "data": {
      "text/html": [
       "1.15433482529502"
      ],
      "text/latex": [
       "1.15433482529502"
      ],
      "text/markdown": [
       "1.15433482529502"
      ],
      "text/plain": [
       "[1] 1.154335"
      ]
     },
     "metadata": {},
     "output_type": "display_data"
    }
   ],
   "source": [
    "sd(y[11:20])/sqrt(10) #erro padrão de “B”"
   ]
  },
  {
   "cell_type": "markdown",
   "metadata": {},
   "source": [
    "A ideia destes blocos é calcular a média e os desvio e erro padrões destes dois tratamentos.\n",
    "Como podemos fazer isso em nosso data frame?"
   ]
  },
  {
   "cell_type": "code",
   "execution_count": 47,
   "metadata": {},
   "outputs": [
    {
     "name": "stdout",
     "output_type": "stream",
     "text": [
      "[1] \"Tratamento A\"\n",
      "[1] \"A média é: 84.2181818181818\"\n",
      "[1] \"O desvio padrão é: 2.75384029377819\"\n",
      "[1] \"O erro padrão é: 0.830314089729486\"\n",
      "[1] \"Tratamento B\"\n",
      "[1] \"A média é: 85.9454545454545\"\n",
      "[1] \"O desvio padrão é: 3.71493301053024\"\n",
      "[1] \"O erro padrão é: 1.12009444702129\"\n"
     ]
    }
   ],
   "source": [
    "# uma forma possivel\n",
    "\n",
    "tratamentos = unique ( dfExpandido$method )\n",
    "\n",
    "for ( trat in tratamentos ){\n",
    "    \n",
    "    media = mean ( dfExpandido[ dfExpandido$method == trat , \"y\" ] )\n",
    "    dp = sd ( dfExpandido[ dfExpandido$method == trat , \"y\" ] )\n",
    "    ep = dp / sqrt ( nrow ( dfExpandido[ dfExpandido$method == trat , ] ) )\n",
    "    \n",
    "    print ( paste0 ( \"Tratamento \" , trat ) )\n",
    "    print ( paste0 ( \"A média é: \" , media ) )\n",
    "    print ( paste0 ( \"O desvio padrão é: \" , dp ) )\n",
    "    print ( paste0 ( \"O erro padrão é: \" , ep ) )\n",
    "    \n",
    "}"
   ]
  },
  {
   "cell_type": "code",
   "execution_count": 49,
   "metadata": {},
   "outputs": [
    {
     "data": {
      "text/html": [
       "<style>\n",
       ".dl-inline {width: auto; margin:0; padding: 0}\n",
       ".dl-inline>dt, .dl-inline>dd {float: none; width: auto; display: inline-block}\n",
       ".dl-inline>dt::after {content: \":\\0020\"; padding-right: .5ex}\n",
       ".dl-inline>dt:not(:first-of-type) {padding-left: .5ex}\n",
       "</style><dl class=dl-inline><dt>A</dt><dd>84.2181818181818</dd><dt>B</dt><dd>85.9454545454545</dd></dl>\n"
      ],
      "text/latex": [
       "\\begin{description*}\n",
       "\\item[A] 84.2181818181818\n",
       "\\item[B] 85.9454545454545\n",
       "\\end{description*}\n"
      ],
      "text/markdown": [
       "A\n",
       ":   84.2181818181818B\n",
       ":   85.9454545454545\n",
       "\n"
      ],
      "text/plain": [
       "       A        B \n",
       "84.21818 85.94545 "
      ]
     },
     "metadata": {},
     "output_type": "display_data"
    },
    {
     "data": {
      "text/html": [
       "<style>\n",
       ".dl-inline {width: auto; margin:0; padding: 0}\n",
       ".dl-inline>dt, .dl-inline>dd {float: none; width: auto; display: inline-block}\n",
       ".dl-inline>dt::after {content: \":\\0020\"; padding-right: .5ex}\n",
       ".dl-inline>dt:not(:first-of-type) {padding-left: .5ex}\n",
       "</style><dl class=dl-inline><dt>A</dt><dd>2.90180020753401</dd><dt>B</dt><dd>3.65032723038482</dd></dl>\n"
      ],
      "text/latex": [
       "\\begin{description*}\n",
       "\\item[A] 2.90180020753401\n",
       "\\item[B] 3.65032723038482\n",
       "\\end{description*}\n"
      ],
      "text/markdown": [
       "A\n",
       ":   2.90180020753401B\n",
       ":   3.65032723038482\n",
       "\n"
      ],
      "text/plain": [
       "       A        B \n",
       "2.901800 3.650327 "
      ]
     },
     "metadata": {},
     "output_type": "display_data"
    }
   ],
   "source": [
    "# Outra forma\n",
    "\n",
    "tapply(dfExpandido$y, dfExpandido$method, mean)\n",
    "tapply(y, method, sd)"
   ]
  },
  {
   "cell_type": "code",
   "execution_count": 50,
   "metadata": {},
   "outputs": [
    {
     "data": {
      "text/html": [
       "0.830314089729486"
      ],
      "text/latex": [
       "0.830314089729486"
      ],
      "text/markdown": [
       "0.830314089729486"
      ],
      "text/plain": [
       "[1] 0.8303141"
      ]
     },
     "metadata": {},
     "output_type": "display_data"
    }
   ],
   "source": [
    "sd( dfExpandido [ dfExpandido$method == \"A\" , ]$y )/sqrt( nrow ( dfExpandido [ dfExpandido$method == \"A\" , ] ) )  #erro padrão de “A”"
   ]
  },
  {
   "cell_type": "code",
   "execution_count": 51,
   "metadata": {},
   "outputs": [
    {
     "data": {
      "text/html": [
       "1.12009444702129"
      ],
      "text/latex": [
       "1.12009444702129"
      ],
      "text/markdown": [
       "1.12009444702129"
      ],
      "text/plain": [
       "[1] 1.120094"
      ]
     },
     "metadata": {},
     "output_type": "display_data"
    }
   ],
   "source": [
    "sd( dfExpandido [ dfExpandido$method == \"B\" , ]$y )/sqrt( nrow ( dfExpandido [ dfExpandido$method == \"A\" , ] ) )  #erro padrão de “A”"
   ]
  },
  {
   "cell_type": "code",
   "execution_count": 33,
   "metadata": {},
   "outputs": [],
   "source": [
    "suppressMessages ( library ( dplyr ) )\n",
    "options( dplyr.summarise.inform = FALSE )"
   ]
  },
  {
   "cell_type": "code",
   "execution_count": 45,
   "metadata": {},
   "outputs": [
    {
     "data": {
      "text/html": [
       "<table>\n",
       "<caption>A tibble: 2 × 4</caption>\n",
       "<thead>\n",
       "\t<tr><th scope=col>method</th><th scope=col>media</th><th scope=col>dp</th><th scope=col>n</th></tr>\n",
       "\t<tr><th scope=col>&lt;fct&gt;</th><th scope=col>&lt;dbl&gt;</th><th scope=col>&lt;dbl&gt;</th><th scope=col>&lt;int&gt;</th></tr>\n",
       "</thead>\n",
       "<tbody>\n",
       "\t<tr><td>A</td><td>84.21818</td><td>2.753840</td><td>11</td></tr>\n",
       "\t<tr><td>B</td><td>85.94545</td><td>3.714933</td><td>11</td></tr>\n",
       "</tbody>\n",
       "</table>\n"
      ],
      "text/latex": [
       "A tibble: 2 × 4\n",
       "\\begin{tabular}{llll}\n",
       " method & media & dp & n\\\\\n",
       " <fct> & <dbl> & <dbl> & <int>\\\\\n",
       "\\hline\n",
       "\t A & 84.21818 & 2.753840 & 11\\\\\n",
       "\t B & 85.94545 & 3.714933 & 11\\\\\n",
       "\\end{tabular}\n"
      ],
      "text/markdown": [
       "\n",
       "A tibble: 2 × 4\n",
       "\n",
       "| method &lt;fct&gt; | media &lt;dbl&gt; | dp &lt;dbl&gt; | n &lt;int&gt; |\n",
       "|---|---|---|---|\n",
       "| A | 84.21818 | 2.753840 | 11 |\n",
       "| B | 85.94545 | 3.714933 | 11 |\n",
       "\n"
      ],
      "text/plain": [
       "  method media    dp       n \n",
       "1 A      84.21818 2.753840 11\n",
       "2 B      85.94545 3.714933 11"
      ]
     },
     "metadata": {},
     "output_type": "display_data"
    }
   ],
   "source": [
    "# Outra forma\n",
    "\n",
    "infos = dfExpandido %>% group_by ( method ) %>% summarise ( media = mean ( y ) , dp = sd ( y ) , n = n ( ) )\n",
    "infos"
   ]
  },
  {
   "cell_type": "code",
   "execution_count": 40,
   "metadata": {},
   "outputs": [
    {
     "data": {
      "text/html": [
       "<table>\n",
       "<caption>A tibble: 1 × 4</caption>\n",
       "<thead>\n",
       "\t<tr><th scope=col>method</th><th scope=col>media</th><th scope=col>dp</th><th scope=col>ep</th></tr>\n",
       "\t<tr><th scope=col>&lt;fct&gt;</th><th scope=col>&lt;dbl&gt;</th><th scope=col>&lt;dbl&gt;</th><th scope=col>&lt;dbl&gt;</th></tr>\n",
       "</thead>\n",
       "<tbody>\n",
       "\t<tr><td>A</td><td>84.21818</td><td>2.75384</td><td>0.8303141</td></tr>\n",
       "</tbody>\n",
       "</table>\n"
      ],
      "text/latex": [
       "A tibble: 1 × 4\n",
       "\\begin{tabular}{llll}\n",
       " method & media & dp & ep\\\\\n",
       " <fct> & <dbl> & <dbl> & <dbl>\\\\\n",
       "\\hline\n",
       "\t A & 84.21818 & 2.75384 & 0.8303141\\\\\n",
       "\\end{tabular}\n"
      ],
      "text/markdown": [
       "\n",
       "A tibble: 1 × 4\n",
       "\n",
       "| method &lt;fct&gt; | media &lt;dbl&gt; | dp &lt;dbl&gt; | ep &lt;dbl&gt; |\n",
       "|---|---|---|---|\n",
       "| A | 84.21818 | 2.75384 | 0.8303141 |\n",
       "\n"
      ],
      "text/plain": [
       "  method media    dp      ep       \n",
       "1 A      84.21818 2.75384 0.8303141"
      ]
     },
     "metadata": {},
     "output_type": "display_data"
    }
   ],
   "source": [
    "infos %>% filter ( method == \"A\" )"
   ]
  },
  {
   "cell_type": "code",
   "execution_count": 42,
   "metadata": {},
   "outputs": [
    {
     "data": {
      "text/html": [
       "<table>\n",
       "<caption>A tibble: 2 × 5</caption>\n",
       "<thead>\n",
       "\t<tr><th scope=col>method</th><th scope=col>media</th><th scope=col>dp</th><th scope=col>n</th><th scope=col>ep</th></tr>\n",
       "\t<tr><th scope=col>&lt;fct&gt;</th><th scope=col>&lt;dbl&gt;</th><th scope=col>&lt;dbl&gt;</th><th scope=col>&lt;int&gt;</th><th scope=col>&lt;dbl&gt;</th></tr>\n",
       "</thead>\n",
       "<tbody>\n",
       "\t<tr><td>A</td><td>84.21818</td><td>2.753840</td><td>11</td><td>0.8303141</td></tr>\n",
       "\t<tr><td>B</td><td>85.94545</td><td>3.714933</td><td>11</td><td>1.1200944</td></tr>\n",
       "</tbody>\n",
       "</table>\n"
      ],
      "text/latex": [
       "A tibble: 2 × 5\n",
       "\\begin{tabular}{lllll}\n",
       " method & media & dp & n & ep\\\\\n",
       " <fct> & <dbl> & <dbl> & <int> & <dbl>\\\\\n",
       "\\hline\n",
       "\t A & 84.21818 & 2.753840 & 11 & 0.8303141\\\\\n",
       "\t B & 85.94545 & 3.714933 & 11 & 1.1200944\\\\\n",
       "\\end{tabular}\n"
      ],
      "text/markdown": [
       "\n",
       "A tibble: 2 × 5\n",
       "\n",
       "| method &lt;fct&gt; | media &lt;dbl&gt; | dp &lt;dbl&gt; | n &lt;int&gt; | ep &lt;dbl&gt; |\n",
       "|---|---|---|---|---|\n",
       "| A | 84.21818 | 2.753840 | 11 | 0.8303141 |\n",
       "| B | 85.94545 | 3.714933 | 11 | 1.1200944 |\n",
       "\n"
      ],
      "text/plain": [
       "  method media    dp       n  ep       \n",
       "1 A      84.21818 2.753840 11 0.8303141\n",
       "2 B      85.94545 3.714933 11 1.1200944"
      ]
     },
     "metadata": {},
     "output_type": "display_data"
    }
   ],
   "source": [
    "infos %>% mutate ( ep = dp / sqrt ( n ) )"
   ]
  }
 ],
 "metadata": {
  "kernelspec": {
   "display_name": "R",
   "language": "R",
   "name": "ir"
  },
  "language_info": {
   "codemirror_mode": "r",
   "file_extension": ".r",
   "mimetype": "text/x-r-source",
   "name": "R",
   "pygments_lexer": "r",
   "version": "3.6.3"
  }
 },
 "nbformat": 4,
 "nbformat_minor": 2
}
