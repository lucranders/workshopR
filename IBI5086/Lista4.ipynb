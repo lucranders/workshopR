{
 "cells": [
  {
   "cell_type": "code",
   "execution_count": 1,
   "metadata": {},
   "outputs": [],
   "source": [
    "suppressMessages ( library ( dplyr ) )\n",
    "library(ggplot2)"
   ]
  },
  {
   "attachments": {
    "tabela1Lista4.PNG": {
     "image/png": "[encoded data removed]"
    }
   },
   "cell_type": "markdown",
   "metadata": {},
   "source": [
    "**1.** Considere os dados a seguir de um Estudo de Bioequivalência de um Medicamento Novo relativamente a um Medicamento Padrão no tratamento de uma doença. Respostas de pacientes a um Placebo também são apresentadas.\n",
    "![tabela1Lista4.PNG](attachment:tabela1Lista4.PNG)\n",
    "Neste tipo de estudo, órgãos reguladores adotam o seguinte critério para comprovação da bioequivalência do medicamento novo:\n",
    "<center> $ANVISA: \\theta=\\frac{|\\mu_{NOVO}-\\mu_{ANTIGO}|}{\\mu_{ANTIGO}-\\mu_{PLACEBO}}\\le 0,2$\n",
    "    \n",
    "Construa um intervalo bootstrap de 95% de confiança para o parâmetro $\\theta$. Que conclusão é obtida? Na solução, considere:"
   ]
  },
  {
   "cell_type": "markdown",
   "metadata": {},
   "source": [
    "a) Delineamento completamente aleatorizado (DCA) em que os três tratamentos foram atribuídos aleatoriamente a 8 pacientes de uma amostra de 32 voluntários, que aceitaram participar do estudo e cumpriram a todos os critérios de inclusão."
   ]
  },
  {
   "cell_type": "code",
   "execution_count": 2,
   "metadata": {},
   "outputs": [
    {
     "data": {
      "text/html": [
       "<table>\n",
       "<caption>A data.frame: 12 × 2</caption>\n",
       "<thead>\n",
       "\t<tr><th></th><th scope=col>Valores</th><th scope=col>trat</th></tr>\n",
       "\t<tr><th></th><th scope=col>&lt;dbl&gt;</th><th scope=col>&lt;chr&gt;</th></tr>\n",
       "</thead>\n",
       "<tbody>\n",
       "\t<tr><th scope=row>1</th><td> 9243</td><td>Placebo  </td></tr>\n",
       "\t<tr><th scope=row>2</th><td> 9671</td><td>Placebo  </td></tr>\n",
       "\t<tr><th scope=row>3</th><td>11792</td><td>Placebo  </td></tr>\n",
       "\t<tr><th scope=row>4</th><td>13357</td><td>Placebo  </td></tr>\n",
       "\t<tr><th scope=row>5</th><td> 9055</td><td>Placebo  </td></tr>\n",
       "\t<tr><th scope=row>6</th><td> 6290</td><td>Placebo  </td></tr>\n",
       "\t<tr><th scope=row>7</th><td>12412</td><td>Placebo  </td></tr>\n",
       "\t<tr><th scope=row>8</th><td>18806</td><td>Placebo  </td></tr>\n",
       "\t<tr><th scope=row>9</th><td>17649</td><td>MedPadrao</td></tr>\n",
       "\t<tr><th scope=row>10</th><td>12013</td><td>MedPadrao</td></tr>\n",
       "\t<tr><th scope=row>11</th><td>19979</td><td>MedPadrao</td></tr>\n",
       "\t<tr><th scope=row>12</th><td>21816</td><td>MedPadrao</td></tr>\n",
       "</tbody>\n",
       "</table>\n"
      ],
      "text/latex": [
       "A data.frame: 12 × 2\n",
       "\\begin{tabular}{r|ll}\n",
       "  & Valores & trat\\\\\n",
       "  & <dbl> & <chr>\\\\\n",
       "\\hline\n",
       "\t1 &  9243 & Placebo  \\\\\n",
       "\t2 &  9671 & Placebo  \\\\\n",
       "\t3 & 11792 & Placebo  \\\\\n",
       "\t4 & 13357 & Placebo  \\\\\n",
       "\t5 &  9055 & Placebo  \\\\\n",
       "\t6 &  6290 & Placebo  \\\\\n",
       "\t7 & 12412 & Placebo  \\\\\n",
       "\t8 & 18806 & Placebo  \\\\\n",
       "\t9 & 17649 & MedPadrao\\\\\n",
       "\t10 & 12013 & MedPadrao\\\\\n",
       "\t11 & 19979 & MedPadrao\\\\\n",
       "\t12 & 21816 & MedPadrao\\\\\n",
       "\\end{tabular}\n"
      ],
      "text/markdown": [
       "\n",
       "A data.frame: 12 × 2\n",
       "\n",
       "| <!--/--> | Valores &lt;dbl&gt; | trat &lt;chr&gt; |\n",
       "|---|---|---|\n",
       "| 1 |  9243 | Placebo   |\n",
       "| 2 |  9671 | Placebo   |\n",
       "| 3 | 11792 | Placebo   |\n",
       "| 4 | 13357 | Placebo   |\n",
       "| 5 |  9055 | Placebo   |\n",
       "| 6 |  6290 | Placebo   |\n",
       "| 7 | 12412 | Placebo   |\n",
       "| 8 | 18806 | Placebo   |\n",
       "| 9 | 17649 | MedPadrao |\n",
       "| 10 | 12013 | MedPadrao |\n",
       "| 11 | 19979 | MedPadrao |\n",
       "| 12 | 21816 | MedPadrao |\n",
       "\n"
      ],
      "text/plain": [
       "   Valores trat     \n",
       "1   9243   Placebo  \n",
       "2   9671   Placebo  \n",
       "3  11792   Placebo  \n",
       "4  13357   Placebo  \n",
       "5   9055   Placebo  \n",
       "6   6290   Placebo  \n",
       "7  12412   Placebo  \n",
       "8  18806   Placebo  \n",
       "9  17649   MedPadrao\n",
       "10 12013   MedPadrao\n",
       "11 19979   MedPadrao\n",
       "12 21816   MedPadrao"
      ]
     },
     "metadata": {},
     "output_type": "display_data"
    }
   ],
   "source": [
    "# Construindo dataframe\n",
    "valores = c ( \n",
    "#     Placebo\n",
    "    9243 , 9671 , 11792 , 13357 ,9055 , 6290 , 12412 , 18806 , \n",
    "#     Med Padrao\n",
    "    17649 , 12013 , 19979 , 21816 , 13850 , 9806 , 17208 , 29044 ,\n",
    "#     Med Novo\n",
    "    16449 , 14614 , 17274 , 23798 , 12560 , 10157 , 16570 , 26325\n",
    "            )\n",
    "\n",
    "df1 = valores %>% as.data.frame ( )\n",
    "colnames ( df1 ) = \"Valores\"\n",
    "df1 = df1 %>% mutate ( trat = c ( rep ( \"Placebo\" , 8 ) , rep ( \"MedPadrao\" , 8 ) , rep ( \"MedNovo\" , 8 ) ) )\n",
    "df1 %>% head ( 12 )"
   ]
  },
  {
   "cell_type": "markdown",
   "metadata": {},
   "source": [
    "#### Calculo do valor theta\n"
   ]
  },
  {
   "cell_type": "code",
   "execution_count": 3,
   "metadata": {},
   "outputs": [
    {
     "name": "stdout",
     "output_type": "stream",
     "text": [
      "[1] 0.0713061\n"
     ]
    }
   ],
   "source": [
    "medias1 = tapply ( df1$Valores , df1$trat , \"mean\" )\n",
    "theta = abs ( medias1[[\"MedNovo\"]] - medias1[[\"MedPadrao\"]] ) / (medias1[[\"MedPadrao\"]] - medias1[[\"Placebo\"]])\n",
    "print( theta )"
   ]
  },
  {
   "cell_type": "code",
   "execution_count": 4,
   "metadata": {},
   "outputs": [],
   "source": [
    "# 24 pacientes para 3 tratamentos, em DCA - aleatorizar medicamentos às respostas\n",
    "# Dado que eh conhecido que o remedio tem efeito, aleatorizar primeiro apenas dentro de placebo e apenas entre os tratamentos,\n",
    "# de forma separada\n",
    "numeroSimulacoes = 1e3\n",
    "thetasBoot = numeric( numeroSimulacoes )\n",
    "i = 1\n",
    "set.seed ( 9297791 )\n",
    "while ( i < numeroSimulacoes ){\n",
    "        \n",
    "    mediaNovaBoot = mean ( df1[sample( rownames ( df1[df1$trat=='MedNovo' , ] ) , replace = T ) , \"Valores\" ] )\n",
    "    mediaPadraoBoot = mean ( df1[sample( rownames ( df1[df1$trat=='MedPadrao' , ] ) , replace = T ) , \"Valores\" ] )\n",
    "    mediaPlaceboBoot = mean ( df1[sample( rownames ( df1[df1$trat=='Placebo' , ] ) , replace = T ) , \"Valores\" ] )\n",
    "    \n",
    "    thetasBoot[i] = abs ( mediaNovaBoot - mediaPadraoBoot ) / (mediaPadraoBoot - mediaPlaceboBoot)\n",
    "    i = i + 1\n",
    "        \n",
    "}"
   ]
  },
  {
   "cell_type": "code",
   "execution_count": 5,
   "metadata": {},
   "outputs": [
    {
     "data": {
      "image/png": "[encoded data removed]",
      "text/plain": [
       "plot without title"
      ]
     },
     "metadata": {
      "image/png": {
       "height": 420,
       "width": 420
      }
     },
     "output_type": "display_data"
    }
   ],
   "source": [
    "thetasBoot1a = thetasBoot %>% as.data.frame ( )\n",
    "colnames ( thetasBoot1a ) = \"Theta\"\n",
    "\n",
    "plotDistrib = thetasBoot1a %>% ggplot ( aes ( x = Theta ) ) + \n",
    "geom_histogram ( bins = 50 ) +  \n",
    "# xlim(-10, 10) + \n",
    "geom_vline ( xintercept = theta ) +\n",
    "labs ( x = \"Theta\" , y = \"Frequência absoluta\" , title = \"Distribuição de Theta\" )\n",
    "\n",
    "plotDistrib"
   ]
  },
  {
   "cell_type": "code",
   "execution_count": 6,
   "metadata": {},
   "outputs": [
    {
     "name": "stdout",
     "output_type": "stream",
     "text": [
      "[1] \"Limite de confiança Effron: [0.01;1.85]\"\n"
     ]
    }
   ],
   "source": [
    "quantis = quantile(thetasBoot , c ( .025 , .975 ))\n",
    "print ( paste0 ( \"Limite de confiança Effron: \" , \"[\" , round ( quantis[[1]] , 2 ) , \";\" , round ( quantis[[2]] , 2 ) , \"]\"  ) )"
   ]
  },
  {
   "cell_type": "markdown",
   "metadata": {},
   "source": [
    "**Conclusão:** Pelo limite de confiança de Efron, concluímos que não há evidências de bioequivalência entre os medicamentos (intervalo de confiança abrangente demais)."
   ]
  },
  {
   "cell_type": "markdown",
   "metadata": {},
   "source": [
    "b) Delineamento Aleatorizado em Blocos Completos em que os três tratamentos foram aplicados a 8 pacientes voluntários, que aceitaram participar do estudo e cumpriram a todos os critérios de inclusão. Para cada paciente a ordem do tratamento foi aleatorizada, sendo que entre os tratamentos foi respeitado um período de “limpeza” (washout) do organismo. "
   ]
  },
  {
   "cell_type": "code",
   "execution_count": 7,
   "metadata": {},
   "outputs": [
    {
     "data": {
      "text/html": [
       "<table>\n",
       "<caption>A data.frame: 10 × 3</caption>\n",
       "<thead>\n",
       "\t<tr><th></th><th scope=col>Valores</th><th scope=col>trat</th><th scope=col>idLinha</th></tr>\n",
       "\t<tr><th></th><th scope=col>&lt;dbl&gt;</th><th scope=col>&lt;chr&gt;</th><th scope=col>&lt;int&gt;</th></tr>\n",
       "</thead>\n",
       "<tbody>\n",
       "\t<tr><th scope=row>1</th><td> 9243</td><td>Placebo  </td><td>1</td></tr>\n",
       "\t<tr><th scope=row>2</th><td> 9671</td><td>Placebo  </td><td>2</td></tr>\n",
       "\t<tr><th scope=row>3</th><td>11792</td><td>Placebo  </td><td>3</td></tr>\n",
       "\t<tr><th scope=row>4</th><td>13357</td><td>Placebo  </td><td>4</td></tr>\n",
       "\t<tr><th scope=row>5</th><td> 9055</td><td>Placebo  </td><td>5</td></tr>\n",
       "\t<tr><th scope=row>6</th><td> 6290</td><td>Placebo  </td><td>6</td></tr>\n",
       "\t<tr><th scope=row>7</th><td>12412</td><td>Placebo  </td><td>7</td></tr>\n",
       "\t<tr><th scope=row>8</th><td>18806</td><td>Placebo  </td><td>8</td></tr>\n",
       "\t<tr><th scope=row>9</th><td>17649</td><td>MedPadrao</td><td>1</td></tr>\n",
       "\t<tr><th scope=row>10</th><td>12013</td><td>MedPadrao</td><td>2</td></tr>\n",
       "</tbody>\n",
       "</table>\n"
      ],
      "text/latex": [
       "A data.frame: 10 × 3\n",
       "\\begin{tabular}{r|lll}\n",
       "  & Valores & trat & idLinha\\\\\n",
       "  & <dbl> & <chr> & <int>\\\\\n",
       "\\hline\n",
       "\t1 &  9243 & Placebo   & 1\\\\\n",
       "\t2 &  9671 & Placebo   & 2\\\\\n",
       "\t3 & 11792 & Placebo   & 3\\\\\n",
       "\t4 & 13357 & Placebo   & 4\\\\\n",
       "\t5 &  9055 & Placebo   & 5\\\\\n",
       "\t6 &  6290 & Placebo   & 6\\\\\n",
       "\t7 & 12412 & Placebo   & 7\\\\\n",
       "\t8 & 18806 & Placebo   & 8\\\\\n",
       "\t9 & 17649 & MedPadrao & 1\\\\\n",
       "\t10 & 12013 & MedPadrao & 2\\\\\n",
       "\\end{tabular}\n"
      ],
      "text/markdown": [
       "\n",
       "A data.frame: 10 × 3\n",
       "\n",
       "| <!--/--> | Valores &lt;dbl&gt; | trat &lt;chr&gt; | idLinha &lt;int&gt; |\n",
       "|---|---|---|---|\n",
       "| 1 |  9243 | Placebo   | 1 |\n",
       "| 2 |  9671 | Placebo   | 2 |\n",
       "| 3 | 11792 | Placebo   | 3 |\n",
       "| 4 | 13357 | Placebo   | 4 |\n",
       "| 5 |  9055 | Placebo   | 5 |\n",
       "| 6 |  6290 | Placebo   | 6 |\n",
       "| 7 | 12412 | Placebo   | 7 |\n",
       "| 8 | 18806 | Placebo   | 8 |\n",
       "| 9 | 17649 | MedPadrao | 1 |\n",
       "| 10 | 12013 | MedPadrao | 2 |\n",
       "\n"
      ],
      "text/plain": [
       "   Valores trat      idLinha\n",
       "1   9243   Placebo   1      \n",
       "2   9671   Placebo   2      \n",
       "3  11792   Placebo   3      \n",
       "4  13357   Placebo   4      \n",
       "5   9055   Placebo   5      \n",
       "6   6290   Placebo   6      \n",
       "7  12412   Placebo   7      \n",
       "8  18806   Placebo   8      \n",
       "9  17649   MedPadrao 1      \n",
       "10 12013   MedPadrao 2      "
      ]
     },
     "metadata": {},
     "output_type": "display_data"
    }
   ],
   "source": [
    "# Considerando agora que cada indivíduo é um bloco, temos que as observacoes estao atreladas a cada linha.\n",
    "# Isto eh, a amostragem deve ocorrer no indice das linhas\n",
    "# 24 pacientes para 3 tratamentos, em DCA - aleatorizar tratamentos às respostas\n",
    "\n",
    "df1b = df1 %>% mutate ( idLinha = rep ( 1:8 , 3 ) )\n",
    "df1b %>% head ( 10 )"
   ]
  },
  {
   "cell_type": "code",
   "execution_count": 8,
   "metadata": {},
   "outputs": [],
   "source": [
    "thetasBoot2 = numeric( numeroSimulacoes )\n",
    "i = 1\n",
    "set.seed ( 9297791 )\n",
    "while ( i < numeroSimulacoes ){\n",
    "    \n",
    "    idLinha = sample ( 1:8 , replace = T )\n",
    "    ids = idLinha %>% as.data.frame ( )\n",
    "    colnames ( ids ) = \"idLinha\"\n",
    "    dfBoot = merge ( df1b , ids , by = 'idLinha' )\n",
    "    mediasBoot = tapply ( dfBoot$Valores , dfBoot$trat , \"mean\" )\n",
    "    mediaNovaBoot = mediasBoot[[\"MedNovo\"]]\n",
    "    mediaPadraoBoot = mediasBoot[[\"MedPadrao\"]]\n",
    "    mediaPlaceboBoot = mediasBoot[[\"Placebo\"]]\n",
    "    \n",
    "    if ( mediaPadraoBoot != mediaPlaceboBoot ){\n",
    "        \n",
    "        thetasBoot2[i] = abs ( mediaNovaBoot - mediaPadraoBoot ) / (mediaPadraoBoot - mediaPlaceboBoot)\n",
    "        i = i + 1\n",
    "        \n",
    "    }\n",
    "    \n",
    "    \n",
    "}"
   ]
  },
  {
   "cell_type": "code",
   "execution_count": 9,
   "metadata": {},
   "outputs": [
    {
     "data": {
      "image/png": "[encoded data removed]",
      "text/plain": [
       "plot without title"
      ]
     },
     "metadata": {
      "image/png": {
       "height": 420,
       "width": 420
      }
     },
     "output_type": "display_data"
    }
   ],
   "source": [
    "thetasBoot1b = thetasBoot2 %>% as.data.frame ( )\n",
    "colnames ( thetasBoot1b ) = \"Theta\"\n",
    "\n",
    "plotDistrib = thetasBoot1b %>% ggplot ( aes ( x = Theta ) ) + \n",
    "geom_histogram ( bins = 20 ) +  \n",
    "# xlim(-10, 10) + \n",
    "geom_vline ( xintercept = theta ) +\n",
    "labs ( x = \"Theta\" , y = \"Frequência absoluta\" , title = \"Distribuição de Theta\" )\n",
    "\n",
    "plotDistrib"
   ]
  },
  {
   "cell_type": "code",
   "execution_count": 10,
   "metadata": {},
   "outputs": [
    {
     "name": "stdout",
     "output_type": "stream",
     "text": [
      "[1] \"Limite de confiança Effron: [0.01;0.23]\"\n"
     ]
    }
   ],
   "source": [
    "quantis = quantile(thetasBoot2 , c ( .025 , .975 ))\n",
    "print ( paste0 ( \"Limite de confiança Effron: \" , \"[\" , round ( quantis[[1]] , 2 ) , \";\" , round ( quantis[[2]] , 2 ) , \"]\"  ) )"
   ]
  },
  {
   "cell_type": "markdown",
   "metadata": {},
   "source": [
    "**Conclusão:** Pelo limite de confiança, ainda conclui-se que não há bioequivalência entre os medicamentos (pois existem $\\theta$'s maiores do que o limite estipulado pela ANVISA)."
   ]
  },
  {
   "cell_type": "markdown",
   "metadata": {},
   "source": [
    "2. Considere os dados a seguir apresentados em Manly (2007), que correspondem à distribuição (em porcentagem) de indivíduos de 17 colônias de caracol de acordo com o tipo de concha. As colônias estão classificadas de acordo com o tipo de habitat dos caracóis.\n",
    "Como trata-se de dados composicionais (cada linha soma 100%), na realização das análises a seguir exclua a última coluna de dados.\n"
   ]
  },
  {
   "cell_type": "code",
   "execution_count": 11,
   "metadata": {
    "scrolled": true
   },
   "outputs": [
    {
     "data": {
      "text/html": [
       "<table>\n",
       "<caption>A data.frame: 5 × 12</caption>\n",
       "<thead>\n",
       "\t<tr><th></th><th scope=col>Habitat</th><th scope=col>Colony</th><th scope=col>YellowUB</th><th scope=col>YellowMB</th><th scope=col>YellowFB</th><th scope=col>YellowOB</th><th scope=col>PinkUB</th><th scope=col>PinkMB</th><th scope=col>PinkFB</th><th scope=col>PinkOB</th><th scope=col>BrownUB</th><th scope=col>BrownB</th></tr>\n",
       "\t<tr><th></th><th scope=col>&lt;fct&gt;</th><th scope=col>&lt;int&gt;</th><th scope=col>&lt;dbl&gt;</th><th scope=col>&lt;dbl&gt;</th><th scope=col>&lt;dbl&gt;</th><th scope=col>&lt;dbl&gt;</th><th scope=col>&lt;dbl&gt;</th><th scope=col>&lt;dbl&gt;</th><th scope=col>&lt;dbl&gt;</th><th scope=col>&lt;dbl&gt;</th><th scope=col>&lt;dbl&gt;</th><th scope=col>&lt;dbl&gt;</th></tr>\n",
       "</thead>\n",
       "<tbody>\n",
       "\t<tr><th scope=row>1</th><td>Downland beech</td><td>1</td><td> 9.6</td><td>15.4</td><td>0.0</td><td>0.0</td><td>48.7</td><td>25.0</td><td> 0.0</td><td> 0.0</td><td> 0.6</td><td> 0.6</td></tr>\n",
       "\t<tr><th scope=row>2</th><td>Downland beech</td><td>2</td><td>10.6</td><td>16.0</td><td>0.0</td><td>0.0</td><td>26.3</td><td> 4.5</td><td> 0.0</td><td> 0.0</td><td>36.5</td><td> 5.8</td></tr>\n",
       "\t<tr><th scope=row>3</th><td>Oakwood       </td><td>1</td><td> 1.2</td><td> 4.7</td><td>1.2</td><td>1.2</td><td> 5.8</td><td>25.6</td><td> 4.7</td><td> 1.2</td><td>34.9</td><td>19.8</td></tr>\n",
       "\t<tr><th scope=row>4</th><td>Oakwood       </td><td>2</td><td> 0.0</td><td>13.0</td><td>0.5</td><td>0.0</td><td>27.6</td><td>43.2</td><td> 3.8</td><td> 8.6</td><td> 0.0</td><td> 3.2</td></tr>\n",
       "\t<tr><th scope=row>5</th><td>Oakwood       </td><td>3</td><td> 1.5</td><td> 1.0</td><td>0.7</td><td>0.5</td><td>23.2</td><td>28.4</td><td>10.7</td><td>23.8</td><td>10.2</td><td> 0.0</td></tr>\n",
       "</tbody>\n",
       "</table>\n"
      ],
      "text/latex": [
       "A data.frame: 5 × 12\n",
       "\\begin{tabular}{r|llllllllllll}\n",
       "  & Habitat & Colony & YellowUB & YellowMB & YellowFB & YellowOB & PinkUB & PinkMB & PinkFB & PinkOB & BrownUB & BrownB\\\\\n",
       "  & <fct> & <int> & <dbl> & <dbl> & <dbl> & <dbl> & <dbl> & <dbl> & <dbl> & <dbl> & <dbl> & <dbl>\\\\\n",
       "\\hline\n",
       "\t1 & Downland beech & 1 &  9.6 & 15.4 & 0.0 & 0.0 & 48.7 & 25.0 &  0.0 &  0.0 &  0.6 &  0.6\\\\\n",
       "\t2 & Downland beech & 2 & 10.6 & 16.0 & 0.0 & 0.0 & 26.3 &  4.5 &  0.0 &  0.0 & 36.5 &  5.8\\\\\n",
       "\t3 & Oakwood        & 1 &  1.2 &  4.7 & 1.2 & 1.2 &  5.8 & 25.6 &  4.7 &  1.2 & 34.9 & 19.8\\\\\n",
       "\t4 & Oakwood        & 2 &  0.0 & 13.0 & 0.5 & 0.0 & 27.6 & 43.2 &  3.8 &  8.6 &  0.0 &  3.2\\\\\n",
       "\t5 & Oakwood        & 3 &  1.5 &  1.0 & 0.7 & 0.5 & 23.2 & 28.4 & 10.7 & 23.8 & 10.2 &  0.0\\\\\n",
       "\\end{tabular}\n"
      ],
      "text/markdown": [
       "\n",
       "A data.frame: 5 × 12\n",
       "\n",
       "| <!--/--> | Habitat &lt;fct&gt; | Colony &lt;int&gt; | YellowUB &lt;dbl&gt; | YellowMB &lt;dbl&gt; | YellowFB &lt;dbl&gt; | YellowOB &lt;dbl&gt; | PinkUB &lt;dbl&gt; | PinkMB &lt;dbl&gt; | PinkFB &lt;dbl&gt; | PinkOB &lt;dbl&gt; | BrownUB &lt;dbl&gt; | BrownB &lt;dbl&gt; |\n",
       "|---|---|---|---|---|---|---|---|---|---|---|---|---|\n",
       "| 1 | Downland beech | 1 |  9.6 | 15.4 | 0.0 | 0.0 | 48.7 | 25.0 |  0.0 |  0.0 |  0.6 |  0.6 |\n",
       "| 2 | Downland beech | 2 | 10.6 | 16.0 | 0.0 | 0.0 | 26.3 |  4.5 |  0.0 |  0.0 | 36.5 |  5.8 |\n",
       "| 3 | Oakwood        | 1 |  1.2 |  4.7 | 1.2 | 1.2 |  5.8 | 25.6 |  4.7 |  1.2 | 34.9 | 19.8 |\n",
       "| 4 | Oakwood        | 2 |  0.0 | 13.0 | 0.5 | 0.0 | 27.6 | 43.2 |  3.8 |  8.6 |  0.0 |  3.2 |\n",
       "| 5 | Oakwood        | 3 |  1.5 |  1.0 | 0.7 | 0.5 | 23.2 | 28.4 | 10.7 | 23.8 | 10.2 |  0.0 |\n",
       "\n"
      ],
      "text/plain": [
       "  Habitat        Colony YellowUB YellowMB YellowFB YellowOB PinkUB PinkMB\n",
       "1 Downland beech 1       9.6     15.4     0.0      0.0      48.7   25.0  \n",
       "2 Downland beech 2      10.6     16.0     0.0      0.0      26.3    4.5  \n",
       "3 Oakwood        1       1.2      4.7     1.2      1.2       5.8   25.6  \n",
       "4 Oakwood        2       0.0     13.0     0.5      0.0      27.6   43.2  \n",
       "5 Oakwood        3       1.5      1.0     0.7      0.5      23.2   28.4  \n",
       "  PinkFB PinkOB BrownUB BrownB\n",
       "1  0.0    0.0    0.6     0.6  \n",
       "2  0.0    0.0   36.5     5.8  \n",
       "3  4.7    1.2   34.9    19.8  \n",
       "4  3.8    8.6    0.0     3.2  \n",
       "5 10.7   23.8   10.2     0.0  "
      ]
     },
     "metadata": {},
     "output_type": "display_data"
    }
   ],
   "source": [
    "dados2 = read.table('~/Monitoria/Dados/lista4Ex2.csv' , sep = ';' , header = T , dec = ',' )\n",
    "dados2 %>% head(5)"
   ]
  },
  {
   "cell_type": "code",
   "execution_count": 12,
   "metadata": {},
   "outputs": [
    {
     "data": {
      "text/html": [
       "<table>\n",
       "<caption>A data.frame: 5 × 11</caption>\n",
       "<thead>\n",
       "\t<tr><th></th><th scope=col>Habitat</th><th scope=col>Colony</th><th scope=col>YellowUB</th><th scope=col>YellowMB</th><th scope=col>YellowFB</th><th scope=col>YellowOB</th><th scope=col>PinkUB</th><th scope=col>PinkMB</th><th scope=col>PinkFB</th><th scope=col>PinkOB</th><th scope=col>BrownUB</th></tr>\n",
       "\t<tr><th></th><th scope=col>&lt;fct&gt;</th><th scope=col>&lt;int&gt;</th><th scope=col>&lt;dbl&gt;</th><th scope=col>&lt;dbl&gt;</th><th scope=col>&lt;dbl&gt;</th><th scope=col>&lt;dbl&gt;</th><th scope=col>&lt;dbl&gt;</th><th scope=col>&lt;dbl&gt;</th><th scope=col>&lt;dbl&gt;</th><th scope=col>&lt;dbl&gt;</th><th scope=col>&lt;dbl&gt;</th></tr>\n",
       "</thead>\n",
       "<tbody>\n",
       "\t<tr><th scope=row>1</th><td>Downland beech</td><td>1</td><td> 0.4528595</td><td> 1.4958322</td><td>-0.8573030</td><td>-0.9711100</td><td> 2.1254980</td><td> 1.1322933</td><td>-1.1167962</td><td>-1.3297705</td><td>-0.82932478</td></tr>\n",
       "\t<tr><th scope=row>2</th><td>Downland beech</td><td>2</td><td> 0.5796900</td><td> 1.6002640</td><td>-0.8573030</td><td>-0.9711100</td><td> 0.6829928</td><td>-0.5490199</td><td>-1.1167962</td><td>-1.3297705</td><td> 1.98410997</td></tr>\n",
       "\t<tr><th scope=row>3</th><td>Oakwood       </td><td>1</td><td>-0.6125167</td><td>-0.3665352</td><td>-0.7729375</td><td>-0.8037904</td><td>-0.6371569</td><td> 1.1815025</td><td>-0.7729349</td><td>-1.1915069</td><td> 1.85872012</td></tr>\n",
       "\t<tr><th scope=row>4</th><td>Oakwood       </td><td>2</td><td>-0.7647133</td><td> 1.0781050</td><td>-0.8221507</td><td>-0.9711100</td><td> 0.7667097</td><td> 2.6249714</td><td>-0.8387807</td><td>-0.3388814</td><td>-0.87634597</td></tr>\n",
       "\t<tr><th scope=row>5</th><td>Oakwood       </td><td>3</td><td>-0.5744675</td><td>-1.0105314</td><td>-0.8080898</td><td>-0.9013935</td><td> 0.4833604</td><td> 1.4111453</td><td>-0.3339630</td><td> 1.4124576</td><td>-0.07698568</td></tr>\n",
       "</tbody>\n",
       "</table>\n"
      ],
      "text/latex": [
       "A data.frame: 5 × 11\n",
       "\\begin{tabular}{r|lllllllllll}\n",
       "  & Habitat & Colony & YellowUB & YellowMB & YellowFB & YellowOB & PinkUB & PinkMB & PinkFB & PinkOB & BrownUB\\\\\n",
       "  & <fct> & <int> & <dbl> & <dbl> & <dbl> & <dbl> & <dbl> & <dbl> & <dbl> & <dbl> & <dbl>\\\\\n",
       "\\hline\n",
       "\t1 & Downland beech & 1 &  0.4528595 &  1.4958322 & -0.8573030 & -0.9711100 &  2.1254980 &  1.1322933 & -1.1167962 & -1.3297705 & -0.82932478\\\\\n",
       "\t2 & Downland beech & 2 &  0.5796900 &  1.6002640 & -0.8573030 & -0.9711100 &  0.6829928 & -0.5490199 & -1.1167962 & -1.3297705 &  1.98410997\\\\\n",
       "\t3 & Oakwood        & 1 & -0.6125167 & -0.3665352 & -0.7729375 & -0.8037904 & -0.6371569 &  1.1815025 & -0.7729349 & -1.1915069 &  1.85872012\\\\\n",
       "\t4 & Oakwood        & 2 & -0.7647133 &  1.0781050 & -0.8221507 & -0.9711100 &  0.7667097 &  2.6249714 & -0.8387807 & -0.3388814 & -0.87634597\\\\\n",
       "\t5 & Oakwood        & 3 & -0.5744675 & -1.0105314 & -0.8080898 & -0.9013935 &  0.4833604 &  1.4111453 & -0.3339630 &  1.4124576 & -0.07698568\\\\\n",
       "\\end{tabular}\n"
      ],
      "text/markdown": [
       "\n",
       "A data.frame: 5 × 11\n",
       "\n",
       "| <!--/--> | Habitat &lt;fct&gt; | Colony &lt;int&gt; | YellowUB &lt;dbl&gt; | YellowMB &lt;dbl&gt; | YellowFB &lt;dbl&gt; | YellowOB &lt;dbl&gt; | PinkUB &lt;dbl&gt; | PinkMB &lt;dbl&gt; | PinkFB &lt;dbl&gt; | PinkOB &lt;dbl&gt; | BrownUB &lt;dbl&gt; |\n",
       "|---|---|---|---|---|---|---|---|---|---|---|---|\n",
       "| 1 | Downland beech | 1 |  0.4528595 |  1.4958322 | -0.8573030 | -0.9711100 |  2.1254980 |  1.1322933 | -1.1167962 | -1.3297705 | -0.82932478 |\n",
       "| 2 | Downland beech | 2 |  0.5796900 |  1.6002640 | -0.8573030 | -0.9711100 |  0.6829928 | -0.5490199 | -1.1167962 | -1.3297705 |  1.98410997 |\n",
       "| 3 | Oakwood        | 1 | -0.6125167 | -0.3665352 | -0.7729375 | -0.8037904 | -0.6371569 |  1.1815025 | -0.7729349 | -1.1915069 |  1.85872012 |\n",
       "| 4 | Oakwood        | 2 | -0.7647133 |  1.0781050 | -0.8221507 | -0.9711100 |  0.7667097 |  2.6249714 | -0.8387807 | -0.3388814 | -0.87634597 |\n",
       "| 5 | Oakwood        | 3 | -0.5744675 | -1.0105314 | -0.8080898 | -0.9013935 |  0.4833604 |  1.4111453 | -0.3339630 |  1.4124576 | -0.07698568 |\n",
       "\n"
      ],
      "text/plain": [
       "  Habitat        Colony YellowUB   YellowMB   YellowFB   YellowOB   PinkUB    \n",
       "1 Downland beech 1       0.4528595  1.4958322 -0.8573030 -0.9711100  2.1254980\n",
       "2 Downland beech 2       0.5796900  1.6002640 -0.8573030 -0.9711100  0.6829928\n",
       "3 Oakwood        1      -0.6125167 -0.3665352 -0.7729375 -0.8037904 -0.6371569\n",
       "4 Oakwood        2      -0.7647133  1.0781050 -0.8221507 -0.9711100  0.7667097\n",
       "5 Oakwood        3      -0.5744675 -1.0105314 -0.8080898 -0.9013935  0.4833604\n",
       "  PinkMB     PinkFB     PinkOB     BrownUB    \n",
       "1  1.1322933 -1.1167962 -1.3297705 -0.82932478\n",
       "2 -0.5490199 -1.1167962 -1.3297705  1.98410997\n",
       "3  1.1815025 -0.7729349 -1.1915069  1.85872012\n",
       "4  2.6249714 -0.8387807 -0.3388814 -0.87634597\n",
       "5  1.4111453 -0.3339630  1.4124576 -0.07698568"
      ]
     },
     "metadata": {},
     "output_type": "display_data"
    }
   ],
   "source": [
    "# Excluindo ultima coluna\n",
    "dados2 = dados2[,-12]\n",
    "dadosPad = dados2\n",
    "dadosPad[ , 3 : 11 ] = scale ( dadosPad[ , 3 : 11 ] )\n",
    "dadosPad %>% head(5)"
   ]
  },
  {
   "cell_type": "markdown",
   "metadata": {},
   "source": [
    "a) Em Análise de Componentes Principais (CP), por exemplo, da matriz Y17x9  dos dados dos caracóis, há interesse em avaliar quantos componentes devem ser retidos na redução de dimensionalidade dos dados. Um dos critérios é adotar os primeiros CP extraídos dos dados originais com variância (autovalor) maior ou igual à média dos autovalores. No caso de dados padronizados esse critério corresponde a considerar os CP com autovalores maiores ou iguais a 1. Para os dados dos caracóis obtenha os CP e os correspondentes intervalos bootstrap a 95% de confiança para os autovalores."
   ]
  },
  {
   "cell_type": "code",
   "execution_count": 13,
   "metadata": {},
   "outputs": [
    {
     "data": {
      "text/html": [
       "<table>\n",
       "<caption>A matrix: 9 × 9 of type dbl</caption>\n",
       "<thead>\n",
       "\t<tr><th></th><th scope=col>YellowUB</th><th scope=col>YellowMB</th><th scope=col>YellowFB</th><th scope=col>YellowOB</th><th scope=col>PinkUB</th><th scope=col>PinkMB</th><th scope=col>PinkFB</th><th scope=col>PinkOB</th><th scope=col>BrownUB</th></tr>\n",
       "</thead>\n",
       "<tbody>\n",
       "\t<tr><th scope=row>YellowUB</th><td> 1.00000000</td><td> 0.291002692</td><td>-0.168452909</td><td> 0.0286129</td><td>-0.081378156</td><td>-0.27519052</td><td>-0.3555966</td><td>-0.26317815</td><td> 0.281424793</td></tr>\n",
       "\t<tr><th scope=row>YellowMB</th><td> 0.29100269</td><td> 1.000000000</td><td>-0.005200163</td><td>-0.2060514</td><td> 0.112702772</td><td> 0.23993665</td><td>-0.5496313</td><td>-0.64354868</td><td> 0.050359795</td></tr>\n",
       "\t<tr><th scope=row>YellowFB</th><td>-0.16845291</td><td>-0.005200163</td><td> 1.000000000</td><td> 0.5030096</td><td>-0.535076435</td><td>-0.46776419</td><td> 0.2465008</td><td> 0.03765918</td><td>-0.440155177</td></tr>\n",
       "\t<tr><th scope=row>YellowOB</th><td> 0.02861290</td><td>-0.206051428</td><td> 0.503009565</td><td> 1.0000000</td><td>-0.424984934</td><td>-0.54421028</td><td> 0.1947720</td><td> 0.32152413</td><td>-0.327542594</td></tr>\n",
       "\t<tr><th scope=row>PinkUB</th><td>-0.08137816</td><td> 0.112702772</td><td>-0.535076435</td><td>-0.4249849</td><td> 1.000000000</td><td> 0.37372463</td><td>-0.3775150</td><td>-0.33136459</td><td> 0.006850406</td></tr>\n",
       "\t<tr><th scope=row>PinkMB</th><td>-0.27519052</td><td> 0.239936646</td><td>-0.467764193</td><td>-0.5442103</td><td> 0.373724626</td><td> 1.00000000</td><td>-0.4146065</td><td>-0.18826068</td><td>-0.042317283</td></tr>\n",
       "\t<tr><th scope=row>PinkFB</th><td>-0.35559660</td><td>-0.549631303</td><td> 0.246500768</td><td> 0.1947720</td><td>-0.377515025</td><td>-0.41460653</td><td> 1.0000000</td><td> 0.70549460</td><td>-0.438828962</td></tr>\n",
       "\t<tr><th scope=row>PinkOB</th><td>-0.26317815</td><td>-0.643548682</td><td> 0.037659178</td><td> 0.3215241</td><td>-0.331364590</td><td>-0.18826068</td><td> 0.7054946</td><td> 1.00000000</td><td>-0.403396517</td></tr>\n",
       "\t<tr><th scope=row>BrownUB</th><td> 0.28142479</td><td> 0.050359795</td><td>-0.440155177</td><td>-0.3275426</td><td> 0.006850406</td><td>-0.04231728</td><td>-0.4388290</td><td>-0.40339652</td><td> 1.000000000</td></tr>\n",
       "</tbody>\n",
       "</table>\n"
      ],
      "text/latex": [
       "A matrix: 9 × 9 of type dbl\n",
       "\\begin{tabular}{r|lllllllll}\n",
       "  & YellowUB & YellowMB & YellowFB & YellowOB & PinkUB & PinkMB & PinkFB & PinkOB & BrownUB\\\\\n",
       "\\hline\n",
       "\tYellowUB &  1.00000000 &  0.291002692 & -0.168452909 &  0.0286129 & -0.081378156 & -0.27519052 & -0.3555966 & -0.26317815 &  0.281424793\\\\\n",
       "\tYellowMB &  0.29100269 &  1.000000000 & -0.005200163 & -0.2060514 &  0.112702772 &  0.23993665 & -0.5496313 & -0.64354868 &  0.050359795\\\\\n",
       "\tYellowFB & -0.16845291 & -0.005200163 &  1.000000000 &  0.5030096 & -0.535076435 & -0.46776419 &  0.2465008 &  0.03765918 & -0.440155177\\\\\n",
       "\tYellowOB &  0.02861290 & -0.206051428 &  0.503009565 &  1.0000000 & -0.424984934 & -0.54421028 &  0.1947720 &  0.32152413 & -0.327542594\\\\\n",
       "\tPinkUB & -0.08137816 &  0.112702772 & -0.535076435 & -0.4249849 &  1.000000000 &  0.37372463 & -0.3775150 & -0.33136459 &  0.006850406\\\\\n",
       "\tPinkMB & -0.27519052 &  0.239936646 & -0.467764193 & -0.5442103 &  0.373724626 &  1.00000000 & -0.4146065 & -0.18826068 & -0.042317283\\\\\n",
       "\tPinkFB & -0.35559660 & -0.549631303 &  0.246500768 &  0.1947720 & -0.377515025 & -0.41460653 &  1.0000000 &  0.70549460 & -0.438828962\\\\\n",
       "\tPinkOB & -0.26317815 & -0.643548682 &  0.037659178 &  0.3215241 & -0.331364590 & -0.18826068 &  0.7054946 &  1.00000000 & -0.403396517\\\\\n",
       "\tBrownUB &  0.28142479 &  0.050359795 & -0.440155177 & -0.3275426 &  0.006850406 & -0.04231728 & -0.4388290 & -0.40339652 &  1.000000000\\\\\n",
       "\\end{tabular}\n"
      ],
      "text/markdown": [
       "\n",
       "A matrix: 9 × 9 of type dbl\n",
       "\n",
       "| <!--/--> | YellowUB | YellowMB | YellowFB | YellowOB | PinkUB | PinkMB | PinkFB | PinkOB | BrownUB |\n",
       "|---|---|---|---|---|---|---|---|---|---|\n",
       "| YellowUB |  1.00000000 |  0.291002692 | -0.168452909 |  0.0286129 | -0.081378156 | -0.27519052 | -0.3555966 | -0.26317815 |  0.281424793 |\n",
       "| YellowMB |  0.29100269 |  1.000000000 | -0.005200163 | -0.2060514 |  0.112702772 |  0.23993665 | -0.5496313 | -0.64354868 |  0.050359795 |\n",
       "| YellowFB | -0.16845291 | -0.005200163 |  1.000000000 |  0.5030096 | -0.535076435 | -0.46776419 |  0.2465008 |  0.03765918 | -0.440155177 |\n",
       "| YellowOB |  0.02861290 | -0.206051428 |  0.503009565 |  1.0000000 | -0.424984934 | -0.54421028 |  0.1947720 |  0.32152413 | -0.327542594 |\n",
       "| PinkUB | -0.08137816 |  0.112702772 | -0.535076435 | -0.4249849 |  1.000000000 |  0.37372463 | -0.3775150 | -0.33136459 |  0.006850406 |\n",
       "| PinkMB | -0.27519052 |  0.239936646 | -0.467764193 | -0.5442103 |  0.373724626 |  1.00000000 | -0.4146065 | -0.18826068 | -0.042317283 |\n",
       "| PinkFB | -0.35559660 | -0.549631303 |  0.246500768 |  0.1947720 | -0.377515025 | -0.41460653 |  1.0000000 |  0.70549460 | -0.438828962 |\n",
       "| PinkOB | -0.26317815 | -0.643548682 |  0.037659178 |  0.3215241 | -0.331364590 | -0.18826068 |  0.7054946 |  1.00000000 | -0.403396517 |\n",
       "| BrownUB |  0.28142479 |  0.050359795 | -0.440155177 | -0.3275426 |  0.006850406 | -0.04231728 | -0.4388290 | -0.40339652 |  1.000000000 |\n",
       "\n"
      ],
      "text/plain": [
       "         YellowUB    YellowMB     YellowFB     YellowOB   PinkUB      \n",
       "YellowUB  1.00000000  0.291002692 -0.168452909  0.0286129 -0.081378156\n",
       "YellowMB  0.29100269  1.000000000 -0.005200163 -0.2060514  0.112702772\n",
       "YellowFB -0.16845291 -0.005200163  1.000000000  0.5030096 -0.535076435\n",
       "YellowOB  0.02861290 -0.206051428  0.503009565  1.0000000 -0.424984934\n",
       "PinkUB   -0.08137816  0.112702772 -0.535076435 -0.4249849  1.000000000\n",
       "PinkMB   -0.27519052  0.239936646 -0.467764193 -0.5442103  0.373724626\n",
       "PinkFB   -0.35559660 -0.549631303  0.246500768  0.1947720 -0.377515025\n",
       "PinkOB   -0.26317815 -0.643548682  0.037659178  0.3215241 -0.331364590\n",
       "BrownUB   0.28142479  0.050359795 -0.440155177 -0.3275426  0.006850406\n",
       "         PinkMB      PinkFB     PinkOB      BrownUB     \n",
       "YellowUB -0.27519052 -0.3555966 -0.26317815  0.281424793\n",
       "YellowMB  0.23993665 -0.5496313 -0.64354868  0.050359795\n",
       "YellowFB -0.46776419  0.2465008  0.03765918 -0.440155177\n",
       "YellowOB -0.54421028  0.1947720  0.32152413 -0.327542594\n",
       "PinkUB    0.37372463 -0.3775150 -0.33136459  0.006850406\n",
       "PinkMB    1.00000000 -0.4146065 -0.18826068 -0.042317283\n",
       "PinkFB   -0.41460653  1.0000000  0.70549460 -0.438828962\n",
       "PinkOB   -0.18826068  0.7054946  1.00000000 -0.403396517\n",
       "BrownUB  -0.04231728 -0.4388290 -0.40339652  1.000000000"
      ]
     },
     "metadata": {},
     "output_type": "display_data"
    }
   ],
   "source": [
    "# Calculo dos CP (excluindo info de colonias)\n",
    "matrizCov = cov ( dadosPad [ , -1:-2 ] )\n",
    "matrizCov"
   ]
  },
  {
   "cell_type": "code",
   "execution_count": 14,
   "metadata": {},
   "outputs": [
    {
     "name": "stdout",
     "output_type": "stream",
     "text": [
      "[1] \"Os 3 primeiros componentes principais representam 72.57% da variância total\"\n"
     ]
    }
   ],
   "source": [
    "decomp = eigen ( matrizCov )\n",
    "autoValMaioresMedia = which(decomp$values >= mean ( decomp$values ) )\n",
    "print ( paste0 ( \"Os \" , length ( autoValMaioresMedia ) , \n",
    "                \" primeiros componentes principais representam \" , \n",
    "                100*round ( sum ( decomp$values[ autoValMaioresMedia ] ) /sum( decomp$values ) , 4 ),\n",
    "               \"% da variância total\"\n",
    "               ) )"
   ]
  },
  {
   "cell_type": "code",
   "execution_count": 15,
   "metadata": {},
   "outputs": [],
   "source": [
    "# Limites de confianca\n",
    "numeroSimulacoes = 1e3\n",
    "autoBoot = c ( )\n",
    "i = 1\n",
    "set.seed ( 9297791 )\n",
    "\n",
    "dadosPad$idRow = 1:17\n",
    "while ( i <= numeroSimulacoes ){\n",
    "    \n",
    "    idLinha2 = sample ( 1:17 , replace = T )\n",
    "    ids2 = idLinha2 %>% as.data.frame ( )\n",
    "    colnames ( ids2 ) = \"idRow\"\n",
    "    dfBoot2 = merge ( dadosPad , ids2 , by = 'idRow' )\n",
    "    matrizCovBoot = cov ( dfBoot2 [ , -1:-2 ] )\n",
    "            \n",
    "    decompBoot = eigen ( matrizCovBoot )\n",
    "    autoBoot = rbind ( autoBoot , decompBoot$values[ autoValMaioresMedia ] )\n",
    "    \n",
    "    i = i + 1\n",
    "    \n",
    "    \n",
    "}"
   ]
  },
  {
   "cell_type": "code",
   "execution_count": 16,
   "metadata": {},
   "outputs": [
    {
     "data": {
      "text/html": [
       "<table>\n",
       "<caption>A data.frame: 3 × 3</caption>\n",
       "<thead>\n",
       "\t<tr><th></th><th scope=col>autoV1</th><th scope=col>autoV2</th><th scope=col>autoV3</th></tr>\n",
       "\t<tr><th></th><th scope=col>&lt;dbl&gt;</th><th scope=col>&lt;dbl&gt;</th><th scope=col>&lt;dbl&gt;</th></tr>\n",
       "</thead>\n",
       "<tbody>\n",
       "\t<tr><th scope=row>1</th><td>3.977476</td><td>2.426733</td><td>1.363644</td></tr>\n",
       "\t<tr><th scope=row>2</th><td>4.384641</td><td>1.609735</td><td>1.546802</td></tr>\n",
       "\t<tr><th scope=row>3</th><td>5.160931</td><td>1.851401</td><td>1.079817</td></tr>\n",
       "</tbody>\n",
       "</table>\n"
      ],
      "text/latex": [
       "A data.frame: 3 × 3\n",
       "\\begin{tabular}{r|lll}\n",
       "  & autoV1 & autoV2 & autoV3\\\\\n",
       "  & <dbl> & <dbl> & <dbl>\\\\\n",
       "\\hline\n",
       "\t1 & 3.977476 & 2.426733 & 1.363644\\\\\n",
       "\t2 & 4.384641 & 1.609735 & 1.546802\\\\\n",
       "\t3 & 5.160931 & 1.851401 & 1.079817\\\\\n",
       "\\end{tabular}\n"
      ],
      "text/markdown": [
       "\n",
       "A data.frame: 3 × 3\n",
       "\n",
       "| <!--/--> | autoV1 &lt;dbl&gt; | autoV2 &lt;dbl&gt; | autoV3 &lt;dbl&gt; |\n",
       "|---|---|---|---|\n",
       "| 1 | 3.977476 | 2.426733 | 1.363644 |\n",
       "| 2 | 4.384641 | 1.609735 | 1.546802 |\n",
       "| 3 | 5.160931 | 1.851401 | 1.079817 |\n",
       "\n"
      ],
      "text/plain": [
       "  autoV1   autoV2   autoV3  \n",
       "1 3.977476 2.426733 1.363644\n",
       "2 4.384641 1.609735 1.546802\n",
       "3 5.160931 1.851401 1.079817"
      ]
     },
     "metadata": {},
     "output_type": "display_data"
    }
   ],
   "source": [
    "autoBootDf = autoBoot %>% as.data.frame ( )\n",
    "colnames ( autoBootDf ) = c ( \"autoV1\" , \"autoV2\" , \"autoV3\" )\n",
    "autoBootDf %>% head( 3 )"
   ]
  },
  {
   "cell_type": "code",
   "execution_count": 17,
   "metadata": {},
   "outputs": [
    {
     "data": {
      "image/png": "[encoded data removed]",
      "text/plain": [
       "plot without title"
      ]
     },
     "metadata": {
      "image/png": {
       "height": 420,
       "width": 420
      }
     },
     "output_type": "display_data"
    }
   ],
   "source": [
    "autoBootGrafico = reshape2::melt ( data = autoBootDf , id.vars = NULL )\n",
    "\n",
    "autoBootGrafico %>% ggplot ( aes ( x = value , fill = variable) ) + \n",
    "geom_density ( alpha = 0.5 ) +\n",
    "labs ( x = \"Autovalor\" , y = \"Densidade\" , title = \"Distribuição dos autovalores (bootstrap)\" , fill = NULL)"
   ]
  },
  {
   "cell_type": "code",
   "execution_count": 18,
   "metadata": {},
   "outputs": [
    {
     "name": "stdout",
     "output_type": "stream",
     "text": [
      "[1] \"O intervalo bootstrap para o autovetor 1 é dado por [2.87;6.11]\"\n",
      "[1] \"O intervalo bootstrap para o autovetor 2 é dado por [1.47;3.26]\"\n",
      "[1] \"O intervalo bootstrap para o autovetor 3 é dado por [0.87;2.02]\"\n"
     ]
    }
   ],
   "source": [
    "printLC = function ( num , vetor ){\n",
    "    \n",
    "    quantis = quantile ( vetor , c ( .025 , .975 ) )\n",
    "    print ( paste0 ( \"O intervalo bootstrap para o autovetor \" , \n",
    "                    num ,\n",
    "                   \" é dado por [\" ,\n",
    "                    round ( quantis[[1]] , 2 ) ,\n",
    "                    \";\" ,\n",
    "                    round ( quantis[[2]] , 2 ) ,\n",
    "                    \"]\"\n",
    "                   ) )\n",
    "    \n",
    "}\n",
    "\n",
    "for ( i in 1:3 ){\n",
    "    \n",
    "    printLC ( i , autoBootDf[ , paste0 ( \"autoV\" , i ) ] )\n",
    "    \n",
    "}\n",
    "\n"
   ]
  },
  {
   "cell_type": "markdown",
   "metadata": {},
   "source": [
    "b) A Função Discriminante de Fisher é um classificador ótimo em muitas situações práticas. É obtida a partir da decomposição espectral de W-1B, com W e B matrizes de covariância entre e dentro de grupo, respectivamente. Os autovalores desta decomposição espectral podem ser usados no seguinte teste de significância do poder discriminante das funções de Fisher:\n",
    "<center>\n",
    "  $(n-1-\\frac{p+G}{2})ln(1+\\lambda_{j})\\sim\\chi^2_{p+G-2j}$\n",
    "</center>\n",
    "Em que n é o tamanho amostral (n=17, no caso dos dados dos caracóis), p é o número de variáveis (p=9), G é o número de grupos (G=6), $\\lambda_j$ é o j-ésimo autovalor (j=,1,2,...,min(n,p,G-1)) e $\\chi^2$ é a distribuição Qui-Quadrado com o correspondente número de graus de liberdade. A significância desta estatística para um conjunto de dados amostrais é uma indicação de que a discriminação não é aleatória (esporádica). Para os dados dos caracóis obtenha as duas primeiras funções discriminantes e represente as 17 colônias. Os 6 habitats podem ser bem preditos? Com base na estatística Qui-Quadrado o que é possível concluir sobre o poder discriminante das funções de Fisher neste caso? Construa também os correspondentes Testes de Aleatorização."
   ]
  },
  {
   "cell_type": "code",
   "execution_count": 19,
   "metadata": {},
   "outputs": [
    {
     "data": {
      "text/plain": [
       "Call:\n",
       "lda(Habitat ~ YellowUB + YellowMB + YellowFB + YellowOB + PinkUB + \n",
       "    PinkMB + PinkFB + PinkOB + BrownUB, data = dadosPad, prior = rep(1, \n",
       "    6)/6)\n",
       "\n",
       "Prior probabilities of groups:\n",
       "            Downland beech Downside long course grass \n",
       "                 0.1666667                  0.1666667 \n",
       "       Downside short turf                  Hedgerows \n",
       "                 0.1666667                  0.1666667 \n",
       "     Mixed deciduous woods                    Oakwood \n",
       "                 0.1666667                  0.1666667 \n",
       "\n",
       "Group means:\n",
       "                             YellowUB    YellowMB    YellowFB   YellowOB\n",
       "Downland beech              0.5162747  1.54804814 -0.85730304 -0.9711100\n",
       "Downside long course grass -0.7647133  0.78221480  1.13934872  0.9321508\n",
       "Downside short turf         2.8753220  1.04329435 -0.85730304 -0.4552078\n",
       "Hedgerows                   0.2816383 -0.24469809  0.78431029  0.6184265\n",
       "Mixed deciduous woods      -0.3106601 -0.88521324 -0.08817029  0.1471429\n",
       "Oakwood                    -0.6505658 -0.09965389 -0.80105933 -0.8920980\n",
       "                               PinkUB     PinkMB     PinkFB      PinkOB\n",
       "Downland beech              1.4042454  0.2916367 -1.1167962 -1.32977051\n",
       "Downside long course grass -0.6146178 -0.4506016  0.3647340 -0.02778827\n",
       "Downside short turf        -0.8174701 -0.2701680 -1.1167962 -0.83432594\n",
       "Hedgerows                  -0.7627322 -0.6269345  0.7488345  0.57423449\n",
       "Mixed deciduous woods       0.3352461 -0.4243567  0.3142523  0.27408725\n",
       "Oakwood                     0.2043044  1.7392064 -0.6485595 -0.03931024\n",
       "                              BrownUB\n",
       "Downland beech              0.5773926\n",
       "Downside long course grass -0.8018957\n",
       "Downside short turf         1.4668768\n",
       "Hedgerows                  -0.8136510\n",
       "Mixed deciduous woods       0.2662690\n",
       "Oakwood                     0.3017962\n",
       "\n",
       "Coefficients of linear discriminants:\n",
       "                LD1         LD2        LD3       LD4       LD5\n",
       "YellowUB -0.8392619 -1.13056221 -0.9847788 2.8414107 0.8598686\n",
       "YellowMB  1.1527793 -1.09707565  1.2701812 0.6907936 0.9990933\n",
       "YellowFB  0.4812565  0.64915469 -0.4029344 4.7376403 2.1227462\n",
       "YellowOB  0.9059652  0.40616361 -0.1698782 2.3751472 1.8138727\n",
       "PinkUB    0.3779922  0.51883653  0.8783791 4.9699957 1.7215581\n",
       "PinkMB   -2.7965512  1.39951960 -0.9912810 4.1270605 2.4227497\n",
       "PinkFB    1.1484188 -0.02593862 -0.3599329 4.8395247 2.3139910\n",
       "PinkOB   -0.3565679  0.19446683  0.1752514 1.5846717 0.7216202\n",
       "BrownUB  -1.3431603  0.71754320  0.2061422 5.3542092 3.1405326\n",
       "\n",
       "Proportion of trace:\n",
       "   LD1    LD2    LD3    LD4    LD5 \n",
       "0.6630 0.2135 0.0814 0.0392 0.0030 "
      ]
     },
     "metadata": {},
     "output_type": "display_data"
    }
   ],
   "source": [
    "# Modelo Habitat ~ 9 covariáveis (excluindo idRow e colony)\n",
    "fit.lda <- MASS::lda( Habitat ~ YellowUB + YellowMB + YellowFB + YellowOB + PinkUB + PinkMB + PinkFB + PinkOB + BrownUB ,prior= rep ( 1 , 6 ) / 6 , data = dadosPad  )\n",
    "fit.lda"
   ]
  },
  {
   "cell_type": "code",
   "execution_count": 20,
   "metadata": {},
   "outputs": [
    {
     "data": {
      "image/png": "[encoded data removed]",
      "text/plain": [
       "plot without title"
      ]
     },
     "metadata": {
      "image/png": {
       "height": 420,
       "width": 420
      }
     },
     "output_type": "display_data"
    }
   ],
   "source": [
    "fit.ldavalues <- predict(fit.lda, dadosPad [,c( 'YellowUB' , 'YellowMB' , 'YellowFB' , 'YellowOB' , 'PinkUB' , 'PinkMB' , 'PinkFB' , 'PinkOB' , 'BrownUB' )] )\n",
    "scores = fit.ldavalues$x %>% as.data.frame () %>% mutate ( idRow = 1:17 )\n",
    "scoresMerge = merge ( scores , dadosPad[ , c ( \"idRow\" , \"Habitat\" )] , by = 'idRow' )\n",
    "scoresMerge %>% ggplot ( aes ( x = LD1 , y = LD2 , label = Habitat , colour = Habitat) ) + \n",
    "geom_point ( ) +\n",
    "geom_text ( ) +\n",
    "labs ( title = \"Representação das colonias (duas primeiras funções discriminantes)\" , x = \"Primeira função\" , y = \"Segunda função\" )"
   ]
  },
  {
   "cell_type": "code",
   "execution_count": 21,
   "metadata": {},
   "outputs": [
    {
     "name": "stdout",
     "output_type": "stream",
     "text": [
      "            Downland beech Downside long course grass \n",
      "                         1                          1 \n",
      "       Downside short turf                  Hedgerows \n",
      "                         1                          1 \n",
      "     Mixed deciduous woods                    Oakwood \n",
      "                         1                          1 \n"
     ]
    }
   ],
   "source": [
    "ct <- table( dadosPad[ , \"Habitat\" ] ,fit.ldavalues$class)\n",
    "print ( diag ( prop.table ( ct , 1 ) ) )"
   ]
  },
  {
   "cell_type": "markdown",
   "metadata": {},
   "source": [
    "Descritivamente percebe-se que os habitats \"Oakwood\", \"Downside short turf\" e \"Downland beech\" se discriminam bem, apesar dos demais estarem aglomerados."
   ]
  },
  {
   "cell_type": "code",
   "execution_count": 22,
   "metadata": {},
   "outputs": [
    {
     "data": {
      "text/plain": [
       "                            \n",
       "                             Downland beech Downside long course grass\n",
       "  Downland beech                          2                          0\n",
       "  Downside long course grass              0                          2\n",
       "  Downside short turf                     0                          0\n",
       "  Hedgerows                               0                          0\n",
       "  Mixed deciduous woods                   0                          0\n",
       "  Oakwood                                 0                          0\n",
       "                            \n",
       "                             Downside short turf Hedgerows\n",
       "  Downland beech                               0         0\n",
       "  Downside long course grass                   0         0\n",
       "  Downside short turf                          1         0\n",
       "  Hedgerows                                    0         4\n",
       "  Mixed deciduous woods                        0         0\n",
       "  Oakwood                                      0         0\n",
       "                            \n",
       "                             Mixed deciduous woods Oakwood\n",
       "  Downland beech                                 0       0\n",
       "  Downside long course grass                     0       0\n",
       "  Downside short turf                            0       0\n",
       "  Hedgerows                                      0       0\n",
       "  Mixed deciduous woods                          5       0\n",
       "  Oakwood                                        0       3"
      ]
     },
     "metadata": {},
     "output_type": "display_data"
    }
   ],
   "source": [
    "table(dadosPad$Habitat , predict(fit.lda, dadosPad [,c(-1 , -12 , -2)],method=\"plug-in\")$class)"
   ]
  },
  {
   "cell_type": "code",
   "execution_count": 23,
   "metadata": {},
   "outputs": [
    {
     "data": {
      "text/html": [
       "<style>\n",
       ".list-inline {list-style: none; margin:0; padding: 0}\n",
       ".list-inline>li {display: inline-block}\n",
       ".list-inline>li:not(:last-child)::after {content: \"\\00b7\"; padding: 0 .5ex}\n",
       "</style>\n",
       "<ol class=list-inline><li>7.89959751558748</li><li>4.48255822115304</li><li>2.76831874568084</li><li>1.91982078731116</li><li>0.532032708092556</li></ol>\n"
      ],
      "text/latex": [
       "\\begin{enumerate*}\n",
       "\\item 7.89959751558748\n",
       "\\item 4.48255822115304\n",
       "\\item 2.76831874568084\n",
       "\\item 1.91982078731116\n",
       "\\item 0.532032708092556\n",
       "\\end{enumerate*}\n"
      ],
      "text/markdown": [
       "1. 7.89959751558748\n",
       "2. 4.48255822115304\n",
       "3. 2.76831874568084\n",
       "4. 1.91982078731116\n",
       "5. 0.532032708092556\n",
       "\n",
       "\n"
      ],
      "text/plain": [
       "[1] 7.8995975 4.4825582 2.7683187 1.9198208 0.5320327"
      ]
     },
     "metadata": {},
     "output_type": "display_data"
    }
   ],
   "source": [
    "fit.lda$svd"
   ]
  },
  {
   "cell_type": "code",
   "execution_count": 24,
   "metadata": {},
   "outputs": [
    {
     "name": "stdout",
     "output_type": "stream",
     "text": [
      "[1] 0.136677\n",
      "[1] 0.2084054\n",
      "[1] 0.2572414\n",
      "[1] 0.2449991\n",
      "[1] 0.6044046\n"
     ]
    }
   ],
   "source": [
    "# estatistica qui-quadrado\n",
    "n = 17\n",
    "p = 9\n",
    "G = 6\n",
    "\n",
    "valores = ( n - 1 - ( p + G ) / 2 ) * log ( 1 + fit.lda$svd )\n",
    "for ( i in 1:5 ){\n",
    "    \n",
    "    print ( pchisq ( valores [ i ] , df = ( p + G - 2 * i ) , lower.tail = F ) )\n",
    "    \n",
    "}"
   ]
  },
  {
   "cell_type": "markdown",
   "metadata": {},
   "source": [
    "Com base na estatística Qui-Quadrado, podemos concluir que não há evidências de que as funções de Fisher discriminem os Habitats."
   ]
  },
  {
   "cell_type": "code",
   "execution_count": 25,
   "metadata": {},
   "outputs": [],
   "source": [
    "# Limites de confianca\n",
    "numeroSimulacoes = 1e3\n",
    "autoBoot = c ( )\n",
    "i = 1\n",
    "set.seed ( 9297791 )\n",
    "\n",
    "while ( i <= numeroSimulacoes ){\n",
    "    \n",
    "    marcacaoAleat = dadosPad [ sample ( rownames ( dadosPad ) ) , \"Habitat\" ]\n",
    "    dfBoot2b = cbind(dadosPad[ , 3:11 ] , marcacaoAleat )\n",
    "    fit.ldaBoot = MASS::lda( marcacaoAleat ~ YellowUB + YellowMB + YellowFB + YellowOB + PinkUB + PinkMB + PinkFB + PinkOB + BrownUB ,prior= rep ( 1 , 6 ) / 6 , data = dfBoot2b  )\n",
    "    valoresBoot = ( n - 1 - ( p + G ) / 2 ) * log ( 1 + fit.ldaBoot$svd )\n",
    "    autoBoot = rbind ( autoBoot , valoresBoot )\n",
    "                \n",
    "    i = i + 1\n",
    "    \n",
    "    \n",
    "}"
   ]
  },
  {
   "cell_type": "code",
   "execution_count": 26,
   "metadata": {},
   "outputs": [
    {
     "data": {
      "text/html": [
       "<table>\n",
       "<caption>A data.frame: 5 × 5</caption>\n",
       "<thead>\n",
       "\t<tr><th></th><th scope=col>lambda1</th><th scope=col>lambda2</th><th scope=col>lambda3</th><th scope=col>lambda4</th><th scope=col>lambda5</th></tr>\n",
       "\t<tr><th></th><th scope=col>&lt;dbl&gt;</th><th scope=col>&lt;dbl&gt;</th><th scope=col>&lt;dbl&gt;</th><th scope=col>&lt;dbl&gt;</th><th scope=col>&lt;dbl&gt;</th></tr>\n",
       "</thead>\n",
       "<tbody>\n",
       "\t<tr><th scope=row>valoresBoot</th><td>15.09412</td><td>11.17187</td><td>10.427961</td><td>5.547993</td><td>4.442833</td></tr>\n",
       "\t<tr><th scope=row>valoresBoot.1</th><td>17.02563</td><td>10.01688</td><td> 8.072498</td><td>6.149771</td><td>3.956671</td></tr>\n",
       "\t<tr><th scope=row>valoresBoot.2</th><td>15.72736</td><td>12.08885</td><td> 9.450310</td><td>9.185966</td><td>7.366587</td></tr>\n",
       "\t<tr><th scope=row>valoresBoot.3</th><td>22.46251</td><td>15.49021</td><td>10.028010</td><td>6.887360</td><td>4.878792</td></tr>\n",
       "\t<tr><th scope=row>valoresBoot.4</th><td>19.44380</td><td>14.44868</td><td>10.388040</td><td>8.436970</td><td>6.233538</td></tr>\n",
       "</tbody>\n",
       "</table>\n"
      ],
      "text/latex": [
       "A data.frame: 5 × 5\n",
       "\\begin{tabular}{r|lllll}\n",
       "  & lambda1 & lambda2 & lambda3 & lambda4 & lambda5\\\\\n",
       "  & <dbl> & <dbl> & <dbl> & <dbl> & <dbl>\\\\\n",
       "\\hline\n",
       "\tvaloresBoot & 15.09412 & 11.17187 & 10.427961 & 5.547993 & 4.442833\\\\\n",
       "\tvaloresBoot.1 & 17.02563 & 10.01688 &  8.072498 & 6.149771 & 3.956671\\\\\n",
       "\tvaloresBoot.2 & 15.72736 & 12.08885 &  9.450310 & 9.185966 & 7.366587\\\\\n",
       "\tvaloresBoot.3 & 22.46251 & 15.49021 & 10.028010 & 6.887360 & 4.878792\\\\\n",
       "\tvaloresBoot.4 & 19.44380 & 14.44868 & 10.388040 & 8.436970 & 6.233538\\\\\n",
       "\\end{tabular}\n"
      ],
      "text/markdown": [
       "\n",
       "A data.frame: 5 × 5\n",
       "\n",
       "| <!--/--> | lambda1 &lt;dbl&gt; | lambda2 &lt;dbl&gt; | lambda3 &lt;dbl&gt; | lambda4 &lt;dbl&gt; | lambda5 &lt;dbl&gt; |\n",
       "|---|---|---|---|---|---|\n",
       "| valoresBoot | 15.09412 | 11.17187 | 10.427961 | 5.547993 | 4.442833 |\n",
       "| valoresBoot.1 | 17.02563 | 10.01688 |  8.072498 | 6.149771 | 3.956671 |\n",
       "| valoresBoot.2 | 15.72736 | 12.08885 |  9.450310 | 9.185966 | 7.366587 |\n",
       "| valoresBoot.3 | 22.46251 | 15.49021 | 10.028010 | 6.887360 | 4.878792 |\n",
       "| valoresBoot.4 | 19.44380 | 14.44868 | 10.388040 | 8.436970 | 6.233538 |\n",
       "\n"
      ],
      "text/plain": [
       "              lambda1  lambda2  lambda3   lambda4  lambda5 \n",
       "valoresBoot   15.09412 11.17187 10.427961 5.547993 4.442833\n",
       "valoresBoot.1 17.02563 10.01688  8.072498 6.149771 3.956671\n",
       "valoresBoot.2 15.72736 12.08885  9.450310 9.185966 7.366587\n",
       "valoresBoot.3 22.46251 15.49021 10.028010 6.887360 4.878792\n",
       "valoresBoot.4 19.44380 14.44868 10.388040 8.436970 6.233538"
      ]
     },
     "metadata": {},
     "output_type": "display_data"
    }
   ],
   "source": [
    "dfTesteAleat = autoBoot %>% as.data.frame ( )\n",
    "colnames ( dfTesteAleat ) = c ( \"lambda1\" , \"lambda2\" , \"lambda3\" , \"lambda4\" , \"lambda5\" )\n",
    "dfTesteAleat %>% head ( 5 )"
   ]
  },
  {
   "cell_type": "code",
   "execution_count": 27,
   "metadata": {
    "scrolled": false
   },
   "outputs": [
    {
     "name": "stdout",
     "output_type": "stream",
     "text": [
      "[1] \"Temos que, no teste de aleatorização, o nível descritivo do teste para lambda1 é dado por:0.428\"\n"
     ]
    },
    {
     "data": {
      "image/png": "[encoded data removed]",
      "text/plain": [
       "plot without title"
      ]
     },
     "metadata": {
      "image/png": {
       "height": 420,
       "width": 420
      }
     },
     "output_type": "display_data"
    },
    {
     "name": "stdout",
     "output_type": "stream",
     "text": [
      "[1] \"Temos que, no teste de aleatorização, o nível descritivo do teste para lambda2 é dado por:0.156\"\n"
     ]
    },
    {
     "data": {
      "image/png": "[encoded data removed]",
      "text/plain": [
       "plot without title"
      ]
     },
     "metadata": {
      "image/png": {
       "height": 420,
       "width": 420
      }
     },
     "output_type": "display_data"
    },
    {
     "name": "stdout",
     "output_type": "stream",
     "text": [
      "[1] \"Temos que, no teste de aleatorização, o nível descritivo do teste para lambda3 é dado por:0.079\"\n"
     ]
    },
    {
     "data": {
      "image/png": "[encoded data removed]",
      "text/plain": [
       "plot without title"
      ]
     },
     "metadata": {
      "image/png": {
       "height": 420,
       "width": 420
      }
     },
     "output_type": "display_data"
    },
    {
     "name": "stdout",
     "output_type": "stream",
     "text": [
      "[1] \"Temos que, no teste de aleatorização, o nível descritivo do teste para lambda4 é dado por:0.019\"\n"
     ]
    },
    {
     "data": {
      "image/png": "[encoded data removed]",
      "text/plain": [
       "plot without title"
      ]
     },
     "metadata": {
      "image/png": {
       "height": 420,
       "width": 420
      }
     },
     "output_type": "display_data"
    },
    {
     "name": "stdout",
     "output_type": "stream",
     "text": [
      "[1] \"Temos que, no teste de aleatorização, o nível descritivo do teste para lambda5 é dado por:0.666\"\n"
     ]
    },
    {
     "data": {
      "image/png": "[encoded data removed]",
      "text/plain": [
       "plot without title"
      ]
     },
     "metadata": {
      "image/png": {
       "height": 420,
       "width": 420
      }
     },
     "output_type": "display_data"
    }
   ],
   "source": [
    "plotDfAleat = reshape2::melt ( dfTesteAleat , id.vars = NULL )\n",
    "\n",
    "plotaValores = function ( df , valor , i ){\n",
    "        \n",
    "        dfFilt = df[ df$variable == paste0( \"lambda\" , i ) , ] %>% \n",
    "        mutate ( maiorLambda = ifelse ( value > valor , 1 , 0 ) )\n",
    "    \n",
    "        quantiles = quantile(dfFilt$value , c(0.025 , 0.975))\n",
    "        \n",
    "        plot = dfFilt %>%  \n",
    "        ggplot ( aes ( x = value ) ) + \n",
    "        geom_density ( ) +\n",
    "        geom_vline ( xintercept = quantiles[[1]] ) +\n",
    "        geom_vline ( xintercept = quantiles[[2]] ) +\n",
    "        geom_vline ( xintercept = valor , col = 'red' ) +\n",
    "        labs ( x = \"Autovalor\" , y = \"Densidade\" , title = paste0( \"Densidade da distribuição bootstrap (autovalor \" , i ,\")\" ) )\n",
    "        print ( plot ) \n",
    "    \n",
    "        print ( paste0 ( \"Temos que, no teste de aleatorização, o nível descritivo do teste para lambda\" ,\n",
    "                        i ,\n",
    "                        \" é dado por:\" ,\n",
    "                        mean ( dfFilt$maiorLambda )\n",
    "                       ) )\n",
    "            \n",
    "}\n",
    "\n",
    "for ( i in 1:5 ){\n",
    "    \n",
    "    plotaValores ( plotDfAleat , valores[ i ] , i )\n",
    "    \n",
    "}"
   ]
  },
  {
   "cell_type": "markdown",
   "metadata": {},
   "source": [
    "A partir do teste de aleatorização, conclui-se que apenas a função associada ao quarto autovalor não discrimina ao acaso (enquanto não há evidências para a mesma conclusão em relação aos demais autovalores)."
   ]
  },
  {
   "cell_type": "markdown",
   "metadata": {},
   "source": [
    "3. Agora, considere os dados dos caracóis com o objetivo de calcular a correlação canônica entre os dois conjuntos de variáveis definidas para conchas yellow e pink (com p=q=4). Calcule os coeficientes de correlação canônicos para estes dados. Quais variáveis mais contribuíram para a correlação? Obtenha também, para cada coeficiente, intervalos bootstrap de 95% de confiança. Esses intervalos incluem o zero?"
   ]
  },
  {
   "cell_type": "code",
   "execution_count": 28,
   "metadata": {},
   "outputs": [],
   "source": [
    "yellow = dadosPad [,c( 'YellowUB' , 'YellowMB' , 'YellowFB' , 'YellowOB')]\n",
    "pink = dadosPad [,c( 'PinkUB' , 'PinkMB' , 'PinkFB' , 'PinkOB')]\n",
    "corrCan = cancor( yellow , pink )"
   ]
  },
  {
   "cell_type": "code",
   "execution_count": 29,
   "metadata": {},
   "outputs": [
    {
     "name": "stdout",
     "output_type": "stream",
     "text": [
      "[1] \"Coeficiente 1 de correlação canônica: 0.833606309653776\"\n",
      "[2] \"Coeficiente 2 de correlação canônica: 0.712930376796804\"\n",
      "[3] \"Coeficiente 3 de correlação canônica: 0.501893762739201\"\n",
      "[4] \"Coeficiente 4 de correlação canônica: 0.10706845838606\" \n",
      "[1] \"Os primeiros 2 coeficientes são maiores do que a média\"\n"
     ]
    }
   ],
   "source": [
    "print ( paste0 ( \"Coeficiente \" , 1:4 , \" de correlação canônica: \" , corrCan$cor ) )\n",
    "print ( paste0 ( \"Os primeiros \" , length ( which ( corrCan$cor >= mean (corrCan$cor) ) ) , \" coeficientes são maiores do que a média\" ) )"
   ]
  },
  {
   "cell_type": "code",
   "execution_count": 30,
   "metadata": {},
   "outputs": [
    {
     "data": {
      "text/html": [
       "<table>\n",
       "<caption>A matrix: 4 × 4 of type dbl</caption>\n",
       "<tbody>\n",
       "\t<tr><th scope=row>YellowUB</th><td>-0.15899658</td><td>-0.06986814</td><td> 0.07852641</td><td> 0.19392506</td></tr>\n",
       "\t<tr><th scope=row>YellowMB</th><td> 0.05463863</td><td>-0.19889762</td><td> 0.04340587</td><td>-0.17400158</td></tr>\n",
       "\t<tr><th scope=row>YellowFB</th><td>-0.12171530</td><td>-0.08043214</td><td>-0.25064969</td><td> 0.08312324</td></tr>\n",
       "\t<tr><th scope=row>YellowOB</th><td>-0.11495999</td><td> 0.07605827</td><td> 0.15570355</td><td>-0.22303777</td></tr>\n",
       "</tbody>\n",
       "</table>\n"
      ],
      "text/latex": [
       "A matrix: 4 × 4 of type dbl\n",
       "\\begin{tabular}{r|llll}\n",
       "\tYellowUB & -0.15899658 & -0.06986814 &  0.07852641 &  0.19392506\\\\\n",
       "\tYellowMB &  0.05463863 & -0.19889762 &  0.04340587 & -0.17400158\\\\\n",
       "\tYellowFB & -0.12171530 & -0.08043214 & -0.25064969 &  0.08312324\\\\\n",
       "\tYellowOB & -0.11495999 &  0.07605827 &  0.15570355 & -0.22303777\\\\\n",
       "\\end{tabular}\n"
      ],
      "text/markdown": [
       "\n",
       "A matrix: 4 × 4 of type dbl\n",
       "\n",
       "| YellowUB | -0.15899658 | -0.06986814 |  0.07852641 |  0.19392506 |\n",
       "| YellowMB |  0.05463863 | -0.19889762 |  0.04340587 | -0.17400158 |\n",
       "| YellowFB | -0.12171530 | -0.08043214 | -0.25064969 |  0.08312324 |\n",
       "| YellowOB | -0.11495999 |  0.07605827 |  0.15570355 | -0.22303777 |\n",
       "\n"
      ],
      "text/plain": [
       "         [,1]        [,2]        [,3]        [,4]       \n",
       "YellowUB -0.15899658 -0.06986814  0.07852641  0.19392506\n",
       "YellowMB  0.05463863 -0.19889762  0.04340587 -0.17400158\n",
       "YellowFB -0.12171530 -0.08043214 -0.25064969  0.08312324\n",
       "YellowOB -0.11495999  0.07605827  0.15570355 -0.22303777"
      ]
     },
     "metadata": {},
     "output_type": "display_data"
    },
    {
     "data": {
      "text/html": [
       "<table>\n",
       "<caption>A matrix: 4 × 4 of type dbl</caption>\n",
       "<tbody>\n",
       "\t<tr><th scope=row>PinkUB</th><td> 0.11151305</td><td> 0.09159543</td><td> 0.12310150</td><td> 0.2093691</td></tr>\n",
       "\t<tr><th scope=row>PinkMB</th><td> 0.21959427</td><td>-0.01686966</td><td>-0.09384067</td><td>-0.1634551</td></tr>\n",
       "\t<tr><th scope=row>PinkFB</th><td> 0.15202943</td><td> 0.04679939</td><td>-0.32529201</td><td> 0.1377263</td></tr>\n",
       "\t<tr><th scope=row>PinkOB</th><td>-0.07078696</td><td> 0.22954460</td><td> 0.23672285</td><td>-0.1299163</td></tr>\n",
       "</tbody>\n",
       "</table>\n"
      ],
      "text/latex": [
       "A matrix: 4 × 4 of type dbl\n",
       "\\begin{tabular}{r|llll}\n",
       "\tPinkUB &  0.11151305 &  0.09159543 &  0.12310150 &  0.2093691\\\\\n",
       "\tPinkMB &  0.21959427 & -0.01686966 & -0.09384067 & -0.1634551\\\\\n",
       "\tPinkFB &  0.15202943 &  0.04679939 & -0.32529201 &  0.1377263\\\\\n",
       "\tPinkOB & -0.07078696 &  0.22954460 &  0.23672285 & -0.1299163\\\\\n",
       "\\end{tabular}\n"
      ],
      "text/markdown": [
       "\n",
       "A matrix: 4 × 4 of type dbl\n",
       "\n",
       "| PinkUB |  0.11151305 |  0.09159543 |  0.12310150 |  0.2093691 |\n",
       "| PinkMB |  0.21959427 | -0.01686966 | -0.09384067 | -0.1634551 |\n",
       "| PinkFB |  0.15202943 |  0.04679939 | -0.32529201 |  0.1377263 |\n",
       "| PinkOB | -0.07078696 |  0.22954460 |  0.23672285 | -0.1299163 |\n",
       "\n"
      ],
      "text/plain": [
       "       [,1]        [,2]        [,3]        [,4]      \n",
       "PinkUB  0.11151305  0.09159543  0.12310150  0.2093691\n",
       "PinkMB  0.21959427 -0.01686966 -0.09384067 -0.1634551\n",
       "PinkFB  0.15202943  0.04679939 -0.32529201  0.1377263\n",
       "PinkOB -0.07078696  0.22954460  0.23672285 -0.1299163"
      ]
     },
     "metadata": {},
     "output_type": "display_data"
    }
   ],
   "source": [
    "corrCan$xcoef\n",
    "corrCan$ycoef"
   ]
  },
  {
   "cell_type": "markdown",
   "metadata": {},
   "source": [
    "Variáveis importantes para a correlação:\n",
    "* Primeira combinação - todas, menos YellowMB e PinkOB;\n",
    "* Segunda combinação - YellowMB e PinkOB;\n",
    "* Terceira combinação - YellowFB , YellowOB , PinkFB e PinkOB\n",
    "* Quarta combinação - todas, menos YellowFB"
   ]
  },
  {
   "cell_type": "markdown",
   "metadata": {},
   "source": [
    "Agora, os intervalos bootstrap:"
   ]
  },
  {
   "cell_type": "code",
   "execution_count": 31,
   "metadata": {},
   "outputs": [],
   "source": [
    "numeroSimulacoes = 1e3\n",
    "corBoot = c ( )\n",
    "i = 1\n",
    "set.seed ( 9297791 )\n",
    "\n",
    "while ( i <= numeroSimulacoes ){\n",
    "    \n",
    "    datBoot = dadosPad [ sample ( rownames ( dadosPad ) , replace = T ) , ]\n",
    "    yellowBoot = datBoot [,c( 'YellowUB' , 'YellowMB' , 'YellowFB' , 'YellowOB')]\n",
    "    pinkBoot = datBoot [,c( 'PinkUB' , 'PinkMB' , 'PinkFB' , 'PinkOB')]\n",
    "    corrCanBoot = cancor( yellowBoot , pinkBoot )\n",
    "    calcCorrBoot = corrCanBoot$cor\n",
    "    corBoot = rbind ( corBoot , calcCorrBoot )\n",
    "                \n",
    "    i = i + 1\n",
    "    \n",
    "    \n",
    "}"
   ]
  },
  {
   "cell_type": "code",
   "execution_count": 32,
   "metadata": {},
   "outputs": [
    {
     "data": {
      "text/html": [
       "<table>\n",
       "<caption>A data.frame: 5 × 4</caption>\n",
       "<thead>\n",
       "\t<tr><th></th><th scope=col>cor1</th><th scope=col>cor2</th><th scope=col>cor3</th><th scope=col>cor4</th></tr>\n",
       "\t<tr><th></th><th scope=col>&lt;dbl&gt;</th><th scope=col>&lt;dbl&gt;</th><th scope=col>&lt;dbl&gt;</th><th scope=col>&lt;dbl&gt;</th></tr>\n",
       "</thead>\n",
       "<tbody>\n",
       "\t<tr><th scope=row>calcCorrBoot</th><td>0.8947774</td><td>0.8009356</td><td>0.4293503</td><td>0.1752355</td></tr>\n",
       "\t<tr><th scope=row>calcCorrBoot.1</th><td>0.9975877</td><td>0.9541043</td><td>0.8602290</td><td>0.3387262</td></tr>\n",
       "\t<tr><th scope=row>calcCorrBoot.2</th><td>0.8192977</td><td>0.6632582</td><td>0.5644352</td><td>0.4623929</td></tr>\n",
       "\t<tr><th scope=row>calcCorrBoot.3</th><td>0.9919917</td><td>0.8022785</td><td>0.2639366</td><td>0.1820283</td></tr>\n",
       "\t<tr><th scope=row>calcCorrBoot.4</th><td>0.9770748</td><td>0.9335160</td><td>0.5179401</td><td>0.1703673</td></tr>\n",
       "</tbody>\n",
       "</table>\n"
      ],
      "text/latex": [
       "A data.frame: 5 × 4\n",
       "\\begin{tabular}{r|llll}\n",
       "  & cor1 & cor2 & cor3 & cor4\\\\\n",
       "  & <dbl> & <dbl> & <dbl> & <dbl>\\\\\n",
       "\\hline\n",
       "\tcalcCorrBoot & 0.8947774 & 0.8009356 & 0.4293503 & 0.1752355\\\\\n",
       "\tcalcCorrBoot.1 & 0.9975877 & 0.9541043 & 0.8602290 & 0.3387262\\\\\n",
       "\tcalcCorrBoot.2 & 0.8192977 & 0.6632582 & 0.5644352 & 0.4623929\\\\\n",
       "\tcalcCorrBoot.3 & 0.9919917 & 0.8022785 & 0.2639366 & 0.1820283\\\\\n",
       "\tcalcCorrBoot.4 & 0.9770748 & 0.9335160 & 0.5179401 & 0.1703673\\\\\n",
       "\\end{tabular}\n"
      ],
      "text/markdown": [
       "\n",
       "A data.frame: 5 × 4\n",
       "\n",
       "| <!--/--> | cor1 &lt;dbl&gt; | cor2 &lt;dbl&gt; | cor3 &lt;dbl&gt; | cor4 &lt;dbl&gt; |\n",
       "|---|---|---|---|---|\n",
       "| calcCorrBoot | 0.8947774 | 0.8009356 | 0.4293503 | 0.1752355 |\n",
       "| calcCorrBoot.1 | 0.9975877 | 0.9541043 | 0.8602290 | 0.3387262 |\n",
       "| calcCorrBoot.2 | 0.8192977 | 0.6632582 | 0.5644352 | 0.4623929 |\n",
       "| calcCorrBoot.3 | 0.9919917 | 0.8022785 | 0.2639366 | 0.1820283 |\n",
       "| calcCorrBoot.4 | 0.9770748 | 0.9335160 | 0.5179401 | 0.1703673 |\n",
       "\n"
      ],
      "text/plain": [
       "               cor1      cor2      cor3      cor4     \n",
       "calcCorrBoot   0.8947774 0.8009356 0.4293503 0.1752355\n",
       "calcCorrBoot.1 0.9975877 0.9541043 0.8602290 0.3387262\n",
       "calcCorrBoot.2 0.8192977 0.6632582 0.5644352 0.4623929\n",
       "calcCorrBoot.3 0.9919917 0.8022785 0.2639366 0.1820283\n",
       "calcCorrBoot.4 0.9770748 0.9335160 0.5179401 0.1703673"
      ]
     },
     "metadata": {},
     "output_type": "display_data"
    }
   ],
   "source": [
    "dfcorBoot = corBoot %>% as.data.frame ( )\n",
    "colnames ( dfcorBoot ) = c ( \"cor1\" , \"cor2\" , \"cor3\" , \"cor4\" )\n",
    "dfcorBoot %>% head ( 5 )"
   ]
  },
  {
   "cell_type": "code",
   "execution_count": 33,
   "metadata": {},
   "outputs": [
    {
     "data": {
      "image/png": "[encoded data removed]",
      "text/plain": [
       "plot without title"
      ]
     },
     "metadata": {
      "image/png": {
       "height": 420,
       "width": 420
      }
     },
     "output_type": "display_data"
    },
    {
     "data": {
      "image/png": "[encoded data removed]",
      "text/plain": [
       "plot without title"
      ]
     },
     "metadata": {
      "image/png": {
       "height": 420,
       "width": 420
      }
     },
     "output_type": "display_data"
    },
    {
     "data": {
      "image/png": "[encoded data removed]",
      "text/plain": [
       "plot without title"
      ]
     },
     "metadata": {
      "image/png": {
       "height": 420,
       "width": 420
      }
     },
     "output_type": "display_data"
    },
    {
     "data": {
      "image/png": "[encoded data removed]",
      "text/plain": [
       "plot without title"
      ]
     },
     "metadata": {
      "image/png": {
       "height": 420,
       "width": 420
      }
     },
     "output_type": "display_data"
    }
   ],
   "source": [
    "plotDfCor = reshape2::melt ( dfcorBoot , id.vars = NULL )\n",
    "plotaValores = function ( df , valor , i ){\n",
    "        \n",
    "        dfFilt = df[ df$variable == paste0( \"cor\" , i ) , ]\n",
    "        quantiles = quantile(dfFilt$value , c(0.025 , 0.975))\n",
    "        \n",
    "        if ( i == 1){\n",
    "            titulo = \"primeira\"\n",
    "        } else if ( i == 2 ){\n",
    "            titulo = \"segunda\"\n",
    "        } else if( i == 3 ){\n",
    "            titulo = \"terceira\"\n",
    "        } else { titulo = \"quarta\" }\n",
    "        \n",
    "        plot = dfFilt %>%  \n",
    "        ggplot ( aes ( x = value ) ) + \n",
    "        geom_density ( ) +\n",
    "        geom_vline ( xintercept = quantiles[[1]] ) +\n",
    "        geom_vline ( xintercept = quantiles[[2]] ) +\n",
    "        geom_vline ( xintercept = valor , col = 'red' ) +\n",
    "        labs ( x = \"Correlação canônica\" , y = \"Densidade\" , title = paste0( \"Densidade da distribuição bootstrap (\" , titulo , \" combinação de vars)\" ) )\n",
    "        print ( plot ) \n",
    "                \n",
    "}\n",
    "\n",
    "for ( i in 1:4 ){\n",
    "    \n",
    "    plotaValores ( plotDfCor , corrCan$cor[ i ] , i )\n",
    "    \n",
    "}"
   ]
  },
  {
   "cell_type": "code",
   "execution_count": 34,
   "metadata": {},
   "outputs": [
    {
     "name": "stdout",
     "output_type": "stream",
     "text": [
      "[1] \"O intervalo bootstrap para a primeira combinação é dado por [0.82;1]\"\n",
      "[1] \"O intervalo bootstrap para a segunda combinação é dado por [0.61;0.97]\"\n",
      "[1] \"O intervalo bootstrap para a terceira combinação é dado por [0.25;0.82]\"\n",
      "[1] \"O intervalo bootstrap para a quarta combinação é dado por [0.01;0.47]\"\n"
     ]
    }
   ],
   "source": [
    "printLC = function ( num , vetor ){\n",
    "    \n",
    "    quantis = quantile ( vetor , c ( .025 , .975 ) )\n",
    "    if ( i == 1){\n",
    "        titulo = \"primeira\"\n",
    "    } else if ( i == 2 ){\n",
    "        titulo = \"segunda\"\n",
    "    } else if( i == 3 ){\n",
    "        titulo = \"terceira\"\n",
    "    } else { titulo = \"quarta\" }\n",
    "\n",
    "    print ( paste0 ( \"O intervalo bootstrap para a \" , \n",
    "                    titulo ,\n",
    "                   \" combinação é dado por [\" ,\n",
    "                    round ( quantis[[1]] , 2 ) ,\n",
    "                    \";\" ,\n",
    "                    round ( quantis[[2]] , 2 ) ,\n",
    "                    \"]\"\n",
    "                   ) )\n",
    "    \n",
    "}\n",
    "\n",
    "for ( i in 1:4 ){\n",
    "    \n",
    "    printLC ( i , dfcorBoot[ , paste0 ( \"cor\" , i ) ] )\n",
    "    \n",
    "}\n"
   ]
  },
  {
   "cell_type": "markdown",
   "metadata": {},
   "source": [
    "Como pode-se observar, para nenhuma das combinações lineares o intervalo inclui o 0 (a 95% de confiança)."
   ]
  }
 ],
 "metadata": {
  "kernelspec": {
   "display_name": "R",
   "language": "R",
   "name": "ir"
  },
  "language_info": {
   "codemirror_mode": "r",
   "file_extension": ".r",
   "mimetype": "text/x-r-source",
   "name": "R",
   "pygments_lexer": "r",
   "version": "3.6.3"
  }
 },
 "nbformat": 4,
 "nbformat_minor": 2
}
